{
 "cells": [
  {
   "cell_type": "markdown",
   "id": "847c2dde",
   "metadata": {},
   "source": [
    "## Dataset - Insurance\n"
   ]
  },
  {
   "cell_type": "markdown",
   "id": "a5a8944e",
   "metadata": {},
   "source": [
    "## **Need for the study:**\n",
    "\n",
    "Tentative Business Problem- \n",
    "    \n",
    "There is an insurance company and they would like to know which category of people are claiming insurance. An insurance claim is a formal request by a policyholder to an insurance company for coverage or compensation for a covered loss or policy event. We wish to predict the insurance claim of a person based on their general health and demographic conditions. Then we would like to classify whether a person is seeking a high claim- 15,000 $.\n",
    "\n",
    "------> Premiums will be decided based on the predicted claims - A very important application of predicting the possible claim "
   ]
  },
  {
   "cell_type": "markdown",
   "id": "e21b10bc",
   "metadata": {},
   "source": [
    "## **Initial hypothesis on the Columns: Hypothesis Generation**\n",
    "\n",
    "The dataset consists of 1340 patients, and their general health conditions. There are various factors corroborated to claim insurance from the company.\n",
    "\n",
    "**age:** \n",
    "The patients ages vary from 18 to 60. Almost 50% lie from 29- 47 ages. We can hypothesise that senior citizens are more prone to claim the insurance.\n",
    "\n",
    "**gender:**\n",
    "There appear to be approximately equal number of males and females. Generally females have higher life expectancy. So we have to check whether the insurance claim is gender specific or not.  \n",
    "\n",
    "\n",
    "\n",
    "**bmi:**\n",
    "The average bmi range for healthy people is 18.5—24.9. So the patients above (and below) the healthy range might claim higher insurance amount due to their obesity/ underweight.  \n",
    "\n",
    "\n",
    "**bloodpressure**\n",
    "For 19- 40 years of age, the blood pressure should be between 90-120 mm Hg. The patients not belonging to these ranges might have higher probability of claiming insurance.  \n",
    "\n",
    "**diabetic**\n",
    "Diabetes is a general sign of poor health and malaise. The patients with diabetes might claim higher insurance.\n",
    "\n",
    "\n",
    "**children:**\n",
    "The number of children of the patient indicates the number of dependents on the person. We can hypothesise that the number of dependents is directly proportional to the insurance amount claimed.\n",
    "\n",
    "**smoker:**\n",
    "Smoking is injurious to health and can cause health complications. We can find out whether smoking leads to higher insurance claims or not.  \n",
    "\n",
    "\n",
    "**region:**\n",
    "Patients of the same region might have similar patterns to insurance claims. We can find out which region has higher number of customers. We can hypothesise that the average claims of all the regions are equal.\n",
    "\n",
    "\n",
    "**claim:**\n",
    "This can be our target variable for the business problem. We wish to find out the impact of the aforementioned features on the insurance claims.\n",
    "\n"
   ]
  },
  {
   "cell_type": "markdown",
   "id": "22ee94a8",
   "metadata": {},
   "source": [
    "## **Evaluation Criteria**\n",
    "\n",
    "Since the problem appears to be Classification analysis, we can evaluate the target as 'Claim', based on Precision and Recall, or F1 Score to be better. The corresponding AUC-ROC can also be noted. "
   ]
  },
  {
   "cell_type": "code",
   "execution_count": 1,
   "id": "59e02d5c",
   "metadata": {
    "scrolled": true
   },
   "outputs": [],
   "source": [
    "#Importing the necessary libraries\n",
    "import os\n",
    "import numpy as np\n",
    "import pandas as pd\n",
    "import matplotlib.pyplot as plt\n",
    "import seaborn as sns\n",
    "import warnings\n",
    "warnings.filterwarnings(\"ignore\")\n",
    "#import libray for linear regression\n",
    "from sklearn.linear_model import LinearRegression\n",
    "#importing from calculating R-score\n",
    "from sklearn.metrics import r2_score\n",
    "\n",
    "from scipy import stats\n",
    "\n",
    "from   statsmodels.formula.api import ols\n",
    "import scipy.stats as stats\n",
    "import statsmodels.api as sm\n",
    "\n",
    "#For test-train split\n",
    "from sklearn.model_selection import train_test_split\n",
    "\n",
    "#For fitting regression tree\n",
    "from sklearn.tree import DecisionTreeRegressor\n",
    "\n",
    "#For plotting a decision tree\n",
    "from sklearn import tree\n",
    "\n",
    "#For getting the r_score value\n",
    "from sklearn.metrics import r2_score\n",
    "\n",
    "#For cross validation\n",
    "from sklearn.model_selection import cross_val_score\n"
   ]
  },
  {
   "cell_type": "code",
   "execution_count": 8,
   "id": "5753694d",
   "metadata": {},
   "outputs": [
    {
     "data": {
      "text/html": [
       "<div>\n",
       "<style scoped>\n",
       "    .dataframe tbody tr th:only-of-type {\n",
       "        vertical-align: middle;\n",
       "    }\n",
       "\n",
       "    .dataframe tbody tr th {\n",
       "        vertical-align: top;\n",
       "    }\n",
       "\n",
       "    .dataframe thead th {\n",
       "        text-align: right;\n",
       "    }\n",
       "</style>\n",
       "<table border=\"1\" class=\"dataframe\">\n",
       "  <thead>\n",
       "    <tr style=\"text-align: right;\">\n",
       "      <th></th>\n",
       "      <th>PatientID</th>\n",
       "      <th>age</th>\n",
       "      <th>gender</th>\n",
       "      <th>bmi</th>\n",
       "      <th>bloodpressure</th>\n",
       "      <th>diabetic</th>\n",
       "      <th>children</th>\n",
       "      <th>smoker</th>\n",
       "      <th>region</th>\n",
       "      <th>claim</th>\n",
       "    </tr>\n",
       "  </thead>\n",
       "  <tbody>\n",
       "    <tr>\n",
       "      <th>0</th>\n",
       "      <td>1</td>\n",
       "      <td>39.0</td>\n",
       "      <td>male</td>\n",
       "      <td>23.2</td>\n",
       "      <td>91</td>\n",
       "      <td>Yes</td>\n",
       "      <td>0</td>\n",
       "      <td>No</td>\n",
       "      <td>southeast</td>\n",
       "      <td>1121.87</td>\n",
       "    </tr>\n",
       "    <tr>\n",
       "      <th>1</th>\n",
       "      <td>2</td>\n",
       "      <td>24.0</td>\n",
       "      <td>male</td>\n",
       "      <td>30.1</td>\n",
       "      <td>87</td>\n",
       "      <td>No</td>\n",
       "      <td>0</td>\n",
       "      <td>No</td>\n",
       "      <td>southeast</td>\n",
       "      <td>1131.51</td>\n",
       "    </tr>\n",
       "    <tr>\n",
       "      <th>2</th>\n",
       "      <td>3</td>\n",
       "      <td>NaN</td>\n",
       "      <td>male</td>\n",
       "      <td>33.3</td>\n",
       "      <td>82</td>\n",
       "      <td>Yes</td>\n",
       "      <td>0</td>\n",
       "      <td>No</td>\n",
       "      <td>southeast</td>\n",
       "      <td>1135.94</td>\n",
       "    </tr>\n",
       "    <tr>\n",
       "      <th>3</th>\n",
       "      <td>4</td>\n",
       "      <td>NaN</td>\n",
       "      <td>male</td>\n",
       "      <td>33.7</td>\n",
       "      <td>80</td>\n",
       "      <td>No</td>\n",
       "      <td>0</td>\n",
       "      <td>No</td>\n",
       "      <td>northwest</td>\n",
       "      <td>1136.40</td>\n",
       "    </tr>\n",
       "    <tr>\n",
       "      <th>4</th>\n",
       "      <td>5</td>\n",
       "      <td>NaN</td>\n",
       "      <td>male</td>\n",
       "      <td>34.1</td>\n",
       "      <td>100</td>\n",
       "      <td>No</td>\n",
       "      <td>0</td>\n",
       "      <td>No</td>\n",
       "      <td>northwest</td>\n",
       "      <td>1137.01</td>\n",
       "    </tr>\n",
       "  </tbody>\n",
       "</table>\n",
       "</div>"
      ],
      "text/plain": [
       "   PatientID   age gender   bmi  bloodpressure diabetic  children smoker  \\\n",
       "0          1  39.0   male  23.2             91      Yes         0     No   \n",
       "1          2  24.0   male  30.1             87       No         0     No   \n",
       "2          3   NaN   male  33.3             82      Yes         0     No   \n",
       "3          4   NaN   male  33.7             80       No         0     No   \n",
       "4          5   NaN   male  34.1            100       No         0     No   \n",
       "\n",
       "      region    claim  \n",
       "0  southeast  1121.87  \n",
       "1  southeast  1131.51  \n",
       "2  southeast  1135.94  \n",
       "3  northwest  1136.40  \n",
       "4  northwest  1137.01  "
      ]
     },
     "execution_count": 8,
     "metadata": {},
     "output_type": "execute_result"
    }
   ],
   "source": [
    "os.chdir(r'/Users/tejas/Downloads')\n",
    "data = pd.read_csv('insurance_data.csv')\n",
    "data.head()"
   ]
  },
  {
   "cell_type": "code",
   "execution_count": 9,
   "id": "550bb00c",
   "metadata": {},
   "outputs": [
    {
     "data": {
      "text/plain": [
       "Index(['PatientID', 'age', 'gender', 'bmi', 'bloodpressure', 'diabetic',\n",
       "       'children', 'smoker', 'region', 'claim'],\n",
       "      dtype='object')"
      ]
     },
     "execution_count": 9,
     "metadata": {},
     "output_type": "execute_result"
    }
   ],
   "source": [
    "data.columns"
   ]
  },
  {
   "cell_type": "code",
   "execution_count": 10,
   "id": "ed228794",
   "metadata": {},
   "outputs": [],
   "source": [
    "data[\"claim\"]= data[\"claim\"].apply(lambda x:'High' if x>15000 else 'Low')"
   ]
  },
  {
   "cell_type": "code",
   "execution_count": 11,
   "id": "7c084366",
   "metadata": {},
   "outputs": [
    {
     "data": {
      "text/html": [
       "<div>\n",
       "<style scoped>\n",
       "    .dataframe tbody tr th:only-of-type {\n",
       "        vertical-align: middle;\n",
       "    }\n",
       "\n",
       "    .dataframe tbody tr th {\n",
       "        vertical-align: top;\n",
       "    }\n",
       "\n",
       "    .dataframe thead th {\n",
       "        text-align: right;\n",
       "    }\n",
       "</style>\n",
       "<table border=\"1\" class=\"dataframe\">\n",
       "  <thead>\n",
       "    <tr style=\"text-align: right;\">\n",
       "      <th></th>\n",
       "      <th>PatientID</th>\n",
       "      <th>age</th>\n",
       "      <th>gender</th>\n",
       "      <th>bmi</th>\n",
       "      <th>bloodpressure</th>\n",
       "      <th>diabetic</th>\n",
       "      <th>children</th>\n",
       "      <th>smoker</th>\n",
       "      <th>region</th>\n",
       "      <th>claim</th>\n",
       "    </tr>\n",
       "  </thead>\n",
       "  <tbody>\n",
       "    <tr>\n",
       "      <th>0</th>\n",
       "      <td>1</td>\n",
       "      <td>39.0</td>\n",
       "      <td>male</td>\n",
       "      <td>23.2</td>\n",
       "      <td>91</td>\n",
       "      <td>Yes</td>\n",
       "      <td>0</td>\n",
       "      <td>No</td>\n",
       "      <td>southeast</td>\n",
       "      <td>Low</td>\n",
       "    </tr>\n",
       "    <tr>\n",
       "      <th>1</th>\n",
       "      <td>2</td>\n",
       "      <td>24.0</td>\n",
       "      <td>male</td>\n",
       "      <td>30.1</td>\n",
       "      <td>87</td>\n",
       "      <td>No</td>\n",
       "      <td>0</td>\n",
       "      <td>No</td>\n",
       "      <td>southeast</td>\n",
       "      <td>Low</td>\n",
       "    </tr>\n",
       "    <tr>\n",
       "      <th>2</th>\n",
       "      <td>3</td>\n",
       "      <td>NaN</td>\n",
       "      <td>male</td>\n",
       "      <td>33.3</td>\n",
       "      <td>82</td>\n",
       "      <td>Yes</td>\n",
       "      <td>0</td>\n",
       "      <td>No</td>\n",
       "      <td>southeast</td>\n",
       "      <td>Low</td>\n",
       "    </tr>\n",
       "    <tr>\n",
       "      <th>3</th>\n",
       "      <td>4</td>\n",
       "      <td>NaN</td>\n",
       "      <td>male</td>\n",
       "      <td>33.7</td>\n",
       "      <td>80</td>\n",
       "      <td>No</td>\n",
       "      <td>0</td>\n",
       "      <td>No</td>\n",
       "      <td>northwest</td>\n",
       "      <td>Low</td>\n",
       "    </tr>\n",
       "    <tr>\n",
       "      <th>4</th>\n",
       "      <td>5</td>\n",
       "      <td>NaN</td>\n",
       "      <td>male</td>\n",
       "      <td>34.1</td>\n",
       "      <td>100</td>\n",
       "      <td>No</td>\n",
       "      <td>0</td>\n",
       "      <td>No</td>\n",
       "      <td>northwest</td>\n",
       "      <td>Low</td>\n",
       "    </tr>\n",
       "  </tbody>\n",
       "</table>\n",
       "</div>"
      ],
      "text/plain": [
       "   PatientID   age gender   bmi  bloodpressure diabetic  children smoker  \\\n",
       "0          1  39.0   male  23.2             91      Yes         0     No   \n",
       "1          2  24.0   male  30.1             87       No         0     No   \n",
       "2          3   NaN   male  33.3             82      Yes         0     No   \n",
       "3          4   NaN   male  33.7             80       No         0     No   \n",
       "4          5   NaN   male  34.1            100       No         0     No   \n",
       "\n",
       "      region claim  \n",
       "0  southeast   Low  \n",
       "1  southeast   Low  \n",
       "2  southeast   Low  \n",
       "3  northwest   Low  \n",
       "4  northwest   Low  "
      ]
     },
     "execution_count": 11,
     "metadata": {},
     "output_type": "execute_result"
    }
   ],
   "source": [
    "data.head()"
   ]
  },
  {
   "cell_type": "code",
   "execution_count": 12,
   "id": "19e754ee",
   "metadata": {},
   "outputs": [
    {
     "data": {
      "text/plain": [
       "PatientID          int64\n",
       "age              float64\n",
       "gender            object\n",
       "bmi              float64\n",
       "bloodpressure      int64\n",
       "diabetic          object\n",
       "children           int64\n",
       "smoker            object\n",
       "region            object\n",
       "claim             object\n",
       "dtype: object"
      ]
     },
     "execution_count": 12,
     "metadata": {},
     "output_type": "execute_result"
    }
   ],
   "source": [
    "data.dtypes"
   ]
  },
  {
   "cell_type": "code",
   "execution_count": 13,
   "id": "40796c7b",
   "metadata": {},
   "outputs": [
    {
     "data": {
      "text/plain": [
       "PatientID         0\n",
       "age               5\n",
       "gender            0\n",
       "bmi               0\n",
       "bloodpressure     0\n",
       "diabetic          0\n",
       "children          0\n",
       "smoker            0\n",
       "region           17\n",
       "claim             0\n",
       "dtype: int64"
      ]
     },
     "execution_count": 13,
     "metadata": {},
     "output_type": "execute_result"
    }
   ],
   "source": [
    "data.isnull().sum()"
   ]
  },
  {
   "cell_type": "code",
   "execution_count": 14,
   "id": "9e94edfd",
   "metadata": {},
   "outputs": [
    {
     "data": {
      "text/plain": [
       "(1340, 10)"
      ]
     },
     "execution_count": 14,
     "metadata": {},
     "output_type": "execute_result"
    }
   ],
   "source": [
    "data.shape"
   ]
  },
  {
   "cell_type": "code",
   "execution_count": 15,
   "id": "9d55436f",
   "metadata": {},
   "outputs": [
    {
     "data": {
      "text/plain": [
       "0    southeast\n",
       "dtype: object"
      ]
     },
     "execution_count": 15,
     "metadata": {},
     "output_type": "execute_result"
    }
   ],
   "source": [
    "data.region.mode()"
   ]
  },
  {
   "cell_type": "markdown",
   "id": "645f219d",
   "metadata": {},
   "source": [
    "## **Data Cleaning**"
   ]
  },
  {
   "cell_type": "markdown",
   "id": "55634360",
   "metadata": {},
   "source": [
    "Data appreciation\n",
    "•\tRelevance, quality, availability of data\n",
    "\n",
    "The dataset is quite relevant for evaluating the insurance claims as it involves the health and general conditions of the patient. However, there are few null values especially in ages and region. We would need to appropriately modify the data before having a further analysis and Hypothesis Testing.\n",
    "\n",
    "There could be further availability of data regarding Patient/Family income, Working status, Type of Insurance and so on."
   ]
  },
  {
   "cell_type": "markdown",
   "id": "5817f6a9",
   "metadata": {},
   "source": [
    "Since, there are 5 null values in age, and 17 null values in region, they can be modified for further analysis.\n"
   ]
  },
  {
   "cell_type": "markdown",
   "id": "69603bd4",
   "metadata": {},
   "source": []
  },
  {
   "cell_type": "code",
   "execution_count": 172,
   "id": "396ff352",
   "metadata": {},
   "outputs": [
    {
     "data": {
      "text/html": [
       "<div>\n",
       "<style scoped>\n",
       "    .dataframe tbody tr th:only-of-type {\n",
       "        vertical-align: middle;\n",
       "    }\n",
       "\n",
       "    .dataframe tbody tr th {\n",
       "        vertical-align: top;\n",
       "    }\n",
       "\n",
       "    .dataframe thead th {\n",
       "        text-align: right;\n",
       "    }\n",
       "</style>\n",
       "<table border=\"1\" class=\"dataframe\">\n",
       "  <thead>\n",
       "    <tr style=\"text-align: right;\">\n",
       "      <th></th>\n",
       "      <th>PatientID</th>\n",
       "      <th>age</th>\n",
       "      <th>gender</th>\n",
       "      <th>bmi</th>\n",
       "      <th>bloodpressure</th>\n",
       "      <th>diabetic</th>\n",
       "      <th>children</th>\n",
       "      <th>smoker</th>\n",
       "      <th>region</th>\n",
       "      <th>claim</th>\n",
       "      <th>claim_status</th>\n",
       "    </tr>\n",
       "  </thead>\n",
       "  <tbody>\n",
       "    <tr>\n",
       "      <th>0</th>\n",
       "      <td>1</td>\n",
       "      <td>39.0</td>\n",
       "      <td>male</td>\n",
       "      <td>23.2</td>\n",
       "      <td>91</td>\n",
       "      <td>Yes</td>\n",
       "      <td>0</td>\n",
       "      <td>No</td>\n",
       "      <td>southeast</td>\n",
       "      <td>1121.87</td>\n",
       "      <td>Low</td>\n",
       "    </tr>\n",
       "    <tr>\n",
       "      <th>1</th>\n",
       "      <td>2</td>\n",
       "      <td>24.0</td>\n",
       "      <td>male</td>\n",
       "      <td>30.1</td>\n",
       "      <td>87</td>\n",
       "      <td>No</td>\n",
       "      <td>0</td>\n",
       "      <td>No</td>\n",
       "      <td>southeast</td>\n",
       "      <td>1131.51</td>\n",
       "      <td>Low</td>\n",
       "    </tr>\n",
       "    <tr>\n",
       "      <th>2</th>\n",
       "      <td>3</td>\n",
       "      <td>NaN</td>\n",
       "      <td>male</td>\n",
       "      <td>33.3</td>\n",
       "      <td>82</td>\n",
       "      <td>Yes</td>\n",
       "      <td>0</td>\n",
       "      <td>No</td>\n",
       "      <td>southeast</td>\n",
       "      <td>1135.94</td>\n",
       "      <td>Low</td>\n",
       "    </tr>\n",
       "    <tr>\n",
       "      <th>3</th>\n",
       "      <td>4</td>\n",
       "      <td>NaN</td>\n",
       "      <td>male</td>\n",
       "      <td>33.7</td>\n",
       "      <td>80</td>\n",
       "      <td>No</td>\n",
       "      <td>0</td>\n",
       "      <td>No</td>\n",
       "      <td>northwest</td>\n",
       "      <td>1136.40</td>\n",
       "      <td>Low</td>\n",
       "    </tr>\n",
       "    <tr>\n",
       "      <th>4</th>\n",
       "      <td>5</td>\n",
       "      <td>NaN</td>\n",
       "      <td>male</td>\n",
       "      <td>34.1</td>\n",
       "      <td>100</td>\n",
       "      <td>No</td>\n",
       "      <td>0</td>\n",
       "      <td>No</td>\n",
       "      <td>northwest</td>\n",
       "      <td>1137.01</td>\n",
       "      <td>Low</td>\n",
       "    </tr>\n",
       "    <tr>\n",
       "      <th>...</th>\n",
       "      <td>...</td>\n",
       "      <td>...</td>\n",
       "      <td>...</td>\n",
       "      <td>...</td>\n",
       "      <td>...</td>\n",
       "      <td>...</td>\n",
       "      <td>...</td>\n",
       "      <td>...</td>\n",
       "      <td>...</td>\n",
       "      <td>...</td>\n",
       "      <td>...</td>\n",
       "    </tr>\n",
       "    <tr>\n",
       "      <th>1335</th>\n",
       "      <td>1336</td>\n",
       "      <td>44.0</td>\n",
       "      <td>female</td>\n",
       "      <td>35.5</td>\n",
       "      <td>88</td>\n",
       "      <td>Yes</td>\n",
       "      <td>0</td>\n",
       "      <td>Yes</td>\n",
       "      <td>northwest</td>\n",
       "      <td>55135.40</td>\n",
       "      <td>High</td>\n",
       "    </tr>\n",
       "    <tr>\n",
       "      <th>1336</th>\n",
       "      <td>1337</td>\n",
       "      <td>59.0</td>\n",
       "      <td>female</td>\n",
       "      <td>38.1</td>\n",
       "      <td>120</td>\n",
       "      <td>No</td>\n",
       "      <td>1</td>\n",
       "      <td>Yes</td>\n",
       "      <td>northeast</td>\n",
       "      <td>58571.07</td>\n",
       "      <td>High</td>\n",
       "    </tr>\n",
       "    <tr>\n",
       "      <th>1337</th>\n",
       "      <td>1338</td>\n",
       "      <td>30.0</td>\n",
       "      <td>male</td>\n",
       "      <td>34.5</td>\n",
       "      <td>91</td>\n",
       "      <td>Yes</td>\n",
       "      <td>3</td>\n",
       "      <td>Yes</td>\n",
       "      <td>northwest</td>\n",
       "      <td>60021.40</td>\n",
       "      <td>High</td>\n",
       "    </tr>\n",
       "    <tr>\n",
       "      <th>1338</th>\n",
       "      <td>1339</td>\n",
       "      <td>37.0</td>\n",
       "      <td>male</td>\n",
       "      <td>30.4</td>\n",
       "      <td>106</td>\n",
       "      <td>No</td>\n",
       "      <td>0</td>\n",
       "      <td>Yes</td>\n",
       "      <td>southeast</td>\n",
       "      <td>62592.87</td>\n",
       "      <td>High</td>\n",
       "    </tr>\n",
       "    <tr>\n",
       "      <th>1339</th>\n",
       "      <td>1340</td>\n",
       "      <td>30.0</td>\n",
       "      <td>female</td>\n",
       "      <td>47.4</td>\n",
       "      <td>101</td>\n",
       "      <td>No</td>\n",
       "      <td>0</td>\n",
       "      <td>Yes</td>\n",
       "      <td>southeast</td>\n",
       "      <td>63770.43</td>\n",
       "      <td>High</td>\n",
       "    </tr>\n",
       "  </tbody>\n",
       "</table>\n",
       "<p>1340 rows × 11 columns</p>\n",
       "</div>"
      ],
      "text/plain": [
       "      PatientID   age  gender   bmi  bloodpressure diabetic  children smoker  \\\n",
       "0             1  39.0    male  23.2             91      Yes         0     No   \n",
       "1             2  24.0    male  30.1             87       No         0     No   \n",
       "2             3   NaN    male  33.3             82      Yes         0     No   \n",
       "3             4   NaN    male  33.7             80       No         0     No   \n",
       "4             5   NaN    male  34.1            100       No         0     No   \n",
       "...         ...   ...     ...   ...            ...      ...       ...    ...   \n",
       "1335       1336  44.0  female  35.5             88      Yes         0    Yes   \n",
       "1336       1337  59.0  female  38.1            120       No         1    Yes   \n",
       "1337       1338  30.0    male  34.5             91      Yes         3    Yes   \n",
       "1338       1339  37.0    male  30.4            106       No         0    Yes   \n",
       "1339       1340  30.0  female  47.4            101       No         0    Yes   \n",
       "\n",
       "         region     claim claim_status  \n",
       "0     southeast   1121.87          Low  \n",
       "1     southeast   1131.51          Low  \n",
       "2     southeast   1135.94          Low  \n",
       "3     northwest   1136.40          Low  \n",
       "4     northwest   1137.01          Low  \n",
       "...         ...       ...          ...  \n",
       "1335  northwest  55135.40         High  \n",
       "1336  northeast  58571.07         High  \n",
       "1337  northwest  60021.40         High  \n",
       "1338  southeast  62592.87         High  \n",
       "1339  southeast  63770.43         High  \n",
       "\n",
       "[1340 rows x 11 columns]"
      ]
     },
     "execution_count": 172,
     "metadata": {},
     "output_type": "execute_result"
    }
   ],
   "source": [
    "data"
   ]
  },
  {
   "cell_type": "code",
   "execution_count": 16,
   "id": "51a27ad2",
   "metadata": {},
   "outputs": [],
   "source": [
    "data= data.dropna(subset=['age'])        #for removing null values"
   ]
  },
  {
   "cell_type": "code",
   "execution_count": 17,
   "id": "25f02894",
   "metadata": {},
   "outputs": [
    {
     "data": {
      "text/plain": [
       "PatientID         0\n",
       "age               0\n",
       "gender            0\n",
       "bmi               0\n",
       "bloodpressure     0\n",
       "diabetic          0\n",
       "children          0\n",
       "smoker            0\n",
       "region           17\n",
       "claim             0\n",
       "dtype: int64"
      ]
     },
     "execution_count": 17,
     "metadata": {},
     "output_type": "execute_result"
    }
   ],
   "source": [
    "data.isnull().sum()"
   ]
  },
  {
   "cell_type": "code",
   "execution_count": 175,
   "id": "018f8236",
   "metadata": {},
   "outputs": [
    {
     "data": {
      "text/html": [
       "<div>\n",
       "<style scoped>\n",
       "    .dataframe tbody tr th:only-of-type {\n",
       "        vertical-align: middle;\n",
       "    }\n",
       "\n",
       "    .dataframe tbody tr th {\n",
       "        vertical-align: top;\n",
       "    }\n",
       "\n",
       "    .dataframe thead th {\n",
       "        text-align: right;\n",
       "    }\n",
       "</style>\n",
       "<table border=\"1\" class=\"dataframe\">\n",
       "  <thead>\n",
       "    <tr style=\"text-align: right;\">\n",
       "      <th></th>\n",
       "      <th>PatientID</th>\n",
       "      <th>age</th>\n",
       "      <th>gender</th>\n",
       "      <th>bmi</th>\n",
       "      <th>bloodpressure</th>\n",
       "      <th>diabetic</th>\n",
       "      <th>children</th>\n",
       "      <th>smoker</th>\n",
       "      <th>region</th>\n",
       "      <th>claim</th>\n",
       "      <th>claim_status</th>\n",
       "    </tr>\n",
       "  </thead>\n",
       "  <tbody>\n",
       "    <tr>\n",
       "      <th>0</th>\n",
       "      <td>1</td>\n",
       "      <td>39.0</td>\n",
       "      <td>male</td>\n",
       "      <td>23.2</td>\n",
       "      <td>91</td>\n",
       "      <td>Yes</td>\n",
       "      <td>0</td>\n",
       "      <td>No</td>\n",
       "      <td>southeast</td>\n",
       "      <td>1121.87</td>\n",
       "      <td>Low</td>\n",
       "    </tr>\n",
       "    <tr>\n",
       "      <th>1</th>\n",
       "      <td>2</td>\n",
       "      <td>24.0</td>\n",
       "      <td>male</td>\n",
       "      <td>30.1</td>\n",
       "      <td>87</td>\n",
       "      <td>No</td>\n",
       "      <td>0</td>\n",
       "      <td>No</td>\n",
       "      <td>southeast</td>\n",
       "      <td>1131.51</td>\n",
       "      <td>Low</td>\n",
       "    </tr>\n",
       "    <tr>\n",
       "      <th>7</th>\n",
       "      <td>8</td>\n",
       "      <td>19.0</td>\n",
       "      <td>male</td>\n",
       "      <td>41.1</td>\n",
       "      <td>100</td>\n",
       "      <td>No</td>\n",
       "      <td>0</td>\n",
       "      <td>No</td>\n",
       "      <td>northwest</td>\n",
       "      <td>1146.80</td>\n",
       "      <td>Low</td>\n",
       "    </tr>\n",
       "    <tr>\n",
       "      <th>8</th>\n",
       "      <td>9</td>\n",
       "      <td>20.0</td>\n",
       "      <td>male</td>\n",
       "      <td>43.0</td>\n",
       "      <td>86</td>\n",
       "      <td>No</td>\n",
       "      <td>0</td>\n",
       "      <td>No</td>\n",
       "      <td>northwest</td>\n",
       "      <td>1149.40</td>\n",
       "      <td>Low</td>\n",
       "    </tr>\n",
       "    <tr>\n",
       "      <th>9</th>\n",
       "      <td>10</td>\n",
       "      <td>30.0</td>\n",
       "      <td>male</td>\n",
       "      <td>53.1</td>\n",
       "      <td>97</td>\n",
       "      <td>No</td>\n",
       "      <td>0</td>\n",
       "      <td>No</td>\n",
       "      <td>northwest</td>\n",
       "      <td>1163.46</td>\n",
       "      <td>Low</td>\n",
       "    </tr>\n",
       "  </tbody>\n",
       "</table>\n",
       "</div>"
      ],
      "text/plain": [
       "   PatientID   age gender   bmi  bloodpressure diabetic  children smoker  \\\n",
       "0          1  39.0   male  23.2             91      Yes         0     No   \n",
       "1          2  24.0   male  30.1             87       No         0     No   \n",
       "7          8  19.0   male  41.1            100       No         0     No   \n",
       "8          9  20.0   male  43.0             86       No         0     No   \n",
       "9         10  30.0   male  53.1             97       No         0     No   \n",
       "\n",
       "      region    claim claim_status  \n",
       "0  southeast  1121.87          Low  \n",
       "1  southeast  1131.51          Low  \n",
       "7  northwest  1146.80          Low  \n",
       "8  northwest  1149.40          Low  \n",
       "9  northwest  1163.46          Low  "
      ]
     },
     "execution_count": 175,
     "metadata": {},
     "output_type": "execute_result"
    }
   ],
   "source": [
    "data.head()"
   ]
  },
  {
   "cell_type": "code",
   "execution_count": null,
   "id": "c074d5ba",
   "metadata": {},
   "outputs": [],
   "source": [
    "data = data.drop(['PatientID'], axis = 1)"
   ]
  },
  {
   "cell_type": "code",
   "execution_count": 26,
   "id": "a8f78c6e",
   "metadata": {},
   "outputs": [],
   "source": [
    "data= data.fillna(data.region.mode()[0])"
   ]
  },
  {
   "cell_type": "code",
   "execution_count": 28,
   "id": "0c9a1e39",
   "metadata": {},
   "outputs": [
    {
     "data": {
      "text/plain": [
       "age              0\n",
       "gender           0\n",
       "bmi              0\n",
       "bloodpressure    0\n",
       "diabetic         0\n",
       "children         0\n",
       "smoker           0\n",
       "region           0\n",
       "claim            0\n",
       "dtype: int64"
      ]
     },
     "execution_count": 28,
     "metadata": {},
     "output_type": "execute_result"
    }
   ],
   "source": [
    "data.isnull().sum()"
   ]
  },
  {
   "cell_type": "code",
   "execution_count": 29,
   "id": "1ee0d7bd",
   "metadata": {},
   "outputs": [
    {
     "data": {
      "text/html": [
       "<div>\n",
       "<style scoped>\n",
       "    .dataframe tbody tr th:only-of-type {\n",
       "        vertical-align: middle;\n",
       "    }\n",
       "\n",
       "    .dataframe tbody tr th {\n",
       "        vertical-align: top;\n",
       "    }\n",
       "\n",
       "    .dataframe thead th {\n",
       "        text-align: right;\n",
       "    }\n",
       "</style>\n",
       "<table border=\"1\" class=\"dataframe\">\n",
       "  <thead>\n",
       "    <tr style=\"text-align: right;\">\n",
       "      <th></th>\n",
       "      <th>age</th>\n",
       "      <th>gender</th>\n",
       "      <th>bmi</th>\n",
       "      <th>bloodpressure</th>\n",
       "      <th>diabetic</th>\n",
       "      <th>children</th>\n",
       "      <th>smoker</th>\n",
       "      <th>region</th>\n",
       "      <th>claim</th>\n",
       "    </tr>\n",
       "  </thead>\n",
       "  <tbody>\n",
       "    <tr>\n",
       "      <th>0</th>\n",
       "      <td>39.0</td>\n",
       "      <td>male</td>\n",
       "      <td>23.2</td>\n",
       "      <td>91</td>\n",
       "      <td>Yes</td>\n",
       "      <td>0</td>\n",
       "      <td>No</td>\n",
       "      <td>southeast</td>\n",
       "      <td>Low</td>\n",
       "    </tr>\n",
       "    <tr>\n",
       "      <th>1</th>\n",
       "      <td>24.0</td>\n",
       "      <td>male</td>\n",
       "      <td>30.1</td>\n",
       "      <td>87</td>\n",
       "      <td>No</td>\n",
       "      <td>0</td>\n",
       "      <td>No</td>\n",
       "      <td>southeast</td>\n",
       "      <td>Low</td>\n",
       "    </tr>\n",
       "    <tr>\n",
       "      <th>7</th>\n",
       "      <td>19.0</td>\n",
       "      <td>male</td>\n",
       "      <td>41.1</td>\n",
       "      <td>100</td>\n",
       "      <td>No</td>\n",
       "      <td>0</td>\n",
       "      <td>No</td>\n",
       "      <td>northwest</td>\n",
       "      <td>Low</td>\n",
       "    </tr>\n",
       "    <tr>\n",
       "      <th>8</th>\n",
       "      <td>20.0</td>\n",
       "      <td>male</td>\n",
       "      <td>43.0</td>\n",
       "      <td>86</td>\n",
       "      <td>No</td>\n",
       "      <td>0</td>\n",
       "      <td>No</td>\n",
       "      <td>northwest</td>\n",
       "      <td>Low</td>\n",
       "    </tr>\n",
       "    <tr>\n",
       "      <th>9</th>\n",
       "      <td>30.0</td>\n",
       "      <td>male</td>\n",
       "      <td>53.1</td>\n",
       "      <td>97</td>\n",
       "      <td>No</td>\n",
       "      <td>0</td>\n",
       "      <td>No</td>\n",
       "      <td>northwest</td>\n",
       "      <td>Low</td>\n",
       "    </tr>\n",
       "  </tbody>\n",
       "</table>\n",
       "</div>"
      ],
      "text/plain": [
       "    age gender   bmi  bloodpressure diabetic  children smoker     region claim\n",
       "0  39.0   male  23.2             91      Yes         0     No  southeast   Low\n",
       "1  24.0   male  30.1             87       No         0     No  southeast   Low\n",
       "7  19.0   male  41.1            100       No         0     No  northwest   Low\n",
       "8  20.0   male  43.0             86       No         0     No  northwest   Low\n",
       "9  30.0   male  53.1             97       No         0     No  northwest   Low"
      ]
     },
     "execution_count": 29,
     "metadata": {},
     "output_type": "execute_result"
    }
   ],
   "source": [
    "data.head()"
   ]
  },
  {
   "cell_type": "code",
   "execution_count": null,
   "id": "39d26ada",
   "metadata": {},
   "outputs": [],
   "source": []
  },
  {
   "cell_type": "code",
   "execution_count": null,
   "id": "44039d37",
   "metadata": {},
   "outputs": [],
   "source": []
  },
  {
   "cell_type": "markdown",
   "id": "52dee085",
   "metadata": {},
   "source": [
    "# **Univariate Analysis**"
   ]
  },
  {
   "cell_type": "code",
   "execution_count": 186,
   "id": "8b48bd13",
   "metadata": {},
   "outputs": [
    {
     "data": {
      "text/html": [
       "<div>\n",
       "<style scoped>\n",
       "    .dataframe tbody tr th:only-of-type {\n",
       "        vertical-align: middle;\n",
       "    }\n",
       "\n",
       "    .dataframe tbody tr th {\n",
       "        vertical-align: top;\n",
       "    }\n",
       "\n",
       "    .dataframe thead th {\n",
       "        text-align: right;\n",
       "    }\n",
       "</style>\n",
       "<table border=\"1\" class=\"dataframe\">\n",
       "  <thead>\n",
       "    <tr style=\"text-align: right;\">\n",
       "      <th></th>\n",
       "      <th>age</th>\n",
       "      <th>gender</th>\n",
       "      <th>bmi</th>\n",
       "      <th>bloodpressure</th>\n",
       "      <th>diabetic</th>\n",
       "      <th>children</th>\n",
       "      <th>smoker</th>\n",
       "      <th>region</th>\n",
       "      <th>claim_status</th>\n",
       "    </tr>\n",
       "  </thead>\n",
       "  <tbody>\n",
       "    <tr>\n",
       "      <th>0</th>\n",
       "      <td>39.0</td>\n",
       "      <td>male</td>\n",
       "      <td>23.2</td>\n",
       "      <td>91</td>\n",
       "      <td>Yes</td>\n",
       "      <td>0</td>\n",
       "      <td>No</td>\n",
       "      <td>southeast</td>\n",
       "      <td>Low</td>\n",
       "    </tr>\n",
       "    <tr>\n",
       "      <th>1</th>\n",
       "      <td>24.0</td>\n",
       "      <td>male</td>\n",
       "      <td>30.1</td>\n",
       "      <td>87</td>\n",
       "      <td>No</td>\n",
       "      <td>0</td>\n",
       "      <td>No</td>\n",
       "      <td>southeast</td>\n",
       "      <td>Low</td>\n",
       "    </tr>\n",
       "    <tr>\n",
       "      <th>7</th>\n",
       "      <td>19.0</td>\n",
       "      <td>male</td>\n",
       "      <td>41.1</td>\n",
       "      <td>100</td>\n",
       "      <td>No</td>\n",
       "      <td>0</td>\n",
       "      <td>No</td>\n",
       "      <td>northwest</td>\n",
       "      <td>Low</td>\n",
       "    </tr>\n",
       "    <tr>\n",
       "      <th>8</th>\n",
       "      <td>20.0</td>\n",
       "      <td>male</td>\n",
       "      <td>43.0</td>\n",
       "      <td>86</td>\n",
       "      <td>No</td>\n",
       "      <td>0</td>\n",
       "      <td>No</td>\n",
       "      <td>northwest</td>\n",
       "      <td>Low</td>\n",
       "    </tr>\n",
       "    <tr>\n",
       "      <th>9</th>\n",
       "      <td>30.0</td>\n",
       "      <td>male</td>\n",
       "      <td>53.1</td>\n",
       "      <td>97</td>\n",
       "      <td>No</td>\n",
       "      <td>0</td>\n",
       "      <td>No</td>\n",
       "      <td>northwest</td>\n",
       "      <td>Low</td>\n",
       "    </tr>\n",
       "  </tbody>\n",
       "</table>\n",
       "</div>"
      ],
      "text/plain": [
       "    age gender   bmi  bloodpressure diabetic  children smoker     region  \\\n",
       "0  39.0   male  23.2             91      Yes         0     No  southeast   \n",
       "1  24.0   male  30.1             87       No         0     No  southeast   \n",
       "7  19.0   male  41.1            100       No         0     No  northwest   \n",
       "8  20.0   male  43.0             86       No         0     No  northwest   \n",
       "9  30.0   male  53.1             97       No         0     No  northwest   \n",
       "\n",
       "  claim_status  \n",
       "0          Low  \n",
       "1          Low  \n",
       "7          Low  \n",
       "8          Low  \n",
       "9          Low  "
      ]
     },
     "execution_count": 186,
     "metadata": {},
     "output_type": "execute_result"
    }
   ],
   "source": [
    "data.head()"
   ]
  },
  {
   "cell_type": "code",
   "execution_count": 31,
   "id": "edcb3442",
   "metadata": {},
   "outputs": [],
   "source": [
    "#Identifying the feasible features from the dataset\n",
    "#Numerical and Continuous\n",
    "numerical = ['age','bmi','bloodpressure']\n",
    "\n",
    "#Categorical and Discrete\n",
    "categorical = ['gender','diabetic','children','smoker', 'region','claim']"
   ]
  },
  {
   "cell_type": "code",
   "execution_count": 32,
   "id": "2bd1e28d",
   "metadata": {},
   "outputs": [
    {
     "data": {
      "image/png": "[encoded data removed]",
      "text/plain": [
       "<Figure size 432x288 with 1 Axes>"
      ]
     },
     "metadata": {
      "needs_background": "light"
     },
     "output_type": "display_data"
    },
    {
     "data": {
      "image/png": "[encoded data removed]",
      "text/plain": [
       "<Figure size 432x288 with 1 Axes>"
      ]
     },
     "metadata": {
      "needs_background": "light"
     },
     "output_type": "display_data"
    },
    {
     "data": {
      "image/png": "[encoded data removed]",
      "text/plain": [
       "<Figure size 432x288 with 1 Axes>"
      ]
     },
     "metadata": {
      "needs_background": "light"
     },
     "output_type": "display_data"
    },
    {
     "data": {
      "image/png": "[encoded data removed]",
      "text/plain": [
       "<Figure size 432x288 with 1 Axes>"
      ]
     },
     "metadata": {
      "needs_background": "light"
     },
     "output_type": "display_data"
    },
    {
     "data": {
      "image/png": "[encoded data removed]",
      "text/plain": [
       "<Figure size 432x288 with 1 Axes>"
      ]
     },
     "metadata": {
      "needs_background": "light"
     },
     "output_type": "display_data"
    },
    {
     "data": {
      "image/png": "[encoded data removed]",
      "text/plain": [
       "<Figure size 432x288 with 1 Axes>"
      ]
     },
     "metadata": {
      "needs_background": "light"
     },
     "output_type": "display_data"
    },
    {
     "data": {
      "image/png": "[encoded data removed]",
      "text/plain": [
       "<Figure size 576x432 with 1 Axes>"
      ]
     },
     "metadata": {
      "needs_background": "light"
     },
     "output_type": "display_data"
    },
    {
     "data": {
      "image/png": "[encoded data removed]",
      "text/plain": [
       "<Figure size 576x432 with 1 Axes>"
      ]
     },
     "metadata": {
      "needs_background": "light"
     },
     "output_type": "display_data"
    },
    {
     "data": {
      "image/png": "[encoded data removed]",
      "text/plain": [
       "<Figure size 576x432 with 1 Axes>"
      ]
     },
     "metadata": {
      "needs_background": "light"
     },
     "output_type": "display_data"
    },
    {
     "data": {
      "image/png": "[encoded data removed]",
      "text/plain": [
       "<Figure size 576x432 with 1 Axes>"
      ]
     },
     "metadata": {
      "needs_background": "light"
     },
     "output_type": "display_data"
    },
    {
     "data": {
      "image/png": "[encoded data removed]",
      "text/plain": [
       "<Figure size 576x432 with 1 Axes>"
      ]
     },
     "metadata": {
      "needs_background": "light"
     },
     "output_type": "display_data"
    },
    {
     "data": {
      "image/png": "[encoded data removed]",
      "text/plain": [
       "<Figure size 576x432 with 1 Axes>"
      ]
     },
     "metadata": {
      "needs_background": "light"
     },
     "output_type": "display_data"
    }
   ],
   "source": [
    "#Univariate Analysis\n",
    "for feature in numerical:\n",
    "        \n",
    "        #Creating Histograms for numerical and continuous columns\n",
    "        data.hist(column=feature,\n",
    "                 grid=False,\n",
    "                 figsize=(6,4),\n",
    "                 color=\"indigo\",\n",
    "                 edgecolor=\"black\",\n",
    "                 bins=12)  #Creating histograms for numerical columns\n",
    "\n",
    "        plt.xlabel(feature,fontsize=12) #Title of x-axis\n",
    "        plt.ylabel(\"Frequency\",fontsize=12) #Title of y-axis\n",
    "        plt.title(feature +\" Histogram\",fontsize=16)  #Title of histogram\n",
    "               \n",
    "        \n",
    "        #Creating Boxplots for numerical and continuous columns\n",
    "        fig, ax = plt.subplots(1, 1) #Assigning subplots\n",
    "        ax = np.reshape(ax, (1, 1)) #Reshaping the axis\n",
    "        data.boxplot(column = feature, notch = True,\n",
    "             grid = False,\n",
    "            figsize = (8,6))     #Creating boxplot for numerical columns  \n",
    "\n",
    "        plt.ylabel(feature, fontsize = 12) #Title of y-axis\n",
    "        plt.xlabel(\"Box plot of \"+feature, fontsize = 14) #Title of x-axis\n",
    "       \n",
    "        \n",
    "    #Creating Barplots for categorical and discrete features\n",
    "for feature in categorical:\n",
    "        fig, ax = plt.subplots(1, 1) #Assigning subplots\n",
    "        data[feature].value_counts().plot(kind='bar', figsize=(8,6), color=\"coral\", fontsize=12) #Creating barplot for categorical columns\n",
    "        plt.xlabel(feature, fontsize=10) #Title of x-axis\n",
    "        plt.ylabel(\"Count of \"+feature, fontsize=12) #Title of y-axis\n",
    "       "
   ]
  },
  {
   "cell_type": "code",
   "execution_count": 33,
   "id": "e34e966e",
   "metadata": {},
   "outputs": [
    {
     "data": {
      "image/png": "[encoded data removed]",
      "text/plain": [
       "<Figure size 432x288 with 1 Axes>"
      ]
     },
     "metadata": {},
     "output_type": "display_data"
    },
    {
     "data": {
      "image/png": "[encoded data removed]",
      "text/plain": [
       "<Figure size 432x288 with 1 Axes>"
      ]
     },
     "metadata": {},
     "output_type": "display_data"
    },
    {
     "data": {
      "image/png": "[encoded data removed]",
      "text/plain": [
       "<Figure size 432x288 with 1 Axes>"
      ]
     },
     "metadata": {},
     "output_type": "display_data"
    },
    {
     "data": {
      "image/png": "[encoded data removed]",
      "text/plain": [
       "<Figure size 432x288 with 1 Axes>"
      ]
     },
     "metadata": {},
     "output_type": "display_data"
    },
    {
     "data": {
      "image/png": "[encoded data removed]",
      "text/plain": [
       "<Figure size 432x288 with 1 Axes>"
      ]
     },
     "metadata": {},
     "output_type": "display_data"
    }
   ],
   "source": [
    "# Pie Charts for categorical values\n",
    "\n",
    "labels = ['male', 'female']\n",
    "plt.pie(data.gender.value_counts(), labels=labels, autopct='%.1f%%')\n",
    "plt.show()\n",
    "\n",
    "labels = ['Yes', 'No']\n",
    "plt.pie(data.diabetic.value_counts(), labels=labels, autopct='%.1f%%')\n",
    "plt.show()\n",
    "\n",
    "labels = ['0', '1','2','3','4','5']\n",
    "plt.pie(data.children.value_counts(), labels=labels, autopct='%.1f%%')\n",
    "plt.show()\n",
    "\n",
    "labels = ['No','Yes']\n",
    "plt.pie(data.smoker.value_counts(), labels=labels, autopct='%.1f%%')\n",
    "plt.show()\n",
    "\n",
    "labels = ['southeast','southwest','northeast','northwest']\n",
    "plt.pie(data.region.value_counts(), labels=labels, autopct='%.1f%%')\n",
    "plt.show()"
   ]
  },
  {
   "cell_type": "markdown",
   "id": "fbc3bd60",
   "metadata": {},
   "source": [
    "**Binning few variables to get a better picture:**"
   ]
  },
  {
   "cell_type": "code",
   "execution_count": 34,
   "id": "a189a679",
   "metadata": {},
   "outputs": [],
   "source": [
    "#BMI:\n",
    "\n",
    "bins=[0,18.5, 24.9, 100] \n",
    "group= ['Low', 'Average','High']\n",
    "        \n",
    "data['bmi_bin']= pd.cut(data['bmi'], bins, labels= group)"
   ]
  },
  {
   "cell_type": "code",
   "execution_count": 35,
   "id": "26cffc6b",
   "metadata": {},
   "outputs": [
    {
     "data": {
      "text/plain": [
       "0       Average\n",
       "1          High\n",
       "7          High\n",
       "8          High\n",
       "9          High\n",
       "         ...   \n",
       "1335       High\n",
       "1336       High\n",
       "1337       High\n",
       "1338       High\n",
       "1339       High\n",
       "Name: bmi_bin, Length: 1335, dtype: category\n",
       "Categories (3, object): ['Low' < 'Average' < 'High']"
      ]
     },
     "execution_count": 35,
     "metadata": {},
     "output_type": "execute_result"
    }
   ],
   "source": [
    "data['bmi_bin']"
   ]
  },
  {
   "cell_type": "code",
   "execution_count": 36,
   "id": "a0889908",
   "metadata": {
    "scrolled": true
   },
   "outputs": [
    {
     "data": {
      "text/plain": [
       "<AxesSubplot:xlabel='bmi_bin', ylabel='count'>"
      ]
     },
     "execution_count": 36,
     "metadata": {},
     "output_type": "execute_result"
    },
    {
     "data": {
      "image/png": "[encoded data removed]",
      "text/plain": [
       "<Figure size 360x360 with 1 Axes>"
      ]
     },
     "metadata": {
      "needs_background": "light"
     },
     "output_type": "display_data"
    }
   ],
   "source": [
    "plt.subplots (figsize=(5,5))\n",
    "sns.countplot (x='bmi_bin', data= data, palette = 'colorblind')"
   ]
  },
  {
   "cell_type": "code",
   "execution_count": 37,
   "id": "dd8461c9",
   "metadata": {},
   "outputs": [],
   "source": [
    "#BP:\n",
    "\n",
    "bins=[0,90, 120, 200] \n",
    "group= ['Low', 'Average','High']\n",
    "        \n",
    "data['bp_bin']= pd.cut(data['bloodpressure'], bins, labels= group)"
   ]
  },
  {
   "cell_type": "code",
   "execution_count": 38,
   "id": "b2c38daa",
   "metadata": {},
   "outputs": [
    {
     "data": {
      "text/plain": [
       "<AxesSubplot:xlabel='bp_bin', ylabel='count'>"
      ]
     },
     "execution_count": 38,
     "metadata": {},
     "output_type": "execute_result"
    },
    {
     "data": {
      "image/png": "[encoded data removed]",
      "text/plain": [
       "<Figure size 504x360 with 1 Axes>"
      ]
     },
     "metadata": {
      "needs_background": "light"
     },
     "output_type": "display_data"
    }
   ],
   "source": [
    "plt.subplots (figsize=(7, 5))\n",
    "sns.countplot (x='bp_bin', data= data, palette = 'colorblind')"
   ]
  },
  {
   "cell_type": "markdown",
   "id": "e8cd1481",
   "metadata": {},
   "source": [
    "*where distributions of variables are skewed in the sense that some sets of values will occur a lot and some will be very rare. Directly using this type of feature may cause issues or can give inaccurate results. so we are converting contineous variable into discrete variable by categorizing them into a range. It prevents overfitting and increases the robustness of the model.*"
   ]
  },
  {
   "cell_type": "code",
   "execution_count": 39,
   "id": "1c17fa20",
   "metadata": {},
   "outputs": [
    {
     "data": {
      "text/plain": [
       "(1335, 11)"
      ]
     },
     "execution_count": 39,
     "metadata": {},
     "output_type": "execute_result"
    }
   ],
   "source": [
    "data.shape"
   ]
  },
  {
   "cell_type": "markdown",
   "id": "2db7202b",
   "metadata": {},
   "source": [
    "## **Observations and Questions from Univariate Analysis**\n",
    "\n",
    "The dataset consists of 1335 patients, and their general health conditions. There are various factors corroborated to claim insurance from the company.\n",
    "\n",
    "**Age:** \n",
    "The patients ages vary from 18 to 60. Almost 50% lie from 29- 47 ages. It appears to be a uniform distribution.   \n",
    "Further question: Whether elderly have higher claim amounts?\n",
    "\n",
    "**Gender:**\n",
    "There appear to be approximately equal number of males and females.   \n",
    "We can further check whether the insurance claim is gender specific or not?\n",
    "\n",
    "**BMI:**\n",
    "The average bmi range for healthy people is 18.5—24.9. So the patients above (and below) the healthy range might claim higher insurance amount due to their obesity/ underweight.\n",
    "BMI appears to be normally distributed, with slightly positively skewness.  A higher proportion fall in high BMI region.\n",
    "Further question: Is BMI correlated with higher claim amounts?\n",
    "\n",
    "\n",
    "**Blood pressure**\n",
    "The patients not belonging to the ideal ranges of (90-120) might have higher probability of claiming insurance.\n",
    "It is Significantly positively skewed, owing to the high number of outliers. A higher proportion fall in average BP range.\n",
    "Further question: Is non-ideal BP correlated with higher claim amounts?\n",
    "\n",
    "**Diabetic**\n",
    "Diabetes is a general sign of poor health and malaise. The patients with diabetes might claim higher insurance.\n",
    "There is 52.1% of patients who are diabetic, and 47.9% of patients who are not. Nothing significant can be concluded from here. So we need further analysis on this.  \n",
    "Further question: Do diabetic people have higher claim amounts than non-diabetic?\n",
    "\n",
    "**Children:**\n",
    "The number of children of the patient indicates the number of dependents on the person. We can hypothesise that the number of dependents is directly proportional to the insurance amount claimed.\n",
    "Almost 43% of patients have no children. The other majority viz. 24% & 18% are single child or two child parents. There can be seen that a very less percentage of patients have more than 2 children.\n",
    "It can also be concluded that Approximately 57% of the patients can be married. Since their could be single parents, or married couples with no children. We can observe further by doing bi-variate analysis.\n",
    "\n",
    "**Smoker:**\n",
    "Smoking is injurious to health and can cause health complications. \n",
    "Almost 79% of patients are non-smokers, and the remaining 21% of the patients are smokers. We need to do a further analysis on this as smoking may lead to smoking leads to higher insurance claims.  \n",
    "Further question: Do smoker have higher average claim amounts than non-smokers?\n",
    "\n",
    "**Region:**\n",
    "Patients of the same region might have similar patterns to insurance claims. We can find out which region has higher number of customers.\n",
    "We can see that, there is a higher number of patients in Southeast region. Data is almost representative from all the regions.  \n",
    "Further question: Which region has a higher/lower claim amount?\n",
    "\n",
    "**Claim_status:**\n",
    "This is our target variable for the business problem. We wish to find out the impact of the aforementioned features on the insurance claims."
   ]
  },
  {
   "cell_type": "code",
   "execution_count": null,
   "id": "dbe0e747",
   "metadata": {},
   "outputs": [],
   "source": []
  },
  {
   "cell_type": "markdown",
   "id": "e844ae1b",
   "metadata": {},
   "source": [
    "# **Bi - Variate**  Hypothesis Testing"
   ]
  },
  {
   "cell_type": "code",
   "execution_count": 40,
   "id": "c5c6bb22",
   "metadata": {},
   "outputs": [
    {
     "data": {
      "text/plain": [
       "<seaborn.axisgrid.PairGrid at 0x1fadbbf8d60>"
      ]
     },
     "execution_count": 40,
     "metadata": {},
     "output_type": "execute_result"
    },
    {
     "data": {
      "image/png": "[encoded data removed]",
      "text/plain": [
       "<Figure size 540x180 with 3 Axes>"
      ]
     },
     "metadata": {},
     "output_type": "display_data"
    }
   ],
   "source": [
    "#Bivariate analysis of claim and numerical variables\n",
    "sns.set(style=\"ticks\", color_codes=True,palette='RdBu')\n",
    "sns.pairplot(data=data,\n",
    "                  y_vars=['claim'],\n",
    "                  x_vars=['age','bmi','bloodpressure'])"
   ]
  },
  {
   "cell_type": "markdown",
   "id": "75889aa1",
   "metadata": {},
   "source": [
    "* Age does not seem to be a correlated with value to claim.\n",
    "* We can say, healthy group of BMIs ranging from 18.5 - 24.9 have claimed insurance, but  the claim amount doesn't seem to be higher."
   ]
  },
  {
   "cell_type": "code",
   "execution_count": 198,
   "id": "a347f0cc",
   "metadata": {},
   "outputs": [
    {
     "data": {
      "text/plain": [
       "<seaborn.axisgrid.PairGrid at 0x212f42fed30>"
      ]
     },
     "execution_count": 198,
     "metadata": {},
     "output_type": "execute_result"
    },
    {
     "data": {
      "image/png": "[encoded data removed]",
      "text/plain": [
       "<Figure size 231.85x180 with 1 Axes>"
      ]
     },
     "metadata": {},
     "output_type": "display_data"
    }
   ],
   "source": [
    "sns.set(style=\"ticks\", color_codes=True, palette=\"rainbow\")\n",
    "sns.pairplot(data=data,\n",
    "                  y_vars=['claim_status'],\n",
    "                  x_vars=['bloodpressure'], hue='age')"
   ]
  },
  {
   "cell_type": "markdown",
   "id": "be838da8",
   "metadata": {},
   "source": [
    "Even from the multivariate analysis, we cannot see a direct impact of numerical columns on claim."
   ]
  },
  {
   "cell_type": "code",
   "execution_count": 47,
   "id": "b2670b87",
   "metadata": {},
   "outputs": [
    {
     "data": {
      "text/html": [
       "<div>\n",
       "<style scoped>\n",
       "    .dataframe tbody tr th:only-of-type {\n",
       "        vertical-align: middle;\n",
       "    }\n",
       "\n",
       "    .dataframe tbody tr th {\n",
       "        vertical-align: top;\n",
       "    }\n",
       "\n",
       "    .dataframe thead th {\n",
       "        text-align: right;\n",
       "    }\n",
       "</style>\n",
       "<table border=\"1\" class=\"dataframe\">\n",
       "  <thead>\n",
       "    <tr style=\"text-align: right;\">\n",
       "      <th>claim</th>\n",
       "      <th>High</th>\n",
       "      <th>Low</th>\n",
       "    </tr>\n",
       "    <tr>\n",
       "      <th>age</th>\n",
       "      <th></th>\n",
       "      <th></th>\n",
       "    </tr>\n",
       "  </thead>\n",
       "  <tbody>\n",
       "    <tr>\n",
       "      <th>18.0</th>\n",
       "      <td>2</td>\n",
       "      <td>14</td>\n",
       "    </tr>\n",
       "    <tr>\n",
       "      <th>19.0</th>\n",
       "      <td>11</td>\n",
       "      <td>18</td>\n",
       "    </tr>\n",
       "    <tr>\n",
       "      <th>20.0</th>\n",
       "      <td>9</td>\n",
       "      <td>17</td>\n",
       "    </tr>\n",
       "    <tr>\n",
       "      <th>21.0</th>\n",
       "      <td>6</td>\n",
       "      <td>12</td>\n",
       "    </tr>\n",
       "    <tr>\n",
       "      <th>22.0</th>\n",
       "      <td>15</td>\n",
       "      <td>9</td>\n",
       "    </tr>\n",
       "    <tr>\n",
       "      <th>23.0</th>\n",
       "      <td>8</td>\n",
       "      <td>20</td>\n",
       "    </tr>\n",
       "    <tr>\n",
       "      <th>24.0</th>\n",
       "      <td>2</td>\n",
       "      <td>14</td>\n",
       "    </tr>\n",
       "    <tr>\n",
       "      <th>25.0</th>\n",
       "      <td>7</td>\n",
       "      <td>25</td>\n",
       "    </tr>\n",
       "    <tr>\n",
       "      <th>26.0</th>\n",
       "      <td>11</td>\n",
       "      <td>36</td>\n",
       "    </tr>\n",
       "    <tr>\n",
       "      <th>27.0</th>\n",
       "      <td>14</td>\n",
       "      <td>27</td>\n",
       "    </tr>\n",
       "    <tr>\n",
       "      <th>28.0</th>\n",
       "      <td>8</td>\n",
       "      <td>28</td>\n",
       "    </tr>\n",
       "    <tr>\n",
       "      <th>29.0</th>\n",
       "      <td>11</td>\n",
       "      <td>28</td>\n",
       "    </tr>\n",
       "    <tr>\n",
       "      <th>30.0</th>\n",
       "      <td>16</td>\n",
       "      <td>28</td>\n",
       "    </tr>\n",
       "    <tr>\n",
       "      <th>31.0</th>\n",
       "      <td>4</td>\n",
       "      <td>34</td>\n",
       "    </tr>\n",
       "    <tr>\n",
       "      <th>32.0</th>\n",
       "      <td>15</td>\n",
       "      <td>29</td>\n",
       "    </tr>\n",
       "    <tr>\n",
       "      <th>33.0</th>\n",
       "      <td>7</td>\n",
       "      <td>28</td>\n",
       "    </tr>\n",
       "    <tr>\n",
       "      <th>34.0</th>\n",
       "      <td>8</td>\n",
       "      <td>31</td>\n",
       "    </tr>\n",
       "    <tr>\n",
       "      <th>35.0</th>\n",
       "      <td>8</td>\n",
       "      <td>28</td>\n",
       "    </tr>\n",
       "    <tr>\n",
       "      <th>36.0</th>\n",
       "      <td>13</td>\n",
       "      <td>24</td>\n",
       "    </tr>\n",
       "    <tr>\n",
       "      <th>37.0</th>\n",
       "      <td>9</td>\n",
       "      <td>32</td>\n",
       "    </tr>\n",
       "    <tr>\n",
       "      <th>38.0</th>\n",
       "      <td>8</td>\n",
       "      <td>24</td>\n",
       "    </tr>\n",
       "    <tr>\n",
       "      <th>39.0</th>\n",
       "      <td>9</td>\n",
       "      <td>17</td>\n",
       "    </tr>\n",
       "    <tr>\n",
       "      <th>40.0</th>\n",
       "      <td>11</td>\n",
       "      <td>31</td>\n",
       "    </tr>\n",
       "    <tr>\n",
       "      <th>41.0</th>\n",
       "      <td>3</td>\n",
       "      <td>21</td>\n",
       "    </tr>\n",
       "    <tr>\n",
       "      <th>42.0</th>\n",
       "      <td>9</td>\n",
       "      <td>28</td>\n",
       "    </tr>\n",
       "    <tr>\n",
       "      <th>43.0</th>\n",
       "      <td>13</td>\n",
       "      <td>37</td>\n",
       "    </tr>\n",
       "    <tr>\n",
       "      <th>44.0</th>\n",
       "      <td>12</td>\n",
       "      <td>23</td>\n",
       "    </tr>\n",
       "    <tr>\n",
       "      <th>45.0</th>\n",
       "      <td>14</td>\n",
       "      <td>26</td>\n",
       "    </tr>\n",
       "    <tr>\n",
       "      <th>46.0</th>\n",
       "      <td>13</td>\n",
       "      <td>31</td>\n",
       "    </tr>\n",
       "    <tr>\n",
       "      <th>47.0</th>\n",
       "      <td>12</td>\n",
       "      <td>25</td>\n",
       "    </tr>\n",
       "    <tr>\n",
       "      <th>48.0</th>\n",
       "      <td>5</td>\n",
       "      <td>35</td>\n",
       "    </tr>\n",
       "    <tr>\n",
       "      <th>49.0</th>\n",
       "      <td>8</td>\n",
       "      <td>30</td>\n",
       "    </tr>\n",
       "    <tr>\n",
       "      <th>50.0</th>\n",
       "      <td>9</td>\n",
       "      <td>23</td>\n",
       "    </tr>\n",
       "    <tr>\n",
       "      <th>51.0</th>\n",
       "      <td>3</td>\n",
       "      <td>14</td>\n",
       "    </tr>\n",
       "    <tr>\n",
       "      <th>52.0</th>\n",
       "      <td>6</td>\n",
       "      <td>12</td>\n",
       "    </tr>\n",
       "    <tr>\n",
       "      <th>53.0</th>\n",
       "      <td>4</td>\n",
       "      <td>11</td>\n",
       "    </tr>\n",
       "    <tr>\n",
       "      <th>54.0</th>\n",
       "      <td>2</td>\n",
       "      <td>15</td>\n",
       "    </tr>\n",
       "    <tr>\n",
       "      <th>55.0</th>\n",
       "      <td>6</td>\n",
       "      <td>20</td>\n",
       "    </tr>\n",
       "    <tr>\n",
       "      <th>56.0</th>\n",
       "      <td>4</td>\n",
       "      <td>14</td>\n",
       "    </tr>\n",
       "    <tr>\n",
       "      <th>57.0</th>\n",
       "      <td>4</td>\n",
       "      <td>17</td>\n",
       "    </tr>\n",
       "    <tr>\n",
       "      <th>58.0</th>\n",
       "      <td>6</td>\n",
       "      <td>11</td>\n",
       "    </tr>\n",
       "    <tr>\n",
       "      <th>59.0</th>\n",
       "      <td>6</td>\n",
       "      <td>16</td>\n",
       "    </tr>\n",
       "    <tr>\n",
       "      <th>60.0</th>\n",
       "      <td>7</td>\n",
       "      <td>14</td>\n",
       "    </tr>\n",
       "  </tbody>\n",
       "</table>\n",
       "</div>"
      ],
      "text/plain": [
       "claim  High  Low\n",
       "age             \n",
       "18.0      2   14\n",
       "19.0     11   18\n",
       "20.0      9   17\n",
       "21.0      6   12\n",
       "22.0     15    9\n",
       "23.0      8   20\n",
       "24.0      2   14\n",
       "25.0      7   25\n",
       "26.0     11   36\n",
       "27.0     14   27\n",
       "28.0      8   28\n",
       "29.0     11   28\n",
       "30.0     16   28\n",
       "31.0      4   34\n",
       "32.0     15   29\n",
       "33.0      7   28\n",
       "34.0      8   31\n",
       "35.0      8   28\n",
       "36.0     13   24\n",
       "37.0      9   32\n",
       "38.0      8   24\n",
       "39.0      9   17\n",
       "40.0     11   31\n",
       "41.0      3   21\n",
       "42.0      9   28\n",
       "43.0     13   37\n",
       "44.0     12   23\n",
       "45.0     14   26\n",
       "46.0     13   31\n",
       "47.0     12   25\n",
       "48.0      5   35\n",
       "49.0      8   30\n",
       "50.0      9   23\n",
       "51.0      3   14\n",
       "52.0      6   12\n",
       "53.0      4   11\n",
       "54.0      2   15\n",
       "55.0      6   20\n",
       "56.0      4   14\n",
       "57.0      4   17\n",
       "58.0      6   11\n",
       "59.0      6   16\n",
       "60.0      7   14"
      ]
     },
     "execution_count": 47,
     "metadata": {},
     "output_type": "execute_result"
    }
   ],
   "source": [
    "table = pd.crosstab(data.age,columns = data.claim)\n",
    "table"
   ]
  },
  {
   "cell_type": "code",
   "execution_count": 48,
   "id": "5ee4c7aa",
   "metadata": {},
   "outputs": [
    {
     "data": {
      "text/plain": [
       "<AxesSubplot:xlabel='age', ylabel='count'>"
      ]
     },
     "execution_count": 48,
     "metadata": {},
     "output_type": "execute_result"
    },
    {
     "data": {
      "image/png": "[encoded data removed]",
      "text/plain": [
       "<Figure size 1080x288 with 1 Axes>"
      ]
     },
     "metadata": {},
     "output_type": "display_data"
    }
   ],
   "source": [
    "plt.subplots (figsize=(15,4))\n",
    "sns.countplot (x='age',  hue='claim', data= data, palette = 'colorblind')"
   ]
  },
  {
   "cell_type": "code",
   "execution_count": 49,
   "id": "8ae8ad80",
   "metadata": {},
   "outputs": [
    {
     "data": {
      "image/png": "[encoded data removed]",
      "text/plain": [
       "<Figure size 576x432 with 1 Axes>"
      ]
     },
     "metadata": {},
     "output_type": "display_data"
    }
   ],
   "source": [
    "data.boxplot(column=\"age\",\n",
    "             by=\"claim\",\n",
    "            grid=False,\n",
    "            figsize=(8,6),\n",
    "            rot=90)   #The angle by which you want to rotate the label\n",
    "\n",
    "plt.xlabel(\"Claim\", fontsize=12)\n",
    "plt.title(\"Boxplot of Age\", fontsize=14)\n",
    "plt.show()"
   ]
  },
  {
   "cell_type": "code",
   "execution_count": 50,
   "id": "81cfb400",
   "metadata": {},
   "outputs": [
    {
     "data": {
      "text/html": [
       "<div>\n",
       "<style scoped>\n",
       "    .dataframe tbody tr th:only-of-type {\n",
       "        vertical-align: middle;\n",
       "    }\n",
       "\n",
       "    .dataframe tbody tr th {\n",
       "        vertical-align: top;\n",
       "    }\n",
       "\n",
       "    .dataframe thead th {\n",
       "        text-align: right;\n",
       "    }\n",
       "</style>\n",
       "<table border=\"1\" class=\"dataframe\">\n",
       "  <thead>\n",
       "    <tr style=\"text-align: right;\">\n",
       "      <th></th>\n",
       "      <th>age</th>\n",
       "      <th>gender</th>\n",
       "      <th>bmi</th>\n",
       "      <th>bloodpressure</th>\n",
       "      <th>diabetic</th>\n",
       "      <th>children</th>\n",
       "      <th>smoker</th>\n",
       "      <th>region</th>\n",
       "      <th>claim</th>\n",
       "      <th>bmi_bin</th>\n",
       "      <th>bp_bin</th>\n",
       "    </tr>\n",
       "  </thead>\n",
       "  <tbody>\n",
       "    <tr>\n",
       "      <th>0</th>\n",
       "      <td>39.0</td>\n",
       "      <td>male</td>\n",
       "      <td>23.2</td>\n",
       "      <td>91</td>\n",
       "      <td>Yes</td>\n",
       "      <td>0</td>\n",
       "      <td>No</td>\n",
       "      <td>southeast</td>\n",
       "      <td>Low</td>\n",
       "      <td>Average</td>\n",
       "      <td>Average</td>\n",
       "    </tr>\n",
       "    <tr>\n",
       "      <th>1</th>\n",
       "      <td>24.0</td>\n",
       "      <td>male</td>\n",
       "      <td>30.1</td>\n",
       "      <td>87</td>\n",
       "      <td>No</td>\n",
       "      <td>0</td>\n",
       "      <td>No</td>\n",
       "      <td>southeast</td>\n",
       "      <td>Low</td>\n",
       "      <td>High</td>\n",
       "      <td>Low</td>\n",
       "    </tr>\n",
       "    <tr>\n",
       "      <th>7</th>\n",
       "      <td>19.0</td>\n",
       "      <td>male</td>\n",
       "      <td>41.1</td>\n",
       "      <td>100</td>\n",
       "      <td>No</td>\n",
       "      <td>0</td>\n",
       "      <td>No</td>\n",
       "      <td>northwest</td>\n",
       "      <td>Low</td>\n",
       "      <td>High</td>\n",
       "      <td>Average</td>\n",
       "    </tr>\n",
       "    <tr>\n",
       "      <th>8</th>\n",
       "      <td>20.0</td>\n",
       "      <td>male</td>\n",
       "      <td>43.0</td>\n",
       "      <td>86</td>\n",
       "      <td>No</td>\n",
       "      <td>0</td>\n",
       "      <td>No</td>\n",
       "      <td>northwest</td>\n",
       "      <td>Low</td>\n",
       "      <td>High</td>\n",
       "      <td>Low</td>\n",
       "    </tr>\n",
       "    <tr>\n",
       "      <th>9</th>\n",
       "      <td>30.0</td>\n",
       "      <td>male</td>\n",
       "      <td>53.1</td>\n",
       "      <td>97</td>\n",
       "      <td>No</td>\n",
       "      <td>0</td>\n",
       "      <td>No</td>\n",
       "      <td>northwest</td>\n",
       "      <td>Low</td>\n",
       "      <td>High</td>\n",
       "      <td>Average</td>\n",
       "    </tr>\n",
       "  </tbody>\n",
       "</table>\n",
       "</div>"
      ],
      "text/plain": [
       "    age gender   bmi  bloodpressure diabetic  children smoker     region  \\\n",
       "0  39.0   male  23.2             91      Yes         0     No  southeast   \n",
       "1  24.0   male  30.1             87       No         0     No  southeast   \n",
       "7  19.0   male  41.1            100       No         0     No  northwest   \n",
       "8  20.0   male  43.0             86       No         0     No  northwest   \n",
       "9  30.0   male  53.1             97       No         0     No  northwest   \n",
       "\n",
       "  claim  bmi_bin   bp_bin  \n",
       "0   Low  Average  Average  \n",
       "1   Low     High      Low  \n",
       "7   Low     High  Average  \n",
       "8   Low     High      Low  \n",
       "9   Low     High  Average  "
      ]
     },
     "execution_count": 50,
     "metadata": {},
     "output_type": "execute_result"
    }
   ],
   "source": [
    "data.head()"
   ]
  },
  {
   "cell_type": "code",
   "execution_count": null,
   "id": "350a4423",
   "metadata": {},
   "outputs": [],
   "source": [
    "#Gender"
   ]
  },
  {
   "cell_type": "code",
   "execution_count": 51,
   "id": "70703ca2",
   "metadata": {},
   "outputs": [
    {
     "data": {
      "text/plain": [
       "<AxesSubplot:xlabel='gender', ylabel='count'>"
      ]
     },
     "execution_count": 51,
     "metadata": {},
     "output_type": "execute_result"
    },
    {
     "data": {
      "image/png": "[encoded data removed]",
      "text/plain": [
       "<Figure size 576x288 with 1 Axes>"
      ]
     },
     "metadata": {},
     "output_type": "display_data"
    }
   ],
   "source": [
    "plt.subplots (figsize=(8,4))\n",
    "sns.countplot (x='gender',  hue='claim', data= data, palette = 'colorblind')"
   ]
  },
  {
   "cell_type": "code",
   "execution_count": 72,
   "id": "268e547a",
   "metadata": {},
   "outputs": [
    {
     "data": {
      "text/html": [
       "<div>\n",
       "<style scoped>\n",
       "    .dataframe tbody tr th:only-of-type {\n",
       "        vertical-align: middle;\n",
       "    }\n",
       "\n",
       "    .dataframe tbody tr th {\n",
       "        vertical-align: top;\n",
       "    }\n",
       "\n",
       "    .dataframe thead th {\n",
       "        text-align: right;\n",
       "    }\n",
       "</style>\n",
       "<table border=\"1\" class=\"dataframe\">\n",
       "  <thead>\n",
       "    <tr style=\"text-align: right;\">\n",
       "      <th>claim</th>\n",
       "      <th>High</th>\n",
       "      <th>Low</th>\n",
       "    </tr>\n",
       "    <tr>\n",
       "      <th>gender</th>\n",
       "      <th></th>\n",
       "      <th></th>\n",
       "    </tr>\n",
       "  </thead>\n",
       "  <tbody>\n",
       "    <tr>\n",
       "      <th>female</th>\n",
       "      <td>159</td>\n",
       "      <td>503</td>\n",
       "    </tr>\n",
       "    <tr>\n",
       "      <th>male</th>\n",
       "      <td>199</td>\n",
       "      <td>474</td>\n",
       "    </tr>\n",
       "  </tbody>\n",
       "</table>\n",
       "</div>"
      ],
      "text/plain": [
       "claim   High  Low\n",
       "gender           \n",
       "female   159  503\n",
       "male     199  474"
      ]
     },
     "execution_count": 72,
     "metadata": {},
     "output_type": "execute_result"
    }
   ],
   "source": [
    "tab= pd.crosstab(data.gender, columns= data.claim)\n",
    "tab"
   ]
  },
  {
   "cell_type": "markdown",
   "id": "1d9086ea",
   "metadata": {},
   "source": [
    "#Since there appears a pattern between gender and claims, we can test with Chi Square test of Independence."
   ]
  },
  {
   "cell_type": "code",
   "execution_count": 77,
   "id": "1acc88c3",
   "metadata": {},
   "outputs": [],
   "source": [
    "## **H0: There is no dependency in claims and gender** i.e claims is equal for both genders.\n",
    "## **Ha: There is dependency in claims and gender** i.e claims is not equal for the genders\n",
    "\n"
   ]
  },
  {
   "cell_type": "code",
   "execution_count": 73,
   "id": "362ecfae",
   "metadata": {},
   "outputs": [
    {
     "data": {
      "text/plain": [
       "array([[159, 503],\n",
       "       [199, 474]])"
      ]
     },
     "execution_count": 73,
     "metadata": {},
     "output_type": "execute_result"
    }
   ],
   "source": [
    "import numpy       as np\n",
    "import scipy.stats as stats\n",
    "\n",
    "gender_array = np.array([[159,503],[199,474]])\n",
    "\n",
    "gender_array"
   ]
  },
  {
   "cell_type": "code",
   "execution_count": 74,
   "id": "e419b72c",
   "metadata": {},
   "outputs": [
    {
     "name": "stdout",
     "output_type": "stream",
     "text": [
      "Chi-square statistic 5.23979 P value 0.022076 Degrees of freedom 1\n",
      "critical value is  3.8414588206941285\n"
     ]
    }
   ],
   "source": [
    "import pandas      as pd\n",
    "import numpy       as np\n",
    "import scipy.stats as stats\n",
    "\n",
    "gender_array = np.array([[159,503],[199,474]])\n",
    "\n",
    "chi_sq_Stat, p_value, deg_freedom, exp_freq = stats.chi2_contingency(gender_array, correction=False)\n",
    "stats.chi2_contingency(gender_array)\n",
    "\n",
    "print('Chi-square statistic %3.5f P value %1.6f Degrees of freedom %d' %(chi_sq_Stat, p_value,deg_freedom))\n",
    "df = (2-1)*(2-1)\n",
    "print(\"critical value is \", stats.chi2.isf(0.05, df))"
   ]
  },
  {
   "cell_type": "markdown",
   "id": "d9e20fac",
   "metadata": {},
   "source": [
    "#### Chi-square_stat > chi_Critical so we reject the null hypthesis and conclude that there is dependency between claims and gender.\n",
    "#### P-value < alpha so in right tail chi test it falls under rejection zone and we reject our null hypothesis"
   ]
  },
  {
   "cell_type": "code",
   "execution_count": 78,
   "id": "089ad6c7",
   "metadata": {},
   "outputs": [
    {
     "data": {
      "text/html": [
       "<div>\n",
       "<style scoped>\n",
       "    .dataframe tbody tr th:only-of-type {\n",
       "        vertical-align: middle;\n",
       "    }\n",
       "\n",
       "    .dataframe tbody tr th {\n",
       "        vertical-align: top;\n",
       "    }\n",
       "\n",
       "    .dataframe thead th {\n",
       "        text-align: right;\n",
       "    }\n",
       "</style>\n",
       "<table border=\"1\" class=\"dataframe\">\n",
       "  <thead>\n",
       "    <tr style=\"text-align: right;\">\n",
       "      <th></th>\n",
       "      <th>age</th>\n",
       "      <th>gender</th>\n",
       "      <th>bmi</th>\n",
       "      <th>bloodpressure</th>\n",
       "      <th>diabetic</th>\n",
       "      <th>children</th>\n",
       "      <th>smoker</th>\n",
       "      <th>region</th>\n",
       "      <th>claim</th>\n",
       "      <th>bmi_bin</th>\n",
       "      <th>bp_bin</th>\n",
       "    </tr>\n",
       "  </thead>\n",
       "  <tbody>\n",
       "    <tr>\n",
       "      <th>0</th>\n",
       "      <td>39.0</td>\n",
       "      <td>male</td>\n",
       "      <td>23.2</td>\n",
       "      <td>91</td>\n",
       "      <td>Yes</td>\n",
       "      <td>0</td>\n",
       "      <td>No</td>\n",
       "      <td>southeast</td>\n",
       "      <td>Low</td>\n",
       "      <td>Average</td>\n",
       "      <td>Average</td>\n",
       "    </tr>\n",
       "    <tr>\n",
       "      <th>1</th>\n",
       "      <td>24.0</td>\n",
       "      <td>male</td>\n",
       "      <td>30.1</td>\n",
       "      <td>87</td>\n",
       "      <td>No</td>\n",
       "      <td>0</td>\n",
       "      <td>No</td>\n",
       "      <td>southeast</td>\n",
       "      <td>Low</td>\n",
       "      <td>High</td>\n",
       "      <td>Low</td>\n",
       "    </tr>\n",
       "    <tr>\n",
       "      <th>7</th>\n",
       "      <td>19.0</td>\n",
       "      <td>male</td>\n",
       "      <td>41.1</td>\n",
       "      <td>100</td>\n",
       "      <td>No</td>\n",
       "      <td>0</td>\n",
       "      <td>No</td>\n",
       "      <td>northwest</td>\n",
       "      <td>Low</td>\n",
       "      <td>High</td>\n",
       "      <td>Average</td>\n",
       "    </tr>\n",
       "    <tr>\n",
       "      <th>8</th>\n",
       "      <td>20.0</td>\n",
       "      <td>male</td>\n",
       "      <td>43.0</td>\n",
       "      <td>86</td>\n",
       "      <td>No</td>\n",
       "      <td>0</td>\n",
       "      <td>No</td>\n",
       "      <td>northwest</td>\n",
       "      <td>Low</td>\n",
       "      <td>High</td>\n",
       "      <td>Low</td>\n",
       "    </tr>\n",
       "    <tr>\n",
       "      <th>9</th>\n",
       "      <td>30.0</td>\n",
       "      <td>male</td>\n",
       "      <td>53.1</td>\n",
       "      <td>97</td>\n",
       "      <td>No</td>\n",
       "      <td>0</td>\n",
       "      <td>No</td>\n",
       "      <td>northwest</td>\n",
       "      <td>Low</td>\n",
       "      <td>High</td>\n",
       "      <td>Average</td>\n",
       "    </tr>\n",
       "  </tbody>\n",
       "</table>\n",
       "</div>"
      ],
      "text/plain": [
       "    age gender   bmi  bloodpressure diabetic  children smoker     region  \\\n",
       "0  39.0   male  23.2             91      Yes         0     No  southeast   \n",
       "1  24.0   male  30.1             87       No         0     No  southeast   \n",
       "7  19.0   male  41.1            100       No         0     No  northwest   \n",
       "8  20.0   male  43.0             86       No         0     No  northwest   \n",
       "9  30.0   male  53.1             97       No         0     No  northwest   \n",
       "\n",
       "  claim  bmi_bin   bp_bin  \n",
       "0   Low  Average  Average  \n",
       "1   Low     High      Low  \n",
       "7   Low     High  Average  \n",
       "8   Low     High      Low  \n",
       "9   Low     High  Average  "
      ]
     },
     "execution_count": 78,
     "metadata": {},
     "output_type": "execute_result"
    }
   ],
   "source": [
    "data.head()"
   ]
  },
  {
   "cell_type": "code",
   "execution_count": null,
   "id": "e68f36ef",
   "metadata": {},
   "outputs": [],
   "source": [
    "#Diabetic"
   ]
  },
  {
   "cell_type": "code",
   "execution_count": 80,
   "id": "4808050b",
   "metadata": {},
   "outputs": [
    {
     "data": {
      "text/plain": [
       "No     696\n",
       "Yes    639\n",
       "Name: diabetic, dtype: int64"
      ]
     },
     "execution_count": 80,
     "metadata": {},
     "output_type": "execute_result"
    }
   ],
   "source": [
    "data.diabetic.value_counts()"
   ]
  },
  {
   "cell_type": "code",
   "execution_count": 81,
   "id": "b66e58be",
   "metadata": {},
   "outputs": [
    {
     "data": {
      "text/plain": [
       "<AxesSubplot:xlabel='diabetic', ylabel='count'>"
      ]
     },
     "execution_count": 81,
     "metadata": {},
     "output_type": "execute_result"
    },
    {
     "data": {
      "image/png": "[encoded data removed]",
      "text/plain": [
       "<Figure size 432x288 with 1 Axes>"
      ]
     },
     "metadata": {},
     "output_type": "display_data"
    }
   ],
   "source": [
    "sns.countplot(x= 'diabetic', hue='claim', data=data)"
   ]
  },
  {
   "cell_type": "code",
   "execution_count": null,
   "id": "d91441ec",
   "metadata": {},
   "outputs": [],
   "source": [
    "#There is no discernible trend."
   ]
  },
  {
   "cell_type": "code",
   "execution_count": 83,
   "id": "fea13811",
   "metadata": {},
   "outputs": [
    {
     "data": {
      "text/html": [
       "<div>\n",
       "<style scoped>\n",
       "    .dataframe tbody tr th:only-of-type {\n",
       "        vertical-align: middle;\n",
       "    }\n",
       "\n",
       "    .dataframe tbody tr th {\n",
       "        vertical-align: top;\n",
       "    }\n",
       "\n",
       "    .dataframe thead th {\n",
       "        text-align: right;\n",
       "    }\n",
       "</style>\n",
       "<table border=\"1\" class=\"dataframe\">\n",
       "  <thead>\n",
       "    <tr style=\"text-align: right;\">\n",
       "      <th>claim</th>\n",
       "      <th>High</th>\n",
       "      <th>Low</th>\n",
       "    </tr>\n",
       "    <tr>\n",
       "      <th>diabetic</th>\n",
       "      <th></th>\n",
       "      <th></th>\n",
       "    </tr>\n",
       "  </thead>\n",
       "  <tbody>\n",
       "    <tr>\n",
       "      <th>No</th>\n",
       "      <td>188</td>\n",
       "      <td>508</td>\n",
       "    </tr>\n",
       "    <tr>\n",
       "      <th>Yes</th>\n",
       "      <td>170</td>\n",
       "      <td>469</td>\n",
       "    </tr>\n",
       "  </tbody>\n",
       "</table>\n",
       "</div>"
      ],
      "text/plain": [
       "claim     High  Low\n",
       "diabetic           \n",
       "No         188  508\n",
       "Yes        170  469"
      ]
     },
     "execution_count": 83,
     "metadata": {},
     "output_type": "execute_result"
    }
   ],
   "source": [
    "tab_dia= pd.crosstab(data.diabetic, columns= data.claim)\n",
    "tab_dia"
   ]
  },
  {
   "cell_type": "code",
   "execution_count": 84,
   "id": "eaccbba5",
   "metadata": {},
   "outputs": [
    {
     "name": "stdout",
     "output_type": "stream",
     "text": [
      "Chi-square statistic 0.02818 P value 0.866691 Degrees of freedom 1\n",
      "critical value is  3.8414588206941285\n"
     ]
    }
   ],
   "source": [
    "import pandas      as pd\n",
    "import numpy       as np\n",
    "import scipy.stats as stats\n",
    "\n",
    "dia_array = np.array([[188,508],[170,469]])\n",
    "\n",
    "chi_sq_Stat, p_value, deg_freedom, exp_freq = stats.chi2_contingency(dia_array, correction=False)\n",
    "stats.chi2_contingency(dia_array)\n",
    "\n",
    "print('Chi-square statistic %3.5f P value %1.6f Degrees of freedom %d' %(chi_sq_Stat, p_value,deg_freedom))\n",
    "df = (2-1)*(2-1)\n",
    "print(\"critical value is \", stats.chi2.isf(0.05, df))"
   ]
  },
  {
   "cell_type": "markdown",
   "id": "97eb8bba",
   "metadata": {},
   "source": [
    "#### Chi-square_stat << chi_Critical so we cannot reject the null hypthesis and conclude that there is no dependency between claims and diabetic.\n",
    "#### P-value < alpha so in right tail chi test it falls under acceptance zone and we cannot reject our null hypothesis"
   ]
  },
  {
   "cell_type": "code",
   "execution_count": 85,
   "id": "c3982e07",
   "metadata": {},
   "outputs": [
    {
     "data": {
      "text/html": [
       "<div>\n",
       "<style scoped>\n",
       "    .dataframe tbody tr th:only-of-type {\n",
       "        vertical-align: middle;\n",
       "    }\n",
       "\n",
       "    .dataframe tbody tr th {\n",
       "        vertical-align: top;\n",
       "    }\n",
       "\n",
       "    .dataframe thead th {\n",
       "        text-align: right;\n",
       "    }\n",
       "</style>\n",
       "<table border=\"1\" class=\"dataframe\">\n",
       "  <thead>\n",
       "    <tr style=\"text-align: right;\">\n",
       "      <th></th>\n",
       "      <th>age</th>\n",
       "      <th>gender</th>\n",
       "      <th>bmi</th>\n",
       "      <th>bloodpressure</th>\n",
       "      <th>diabetic</th>\n",
       "      <th>children</th>\n",
       "      <th>smoker</th>\n",
       "      <th>region</th>\n",
       "      <th>claim</th>\n",
       "      <th>bmi_bin</th>\n",
       "      <th>bp_bin</th>\n",
       "    </tr>\n",
       "  </thead>\n",
       "  <tbody>\n",
       "    <tr>\n",
       "      <th>0</th>\n",
       "      <td>39.0</td>\n",
       "      <td>male</td>\n",
       "      <td>23.2</td>\n",
       "      <td>91</td>\n",
       "      <td>Yes</td>\n",
       "      <td>0</td>\n",
       "      <td>No</td>\n",
       "      <td>southeast</td>\n",
       "      <td>Low</td>\n",
       "      <td>Average</td>\n",
       "      <td>Average</td>\n",
       "    </tr>\n",
       "    <tr>\n",
       "      <th>1</th>\n",
       "      <td>24.0</td>\n",
       "      <td>male</td>\n",
       "      <td>30.1</td>\n",
       "      <td>87</td>\n",
       "      <td>No</td>\n",
       "      <td>0</td>\n",
       "      <td>No</td>\n",
       "      <td>southeast</td>\n",
       "      <td>Low</td>\n",
       "      <td>High</td>\n",
       "      <td>Low</td>\n",
       "    </tr>\n",
       "    <tr>\n",
       "      <th>7</th>\n",
       "      <td>19.0</td>\n",
       "      <td>male</td>\n",
       "      <td>41.1</td>\n",
       "      <td>100</td>\n",
       "      <td>No</td>\n",
       "      <td>0</td>\n",
       "      <td>No</td>\n",
       "      <td>northwest</td>\n",
       "      <td>Low</td>\n",
       "      <td>High</td>\n",
       "      <td>Average</td>\n",
       "    </tr>\n",
       "    <tr>\n",
       "      <th>8</th>\n",
       "      <td>20.0</td>\n",
       "      <td>male</td>\n",
       "      <td>43.0</td>\n",
       "      <td>86</td>\n",
       "      <td>No</td>\n",
       "      <td>0</td>\n",
       "      <td>No</td>\n",
       "      <td>northwest</td>\n",
       "      <td>Low</td>\n",
       "      <td>High</td>\n",
       "      <td>Low</td>\n",
       "    </tr>\n",
       "    <tr>\n",
       "      <th>9</th>\n",
       "      <td>30.0</td>\n",
       "      <td>male</td>\n",
       "      <td>53.1</td>\n",
       "      <td>97</td>\n",
       "      <td>No</td>\n",
       "      <td>0</td>\n",
       "      <td>No</td>\n",
       "      <td>northwest</td>\n",
       "      <td>Low</td>\n",
       "      <td>High</td>\n",
       "      <td>Average</td>\n",
       "    </tr>\n",
       "  </tbody>\n",
       "</table>\n",
       "</div>"
      ],
      "text/plain": [
       "    age gender   bmi  bloodpressure diabetic  children smoker     region  \\\n",
       "0  39.0   male  23.2             91      Yes         0     No  southeast   \n",
       "1  24.0   male  30.1             87       No         0     No  southeast   \n",
       "7  19.0   male  41.1            100       No         0     No  northwest   \n",
       "8  20.0   male  43.0             86       No         0     No  northwest   \n",
       "9  30.0   male  53.1             97       No         0     No  northwest   \n",
       "\n",
       "  claim  bmi_bin   bp_bin  \n",
       "0   Low  Average  Average  \n",
       "1   Low     High      Low  \n",
       "7   Low     High  Average  \n",
       "8   Low     High      Low  \n",
       "9   Low     High  Average  "
      ]
     },
     "execution_count": 85,
     "metadata": {},
     "output_type": "execute_result"
    }
   ],
   "source": [
    "data.head()"
   ]
  },
  {
   "cell_type": "code",
   "execution_count": null,
   "id": "2df184b6",
   "metadata": {},
   "outputs": [],
   "source": [
    "#Children"
   ]
  },
  {
   "cell_type": "code",
   "execution_count": 88,
   "id": "e028dd38",
   "metadata": {},
   "outputs": [
    {
     "data": {
      "text/plain": [
       "<AxesSubplot:xlabel='children', ylabel='count'>"
      ]
     },
     "execution_count": 88,
     "metadata": {},
     "output_type": "execute_result"
    },
    {
     "data": {
      "image/png": "[encoded data removed]",
      "text/plain": [
       "<Figure size 432x288 with 1 Axes>"
      ]
     },
     "metadata": {},
     "output_type": "display_data"
    }
   ],
   "source": [
    "sns.countplot(x= 'children', hue= 'claim', data=data)"
   ]
  },
  {
   "cell_type": "code",
   "execution_count": 90,
   "id": "ebe4f238",
   "metadata": {},
   "outputs": [
    {
     "data": {
      "text/html": [
       "<div>\n",
       "<style scoped>\n",
       "    .dataframe tbody tr th:only-of-type {\n",
       "        vertical-align: middle;\n",
       "    }\n",
       "\n",
       "    .dataframe tbody tr th {\n",
       "        vertical-align: top;\n",
       "    }\n",
       "\n",
       "    .dataframe thead th {\n",
       "        text-align: right;\n",
       "    }\n",
       "</style>\n",
       "<table border=\"1\" class=\"dataframe\">\n",
       "  <thead>\n",
       "    <tr style=\"text-align: right;\">\n",
       "      <th>claim</th>\n",
       "      <th>High</th>\n",
       "      <th>Low</th>\n",
       "    </tr>\n",
       "    <tr>\n",
       "      <th>children</th>\n",
       "      <th></th>\n",
       "      <th></th>\n",
       "    </tr>\n",
       "  </thead>\n",
       "  <tbody>\n",
       "    <tr>\n",
       "      <th>0</th>\n",
       "      <td>138</td>\n",
       "      <td>433</td>\n",
       "    </tr>\n",
       "    <tr>\n",
       "      <th>1</th>\n",
       "      <td>82</td>\n",
       "      <td>242</td>\n",
       "    </tr>\n",
       "    <tr>\n",
       "      <th>2</th>\n",
       "      <td>76</td>\n",
       "      <td>164</td>\n",
       "    </tr>\n",
       "    <tr>\n",
       "      <th>3</th>\n",
       "      <td>53</td>\n",
       "      <td>104</td>\n",
       "    </tr>\n",
       "    <tr>\n",
       "      <th>4</th>\n",
       "      <td>8</td>\n",
       "      <td>17</td>\n",
       "    </tr>\n",
       "    <tr>\n",
       "      <th>5</th>\n",
       "      <td>1</td>\n",
       "      <td>17</td>\n",
       "    </tr>\n",
       "  </tbody>\n",
       "</table>\n",
       "</div>"
      ],
      "text/plain": [
       "claim     High  Low\n",
       "children           \n",
       "0          138  433\n",
       "1           82  242\n",
       "2           76  164\n",
       "3           53  104\n",
       "4            8   17\n",
       "5            1   17"
      ]
     },
     "execution_count": 90,
     "metadata": {},
     "output_type": "execute_result"
    }
   ],
   "source": [
    "tab_child= pd.crosstab(data.children, columns= data.claim)\n",
    "tab_child"
   ]
  },
  {
   "cell_type": "code",
   "execution_count": 91,
   "id": "31ba3042",
   "metadata": {},
   "outputs": [
    {
     "name": "stdout",
     "output_type": "stream",
     "text": [
      "Chi-square statistic 13.63573 P value 0.018097 Degrees of freedom 5\n",
      "critical value is  3.8414588206941285\n"
     ]
    }
   ],
   "source": [
    "import pandas      as pd\n",
    "import numpy       as np\n",
    "import scipy.stats as stats\n",
    "\n",
    "child_array = np.array([[138,433],[82,242],[76,164],[53,104],[8,17],[1,17]])\n",
    "\n",
    "chi_sq_Stat, p_value, deg_freedom, exp_freq = stats.chi2_contingency(child_array, correction=False)\n",
    "stats.chi2_contingency(child_array)\n",
    "\n",
    "print('Chi-square statistic %3.5f P value %1.6f Degrees of freedom %d' %(chi_sq_Stat, p_value,deg_freedom))\n",
    "df = (2-1)*(2-1)\n",
    "print(\"critical value is \", stats.chi2.isf(0.05, df))"
   ]
  },
  {
   "cell_type": "markdown",
   "id": "2aee4b1d",
   "metadata": {},
   "source": [
    "#### Chi-square_stat >> chi_Critical so we reject the null hypthesis and conclude that there is strong dependency between claims and children.\n",
    "#### P-value < alpha so in right tail chi test it falls under rejection zone and we reject our null hypothesis"
   ]
  },
  {
   "cell_type": "code",
   "execution_count": null,
   "id": "45fb3d39",
   "metadata": {},
   "outputs": [],
   "source": []
  },
  {
   "cell_type": "code",
   "execution_count": null,
   "id": "f6fd61e1",
   "metadata": {},
   "outputs": [],
   "source": [
    "#Smoker"
   ]
  },
  {
   "cell_type": "code",
   "execution_count": 92,
   "id": "daea386a",
   "metadata": {},
   "outputs": [
    {
     "data": {
      "text/plain": [
       "<AxesSubplot:xlabel='smoker', ylabel='count'>"
      ]
     },
     "execution_count": 92,
     "metadata": {},
     "output_type": "execute_result"
    },
    {
     "data": {
      "image/png": "[encoded data removed]",
      "text/plain": [
       "<Figure size 432x288 with 1 Axes>"
      ]
     },
     "metadata": {},
     "output_type": "display_data"
    }
   ],
   "source": [
    "sns.countplot(x='smoker', hue='claim', data=data)"
   ]
  },
  {
   "cell_type": "code",
   "execution_count": 94,
   "id": "81ace972",
   "metadata": {},
   "outputs": [
    {
     "data": {
      "text/html": [
       "<div>\n",
       "<style scoped>\n",
       "    .dataframe tbody tr th:only-of-type {\n",
       "        vertical-align: middle;\n",
       "    }\n",
       "\n",
       "    .dataframe tbody tr th {\n",
       "        vertical-align: top;\n",
       "    }\n",
       "\n",
       "    .dataframe thead th {\n",
       "        text-align: right;\n",
       "    }\n",
       "</style>\n",
       "<table border=\"1\" class=\"dataframe\">\n",
       "  <thead>\n",
       "    <tr style=\"text-align: right;\">\n",
       "      <th>claim</th>\n",
       "      <th>High</th>\n",
       "      <th>Low</th>\n",
       "    </tr>\n",
       "    <tr>\n",
       "      <th>smoker</th>\n",
       "      <th></th>\n",
       "      <th></th>\n",
       "    </tr>\n",
       "  </thead>\n",
       "  <tbody>\n",
       "    <tr>\n",
       "      <th>No</th>\n",
       "      <td>91</td>\n",
       "      <td>970</td>\n",
       "    </tr>\n",
       "    <tr>\n",
       "      <th>Yes</th>\n",
       "      <td>267</td>\n",
       "      <td>7</td>\n",
       "    </tr>\n",
       "  </tbody>\n",
       "</table>\n",
       "</div>"
      ],
      "text/plain": [
       "claim   High  Low\n",
       "smoker           \n",
       "No        91  970\n",
       "Yes      267    7"
      ]
     },
     "execution_count": 94,
     "metadata": {},
     "output_type": "execute_result"
    }
   ],
   "source": [
    "tab_smok= pd.crosstab(data.smoker, columns= data.claim)\n",
    "tab_smok"
   ]
  },
  {
   "cell_type": "code",
   "execution_count": 95,
   "id": "4284c79d",
   "metadata": {},
   "outputs": [
    {
     "name": "stdout",
     "output_type": "stream",
     "text": [
      "Chi-square statistic 876.32408 P value 0.000000 Degrees of freedom 1\n",
      "critical value is  3.8414588206941285\n"
     ]
    }
   ],
   "source": [
    "import pandas      as pd\n",
    "import numpy       as np\n",
    "import scipy.stats as stats\n",
    "\n",
    "smoker_array = np.array([[91,970],[267,7]])\n",
    "\n",
    "chi_sq_Stat, p_value, deg_freedom, exp_freq = stats.chi2_contingency(smoker_array, correction=False)\n",
    "stats.chi2_contingency(smoker_array)\n",
    "\n",
    "print('Chi-square statistic %3.5f P value %1.6f Degrees of freedom %d' %(chi_sq_Stat, p_value,deg_freedom))\n",
    "df = (2-1)*(2-1)\n",
    "print(\"critical value is \", stats.chi2.isf(0.05, df))"
   ]
  },
  {
   "cell_type": "markdown",
   "id": "e1413098",
   "metadata": {},
   "source": [
    "#### Chi-square_stat >> chi_Critical so we reject the null hypthesis and conclude that there is strong dependency between claims and smoking status.\n",
    "#### P-value < alpha so in right tail chi test it falls under rejection zone and we reject our null hypothesis"
   ]
  },
  {
   "cell_type": "code",
   "execution_count": null,
   "id": "b3f014d9",
   "metadata": {},
   "outputs": [],
   "source": []
  },
  {
   "cell_type": "code",
   "execution_count": 96,
   "id": "a79fb7fb",
   "metadata": {
    "scrolled": true
   },
   "outputs": [
    {
     "data": {
      "text/html": [
       "<div>\n",
       "<style scoped>\n",
       "    .dataframe tbody tr th:only-of-type {\n",
       "        vertical-align: middle;\n",
       "    }\n",
       "\n",
       "    .dataframe tbody tr th {\n",
       "        vertical-align: top;\n",
       "    }\n",
       "\n",
       "    .dataframe thead th {\n",
       "        text-align: right;\n",
       "    }\n",
       "</style>\n",
       "<table border=\"1\" class=\"dataframe\">\n",
       "  <thead>\n",
       "    <tr style=\"text-align: right;\">\n",
       "      <th></th>\n",
       "      <th>age</th>\n",
       "      <th>gender</th>\n",
       "      <th>bmi</th>\n",
       "      <th>bloodpressure</th>\n",
       "      <th>diabetic</th>\n",
       "      <th>children</th>\n",
       "      <th>smoker</th>\n",
       "      <th>region</th>\n",
       "      <th>claim</th>\n",
       "      <th>bmi_bin</th>\n",
       "      <th>bp_bin</th>\n",
       "    </tr>\n",
       "  </thead>\n",
       "  <tbody>\n",
       "    <tr>\n",
       "      <th>0</th>\n",
       "      <td>39.0</td>\n",
       "      <td>male</td>\n",
       "      <td>23.2</td>\n",
       "      <td>91</td>\n",
       "      <td>Yes</td>\n",
       "      <td>0</td>\n",
       "      <td>No</td>\n",
       "      <td>southeast</td>\n",
       "      <td>Low</td>\n",
       "      <td>Average</td>\n",
       "      <td>Average</td>\n",
       "    </tr>\n",
       "    <tr>\n",
       "      <th>1</th>\n",
       "      <td>24.0</td>\n",
       "      <td>male</td>\n",
       "      <td>30.1</td>\n",
       "      <td>87</td>\n",
       "      <td>No</td>\n",
       "      <td>0</td>\n",
       "      <td>No</td>\n",
       "      <td>southeast</td>\n",
       "      <td>Low</td>\n",
       "      <td>High</td>\n",
       "      <td>Low</td>\n",
       "    </tr>\n",
       "    <tr>\n",
       "      <th>7</th>\n",
       "      <td>19.0</td>\n",
       "      <td>male</td>\n",
       "      <td>41.1</td>\n",
       "      <td>100</td>\n",
       "      <td>No</td>\n",
       "      <td>0</td>\n",
       "      <td>No</td>\n",
       "      <td>northwest</td>\n",
       "      <td>Low</td>\n",
       "      <td>High</td>\n",
       "      <td>Average</td>\n",
       "    </tr>\n",
       "    <tr>\n",
       "      <th>8</th>\n",
       "      <td>20.0</td>\n",
       "      <td>male</td>\n",
       "      <td>43.0</td>\n",
       "      <td>86</td>\n",
       "      <td>No</td>\n",
       "      <td>0</td>\n",
       "      <td>No</td>\n",
       "      <td>northwest</td>\n",
       "      <td>Low</td>\n",
       "      <td>High</td>\n",
       "      <td>Low</td>\n",
       "    </tr>\n",
       "    <tr>\n",
       "      <th>9</th>\n",
       "      <td>30.0</td>\n",
       "      <td>male</td>\n",
       "      <td>53.1</td>\n",
       "      <td>97</td>\n",
       "      <td>No</td>\n",
       "      <td>0</td>\n",
       "      <td>No</td>\n",
       "      <td>northwest</td>\n",
       "      <td>Low</td>\n",
       "      <td>High</td>\n",
       "      <td>Average</td>\n",
       "    </tr>\n",
       "  </tbody>\n",
       "</table>\n",
       "</div>"
      ],
      "text/plain": [
       "    age gender   bmi  bloodpressure diabetic  children smoker     region  \\\n",
       "0  39.0   male  23.2             91      Yes         0     No  southeast   \n",
       "1  24.0   male  30.1             87       No         0     No  southeast   \n",
       "7  19.0   male  41.1            100       No         0     No  northwest   \n",
       "8  20.0   male  43.0             86       No         0     No  northwest   \n",
       "9  30.0   male  53.1             97       No         0     No  northwest   \n",
       "\n",
       "  claim  bmi_bin   bp_bin  \n",
       "0   Low  Average  Average  \n",
       "1   Low     High      Low  \n",
       "7   Low     High  Average  \n",
       "8   Low     High      Low  \n",
       "9   Low     High  Average  "
      ]
     },
     "execution_count": 96,
     "metadata": {},
     "output_type": "execute_result"
    }
   ],
   "source": [
    "data.head()"
   ]
  },
  {
   "cell_type": "code",
   "execution_count": 97,
   "id": "8b42e0a7",
   "metadata": {},
   "outputs": [
    {
     "data": {
      "text/plain": [
       "<AxesSubplot:xlabel='region', ylabel='count'>"
      ]
     },
     "execution_count": 97,
     "metadata": {},
     "output_type": "execute_result"
    },
    {
     "data": {
      "image/png": "[encoded data removed]",
      "text/plain": [
       "<Figure size 432x288 with 1 Axes>"
      ]
     },
     "metadata": {},
     "output_type": "display_data"
    }
   ],
   "source": [
    "sns.countplot(x='region', hue='claim', data=data)"
   ]
  },
  {
   "cell_type": "code",
   "execution_count": 99,
   "id": "97f04230",
   "metadata": {},
   "outputs": [
    {
     "data": {
      "text/html": [
       "<div>\n",
       "<style scoped>\n",
       "    .dataframe tbody tr th:only-of-type {\n",
       "        vertical-align: middle;\n",
       "    }\n",
       "\n",
       "    .dataframe tbody tr th {\n",
       "        vertical-align: top;\n",
       "    }\n",
       "\n",
       "    .dataframe thead th {\n",
       "        text-align: right;\n",
       "    }\n",
       "</style>\n",
       "<table border=\"1\" class=\"dataframe\">\n",
       "  <thead>\n",
       "    <tr style=\"text-align: right;\">\n",
       "      <th>claim</th>\n",
       "      <th>High</th>\n",
       "      <th>Low</th>\n",
       "    </tr>\n",
       "    <tr>\n",
       "      <th>region</th>\n",
       "      <th></th>\n",
       "      <th></th>\n",
       "    </tr>\n",
       "  </thead>\n",
       "  <tbody>\n",
       "    <tr>\n",
       "      <th>northeast</th>\n",
       "      <td>89</td>\n",
       "      <td>142</td>\n",
       "    </tr>\n",
       "    <tr>\n",
       "      <th>northwest</th>\n",
       "      <td>81</td>\n",
       "      <td>262</td>\n",
       "    </tr>\n",
       "    <tr>\n",
       "      <th>southeast</th>\n",
       "      <td>116</td>\n",
       "      <td>332</td>\n",
       "    </tr>\n",
       "    <tr>\n",
       "      <th>southwest</th>\n",
       "      <td>72</td>\n",
       "      <td>241</td>\n",
       "    </tr>\n",
       "  </tbody>\n",
       "</table>\n",
       "</div>"
      ],
      "text/plain": [
       "claim      High  Low\n",
       "region              \n",
       "northeast    89  142\n",
       "northwest    81  262\n",
       "southeast   116  332\n",
       "southwest    72  241"
      ]
     },
     "execution_count": 99,
     "metadata": {},
     "output_type": "execute_result"
    }
   ],
   "source": [
    "tab_reg= pd.crosstab(data.region, columns= data.claim)\n",
    "tab_reg"
   ]
  },
  {
   "cell_type": "code",
   "execution_count": 100,
   "id": "a79e8534",
   "metadata": {},
   "outputs": [
    {
     "name": "stdout",
     "output_type": "stream",
     "text": [
      "Chi-square statistic 20.44989 P value 0.000137 Degrees of freedom 3\n",
      "critical value is  3.8414588206941285\n"
     ]
    }
   ],
   "source": [
    "import pandas      as pd\n",
    "import numpy       as np\n",
    "import scipy.stats as stats\n",
    "\n",
    "region_array = np.array([[89,142],[81,262],[116,332],[72,241]])\n",
    "\n",
    "chi_sq_Stat, p_value, deg_freedom, exp_freq = stats.chi2_contingency(region_array, correction=False)\n",
    "stats.chi2_contingency(region_array)\n",
    "\n",
    "print('Chi-square statistic %3.5f P value %1.6f Degrees of freedom %d' %(chi_sq_Stat, p_value,deg_freedom))\n",
    "df = (2-1)*(2-1)\n",
    "print(\"critical value is \", stats.chi2.isf(0.05, df))"
   ]
  },
  {
   "cell_type": "markdown",
   "id": "08d3d832",
   "metadata": {},
   "source": [
    "#### Chi-square_stat >> chi_Critical so we reject the null hypthesis and conclude that there is strong dependency between claims and smoking status.\n",
    "#### P-value < alpha so in right tail chi test it falls under rejection zone and we reject our null hypothesis"
   ]
  },
  {
   "cell_type": "code",
   "execution_count": null,
   "id": "ba86a3fd",
   "metadata": {},
   "outputs": [],
   "source": []
  },
  {
   "cell_type": "code",
   "execution_count": null,
   "id": "09f45d37",
   "metadata": {},
   "outputs": [],
   "source": []
  },
  {
   "cell_type": "code",
   "execution_count": null,
   "id": "15aed5f7",
   "metadata": {},
   "outputs": [],
   "source": []
  },
  {
   "cell_type": "markdown",
   "id": "cc09755c",
   "metadata": {},
   "source": [
    "## Feature Engineering:"
   ]
  },
  {
   "cell_type": "markdown",
   "id": "af0bc6cd",
   "metadata": {},
   "source": [
    "**One Hot Encoding of Categorical Values**\n",
    "\n",
    "* For categorical columns, since it has Yes/No as values, it cannot be used for Model fitting/Machine Learning.\n",
    "\n",
    "* So it needs to changed into something which a machine can understand, i.e. 0s and 1s."
   ]
  },
  {
   "cell_type": "code",
   "execution_count": 101,
   "id": "613ff5dd",
   "metadata": {},
   "outputs": [],
   "source": [
    "new_data= pd.get_dummies(data, columns= [\"gender\", \"diabetic\", \"smoker\", \"region\"], drop_first= True)"
   ]
  },
  {
   "cell_type": "code",
   "execution_count": 102,
   "id": "2a6eb3c2",
   "metadata": {},
   "outputs": [
    {
     "data": {
      "text/html": [
       "<div>\n",
       "<style scoped>\n",
       "    .dataframe tbody tr th:only-of-type {\n",
       "        vertical-align: middle;\n",
       "    }\n",
       "\n",
       "    .dataframe tbody tr th {\n",
       "        vertical-align: top;\n",
       "    }\n",
       "\n",
       "    .dataframe thead th {\n",
       "        text-align: right;\n",
       "    }\n",
       "</style>\n",
       "<table border=\"1\" class=\"dataframe\">\n",
       "  <thead>\n",
       "    <tr style=\"text-align: right;\">\n",
       "      <th></th>\n",
       "      <th>age</th>\n",
       "      <th>bmi</th>\n",
       "      <th>bloodpressure</th>\n",
       "      <th>children</th>\n",
       "      <th>claim</th>\n",
       "      <th>bmi_bin</th>\n",
       "      <th>bp_bin</th>\n",
       "      <th>gender_male</th>\n",
       "      <th>diabetic_Yes</th>\n",
       "      <th>smoker_Yes</th>\n",
       "      <th>region_northwest</th>\n",
       "      <th>region_southeast</th>\n",
       "      <th>region_southwest</th>\n",
       "    </tr>\n",
       "  </thead>\n",
       "  <tbody>\n",
       "    <tr>\n",
       "      <th>0</th>\n",
       "      <td>39.0</td>\n",
       "      <td>23.2</td>\n",
       "      <td>91</td>\n",
       "      <td>0</td>\n",
       "      <td>Low</td>\n",
       "      <td>Average</td>\n",
       "      <td>Average</td>\n",
       "      <td>1</td>\n",
       "      <td>1</td>\n",
       "      <td>0</td>\n",
       "      <td>0</td>\n",
       "      <td>1</td>\n",
       "      <td>0</td>\n",
       "    </tr>\n",
       "    <tr>\n",
       "      <th>1</th>\n",
       "      <td>24.0</td>\n",
       "      <td>30.1</td>\n",
       "      <td>87</td>\n",
       "      <td>0</td>\n",
       "      <td>Low</td>\n",
       "      <td>High</td>\n",
       "      <td>Low</td>\n",
       "      <td>1</td>\n",
       "      <td>0</td>\n",
       "      <td>0</td>\n",
       "      <td>0</td>\n",
       "      <td>1</td>\n",
       "      <td>0</td>\n",
       "    </tr>\n",
       "    <tr>\n",
       "      <th>7</th>\n",
       "      <td>19.0</td>\n",
       "      <td>41.1</td>\n",
       "      <td>100</td>\n",
       "      <td>0</td>\n",
       "      <td>Low</td>\n",
       "      <td>High</td>\n",
       "      <td>Average</td>\n",
       "      <td>1</td>\n",
       "      <td>0</td>\n",
       "      <td>0</td>\n",
       "      <td>1</td>\n",
       "      <td>0</td>\n",
       "      <td>0</td>\n",
       "    </tr>\n",
       "    <tr>\n",
       "      <th>8</th>\n",
       "      <td>20.0</td>\n",
       "      <td>43.0</td>\n",
       "      <td>86</td>\n",
       "      <td>0</td>\n",
       "      <td>Low</td>\n",
       "      <td>High</td>\n",
       "      <td>Low</td>\n",
       "      <td>1</td>\n",
       "      <td>0</td>\n",
       "      <td>0</td>\n",
       "      <td>1</td>\n",
       "      <td>0</td>\n",
       "      <td>0</td>\n",
       "    </tr>\n",
       "    <tr>\n",
       "      <th>9</th>\n",
       "      <td>30.0</td>\n",
       "      <td>53.1</td>\n",
       "      <td>97</td>\n",
       "      <td>0</td>\n",
       "      <td>Low</td>\n",
       "      <td>High</td>\n",
       "      <td>Average</td>\n",
       "      <td>1</td>\n",
       "      <td>0</td>\n",
       "      <td>0</td>\n",
       "      <td>1</td>\n",
       "      <td>0</td>\n",
       "      <td>0</td>\n",
       "    </tr>\n",
       "  </tbody>\n",
       "</table>\n",
       "</div>"
      ],
      "text/plain": [
       "    age   bmi  bloodpressure  children claim  bmi_bin   bp_bin  gender_male  \\\n",
       "0  39.0  23.2             91         0   Low  Average  Average            1   \n",
       "1  24.0  30.1             87         0   Low     High      Low            1   \n",
       "7  19.0  41.1            100         0   Low     High  Average            1   \n",
       "8  20.0  43.0             86         0   Low     High      Low            1   \n",
       "9  30.0  53.1             97         0   Low     High  Average            1   \n",
       "\n",
       "   diabetic_Yes  smoker_Yes  region_northwest  region_southeast  \\\n",
       "0             1           0                 0                 1   \n",
       "1             0           0                 0                 1   \n",
       "7             0           0                 1                 0   \n",
       "8             0           0                 1                 0   \n",
       "9             0           0                 1                 0   \n",
       "\n",
       "   region_southwest  \n",
       "0                 0  \n",
       "1                 0  \n",
       "7                 0  \n",
       "8                 0  \n",
       "9                 0  "
      ]
     },
     "execution_count": 102,
     "metadata": {},
     "output_type": "execute_result"
    }
   ],
   "source": [
    "new_data.head()"
   ]
  },
  {
   "cell_type": "code",
   "execution_count": null,
   "id": "de6bd9d3",
   "metadata": {},
   "outputs": [],
   "source": [
    "new_data= new_data.drop(['bmi_bin','bp_bin'],axis=1)\n"
   ]
  },
  {
   "cell_type": "code",
   "execution_count": 111,
   "id": "752bcb0c",
   "metadata": {},
   "outputs": [
    {
     "data": {
      "text/html": [
       "<div>\n",
       "<style scoped>\n",
       "    .dataframe tbody tr th:only-of-type {\n",
       "        vertical-align: middle;\n",
       "    }\n",
       "\n",
       "    .dataframe tbody tr th {\n",
       "        vertical-align: top;\n",
       "    }\n",
       "\n",
       "    .dataframe thead th {\n",
       "        text-align: right;\n",
       "    }\n",
       "</style>\n",
       "<table border=\"1\" class=\"dataframe\">\n",
       "  <thead>\n",
       "    <tr style=\"text-align: right;\">\n",
       "      <th></th>\n",
       "      <th>age</th>\n",
       "      <th>bmi</th>\n",
       "      <th>bloodpressure</th>\n",
       "      <th>children</th>\n",
       "      <th>claim</th>\n",
       "      <th>gender_male</th>\n",
       "      <th>diabetic_Yes</th>\n",
       "      <th>smoker_Yes</th>\n",
       "      <th>region_northwest</th>\n",
       "      <th>region_southeast</th>\n",
       "      <th>region_southwest</th>\n",
       "    </tr>\n",
       "  </thead>\n",
       "  <tbody>\n",
       "    <tr>\n",
       "      <th>0</th>\n",
       "      <td>39.0</td>\n",
       "      <td>23.2</td>\n",
       "      <td>91</td>\n",
       "      <td>0</td>\n",
       "      <td>Low</td>\n",
       "      <td>1</td>\n",
       "      <td>1</td>\n",
       "      <td>0</td>\n",
       "      <td>0</td>\n",
       "      <td>1</td>\n",
       "      <td>0</td>\n",
       "    </tr>\n",
       "    <tr>\n",
       "      <th>1</th>\n",
       "      <td>24.0</td>\n",
       "      <td>30.1</td>\n",
       "      <td>87</td>\n",
       "      <td>0</td>\n",
       "      <td>Low</td>\n",
       "      <td>1</td>\n",
       "      <td>0</td>\n",
       "      <td>0</td>\n",
       "      <td>0</td>\n",
       "      <td>1</td>\n",
       "      <td>0</td>\n",
       "    </tr>\n",
       "    <tr>\n",
       "      <th>7</th>\n",
       "      <td>19.0</td>\n",
       "      <td>41.1</td>\n",
       "      <td>100</td>\n",
       "      <td>0</td>\n",
       "      <td>Low</td>\n",
       "      <td>1</td>\n",
       "      <td>0</td>\n",
       "      <td>0</td>\n",
       "      <td>1</td>\n",
       "      <td>0</td>\n",
       "      <td>0</td>\n",
       "    </tr>\n",
       "    <tr>\n",
       "      <th>8</th>\n",
       "      <td>20.0</td>\n",
       "      <td>43.0</td>\n",
       "      <td>86</td>\n",
       "      <td>0</td>\n",
       "      <td>Low</td>\n",
       "      <td>1</td>\n",
       "      <td>0</td>\n",
       "      <td>0</td>\n",
       "      <td>1</td>\n",
       "      <td>0</td>\n",
       "      <td>0</td>\n",
       "    </tr>\n",
       "    <tr>\n",
       "      <th>9</th>\n",
       "      <td>30.0</td>\n",
       "      <td>53.1</td>\n",
       "      <td>97</td>\n",
       "      <td>0</td>\n",
       "      <td>Low</td>\n",
       "      <td>1</td>\n",
       "      <td>0</td>\n",
       "      <td>0</td>\n",
       "      <td>1</td>\n",
       "      <td>0</td>\n",
       "      <td>0</td>\n",
       "    </tr>\n",
       "    <tr>\n",
       "      <th>...</th>\n",
       "      <td>...</td>\n",
       "      <td>...</td>\n",
       "      <td>...</td>\n",
       "      <td>...</td>\n",
       "      <td>...</td>\n",
       "      <td>...</td>\n",
       "      <td>...</td>\n",
       "      <td>...</td>\n",
       "      <td>...</td>\n",
       "      <td>...</td>\n",
       "      <td>...</td>\n",
       "    </tr>\n",
       "    <tr>\n",
       "      <th>1335</th>\n",
       "      <td>44.0</td>\n",
       "      <td>35.5</td>\n",
       "      <td>88</td>\n",
       "      <td>0</td>\n",
       "      <td>High</td>\n",
       "      <td>0</td>\n",
       "      <td>1</td>\n",
       "      <td>1</td>\n",
       "      <td>1</td>\n",
       "      <td>0</td>\n",
       "      <td>0</td>\n",
       "    </tr>\n",
       "    <tr>\n",
       "      <th>1336</th>\n",
       "      <td>59.0</td>\n",
       "      <td>38.1</td>\n",
       "      <td>120</td>\n",
       "      <td>1</td>\n",
       "      <td>High</td>\n",
       "      <td>0</td>\n",
       "      <td>0</td>\n",
       "      <td>1</td>\n",
       "      <td>0</td>\n",
       "      <td>0</td>\n",
       "      <td>0</td>\n",
       "    </tr>\n",
       "    <tr>\n",
       "      <th>1337</th>\n",
       "      <td>30.0</td>\n",
       "      <td>34.5</td>\n",
       "      <td>91</td>\n",
       "      <td>3</td>\n",
       "      <td>High</td>\n",
       "      <td>1</td>\n",
       "      <td>1</td>\n",
       "      <td>1</td>\n",
       "      <td>1</td>\n",
       "      <td>0</td>\n",
       "      <td>0</td>\n",
       "    </tr>\n",
       "    <tr>\n",
       "      <th>1338</th>\n",
       "      <td>37.0</td>\n",
       "      <td>30.4</td>\n",
       "      <td>106</td>\n",
       "      <td>0</td>\n",
       "      <td>High</td>\n",
       "      <td>1</td>\n",
       "      <td>0</td>\n",
       "      <td>1</td>\n",
       "      <td>0</td>\n",
       "      <td>1</td>\n",
       "      <td>0</td>\n",
       "    </tr>\n",
       "    <tr>\n",
       "      <th>1339</th>\n",
       "      <td>30.0</td>\n",
       "      <td>47.4</td>\n",
       "      <td>101</td>\n",
       "      <td>0</td>\n",
       "      <td>High</td>\n",
       "      <td>0</td>\n",
       "      <td>0</td>\n",
       "      <td>1</td>\n",
       "      <td>0</td>\n",
       "      <td>1</td>\n",
       "      <td>0</td>\n",
       "    </tr>\n",
       "  </tbody>\n",
       "</table>\n",
       "<p>1335 rows × 11 columns</p>\n",
       "</div>"
      ],
      "text/plain": [
       "       age   bmi  bloodpressure  children claim  gender_male  diabetic_Yes  \\\n",
       "0     39.0  23.2             91         0   Low            1             1   \n",
       "1     24.0  30.1             87         0   Low            1             0   \n",
       "7     19.0  41.1            100         0   Low            1             0   \n",
       "8     20.0  43.0             86         0   Low            1             0   \n",
       "9     30.0  53.1             97         0   Low            1             0   \n",
       "...    ...   ...            ...       ...   ...          ...           ...   \n",
       "1335  44.0  35.5             88         0  High            0             1   \n",
       "1336  59.0  38.1            120         1  High            0             0   \n",
       "1337  30.0  34.5             91         3  High            1             1   \n",
       "1338  37.0  30.4            106         0  High            1             0   \n",
       "1339  30.0  47.4            101         0  High            0             0   \n",
       "\n",
       "      smoker_Yes  region_northwest  region_southeast  region_southwest  \n",
       "0              0                 0                 1                 0  \n",
       "1              0                 0                 1                 0  \n",
       "7              0                 1                 0                 0  \n",
       "8              0                 1                 0                 0  \n",
       "9              0                 1                 0                 0  \n",
       "...          ...               ...               ...               ...  \n",
       "1335           1                 1                 0                 0  \n",
       "1336           1                 0                 0                 0  \n",
       "1337           1                 1                 0                 0  \n",
       "1338           1                 0                 1                 0  \n",
       "1339           1                 0                 1                 0  \n",
       "\n",
       "[1335 rows x 11 columns]"
      ]
     },
     "execution_count": 111,
     "metadata": {},
     "output_type": "execute_result"
    }
   ],
   "source": [
    "new_data"
   ]
  },
  {
   "cell_type": "code",
   "execution_count": 114,
   "id": "fcb8bf97",
   "metadata": {},
   "outputs": [],
   "source": [
    "data= new_data.copy()"
   ]
  },
  {
   "cell_type": "code",
   "execution_count": 115,
   "id": "64aa6780",
   "metadata": {},
   "outputs": [
    {
     "data": {
      "text/html": [
       "<div>\n",
       "<style scoped>\n",
       "    .dataframe tbody tr th:only-of-type {\n",
       "        vertical-align: middle;\n",
       "    }\n",
       "\n",
       "    .dataframe tbody tr th {\n",
       "        vertical-align: top;\n",
       "    }\n",
       "\n",
       "    .dataframe thead th {\n",
       "        text-align: right;\n",
       "    }\n",
       "</style>\n",
       "<table border=\"1\" class=\"dataframe\">\n",
       "  <thead>\n",
       "    <tr style=\"text-align: right;\">\n",
       "      <th></th>\n",
       "      <th>age</th>\n",
       "      <th>bmi</th>\n",
       "      <th>bloodpressure</th>\n",
       "      <th>children</th>\n",
       "      <th>claim</th>\n",
       "      <th>gender_male</th>\n",
       "      <th>diabetic_Yes</th>\n",
       "      <th>smoker_Yes</th>\n",
       "      <th>region_northwest</th>\n",
       "      <th>region_southeast</th>\n",
       "      <th>region_southwest</th>\n",
       "    </tr>\n",
       "  </thead>\n",
       "  <tbody>\n",
       "    <tr>\n",
       "      <th>0</th>\n",
       "      <td>39.0</td>\n",
       "      <td>23.2</td>\n",
       "      <td>91</td>\n",
       "      <td>0</td>\n",
       "      <td>Low</td>\n",
       "      <td>1</td>\n",
       "      <td>1</td>\n",
       "      <td>0</td>\n",
       "      <td>0</td>\n",
       "      <td>1</td>\n",
       "      <td>0</td>\n",
       "    </tr>\n",
       "    <tr>\n",
       "      <th>1</th>\n",
       "      <td>24.0</td>\n",
       "      <td>30.1</td>\n",
       "      <td>87</td>\n",
       "      <td>0</td>\n",
       "      <td>Low</td>\n",
       "      <td>1</td>\n",
       "      <td>0</td>\n",
       "      <td>0</td>\n",
       "      <td>0</td>\n",
       "      <td>1</td>\n",
       "      <td>0</td>\n",
       "    </tr>\n",
       "    <tr>\n",
       "      <th>7</th>\n",
       "      <td>19.0</td>\n",
       "      <td>41.1</td>\n",
       "      <td>100</td>\n",
       "      <td>0</td>\n",
       "      <td>Low</td>\n",
       "      <td>1</td>\n",
       "      <td>0</td>\n",
       "      <td>0</td>\n",
       "      <td>1</td>\n",
       "      <td>0</td>\n",
       "      <td>0</td>\n",
       "    </tr>\n",
       "    <tr>\n",
       "      <th>8</th>\n",
       "      <td>20.0</td>\n",
       "      <td>43.0</td>\n",
       "      <td>86</td>\n",
       "      <td>0</td>\n",
       "      <td>Low</td>\n",
       "      <td>1</td>\n",
       "      <td>0</td>\n",
       "      <td>0</td>\n",
       "      <td>1</td>\n",
       "      <td>0</td>\n",
       "      <td>0</td>\n",
       "    </tr>\n",
       "    <tr>\n",
       "      <th>9</th>\n",
       "      <td>30.0</td>\n",
       "      <td>53.1</td>\n",
       "      <td>97</td>\n",
       "      <td>0</td>\n",
       "      <td>Low</td>\n",
       "      <td>1</td>\n",
       "      <td>0</td>\n",
       "      <td>0</td>\n",
       "      <td>1</td>\n",
       "      <td>0</td>\n",
       "      <td>0</td>\n",
       "    </tr>\n",
       "  </tbody>\n",
       "</table>\n",
       "</div>"
      ],
      "text/plain": [
       "    age   bmi  bloodpressure  children claim  gender_male  diabetic_Yes  \\\n",
       "0  39.0  23.2             91         0   Low            1             1   \n",
       "1  24.0  30.1             87         0   Low            1             0   \n",
       "7  19.0  41.1            100         0   Low            1             0   \n",
       "8  20.0  43.0             86         0   Low            1             0   \n",
       "9  30.0  53.1             97         0   Low            1             0   \n",
       "\n",
       "   smoker_Yes  region_northwest  region_southeast  region_southwest  \n",
       "0           0                 0                 1                 0  \n",
       "1           0                 0                 1                 0  \n",
       "7           0                 1                 0                 0  \n",
       "8           0                 1                 0                 0  \n",
       "9           0                 1                 0                 0  "
      ]
     },
     "execution_count": 115,
     "metadata": {},
     "output_type": "execute_result"
    }
   ],
   "source": [
    "data.head()"
   ]
  },
  {
   "cell_type": "code",
   "execution_count": null,
   "id": "3f8bdade",
   "metadata": {},
   "outputs": [],
   "source": []
  },
  {
   "cell_type": "markdown",
   "id": "7b4a52ec",
   "metadata": {},
   "source": [
    "## Machine Learning Models"
   ]
  },
  {
   "cell_type": "code",
   "execution_count": null,
   "id": "92bb7366",
   "metadata": {},
   "outputs": [],
   "source": [
    "## CART"
   ]
  },
  {
   "cell_type": "code",
   "execution_count": 302,
   "id": "f9571359",
   "metadata": {},
   "outputs": [],
   "source": [
    "#Import libraries:\n",
    "import pandas as pd\n",
    "import numpy as np\n",
    "from sklearn.tree import DecisionTreeClassifier\n",
    "from sklearn.ensemble import BaggingClassifier\n",
    "from sklearn.model_selection import GridSearchCV   #Perforing grid search\n",
    "from sklearn.model_selection import cross_val_score   #Additional scklearn functions\n",
    "from sklearn import metrics #for accuracy metrix"
   ]
  },
  {
   "cell_type": "code",
   "execution_count": 303,
   "id": "52b66dbb",
   "metadata": {},
   "outputs": [],
   "source": [
    "import matplotlib.pylab as plt\n",
    "%matplotlib inline\n",
    "from matplotlib.pylab import rcParams\n",
    "rcParams['figure.figsize'] = 12, 4"
   ]
  },
  {
   "cell_type": "code",
   "execution_count": 304,
   "id": "199bc923",
   "metadata": {},
   "outputs": [],
   "source": [
    "#predictors and target\n",
    "X= data.drop(['claim'],axis=1)\n",
    "y= data.claim"
   ]
  },
  {
   "cell_type": "code",
   "execution_count": 305,
   "id": "84a8cb59",
   "metadata": {},
   "outputs": [],
   "source": [
    "from sklearn.model_selection import train_test_split\n",
    "X_train, X_test, y_train, y_test = train_test_split(X, y, test_size = 0.2)"
   ]
  },
  {
   "cell_type": "code",
   "execution_count": 306,
   "id": "361cc957",
   "metadata": {},
   "outputs": [
    {
     "data": {
      "text/plain": [
       "(1068, 267)"
      ]
     },
     "execution_count": 306,
     "metadata": {},
     "output_type": "execute_result"
    }
   ],
   "source": [
    "len(X_train), len(X_test)"
   ]
  },
  {
   "cell_type": "code",
   "execution_count": 307,
   "id": "527ef510",
   "metadata": {},
   "outputs": [
    {
     "data": {
      "text/plain": [
       "0.8"
      ]
     },
     "execution_count": 307,
     "metadata": {},
     "output_type": "execute_result"
    }
   ],
   "source": [
    "len(X_train)/len(X)"
   ]
  },
  {
   "cell_type": "code",
   "execution_count": 308,
   "id": "4e9847ce",
   "metadata": {},
   "outputs": [],
   "source": [
    "#For fitting classifier tree\n",
    "from sklearn.tree import DecisionTreeClassifier\n",
    "\n",
    "#To create a confusion matrix\n",
    "from sklearn.metrics import confusion_matrix\n",
    "\n",
    "#For plotting a decision tree\n",
    "from sklearn import tree"
   ]
  },
  {
   "cell_type": "code",
   "execution_count": 309,
   "id": "79fa7f94",
   "metadata": {},
   "outputs": [
    {
     "data": {
      "text/plain": [
       "DecisionTreeClassifier()"
      ]
     },
     "execution_count": 309,
     "metadata": {},
     "output_type": "execute_result"
    }
   ],
   "source": [
    "clf_tree = DecisionTreeClassifier() #greedy algorithm\n",
    "clf_tree.fit(X_train, y_train)"
   ]
  },
  {
   "cell_type": "code",
   "execution_count": 310,
   "id": "ae993c54",
   "metadata": {},
   "outputs": [
    {
     "data": {
      "image/png": "[encoded data removed]",
      "text/plain": [
       "<Figure size 900x900 with 1 Axes>"
      ]
     },
     "metadata": {
      "needs_background": "light"
     },
     "output_type": "display_data"
    }
   ],
   "source": [
    "fig, axes = plt.subplots(figsize=(3,3), dpi=300)\n",
    "\n",
    "tree.plot_tree(clf_tree, feature_names=list(X), filled = False)\n",
    "\n",
    "plt.show()"
   ]
  },
  {
   "cell_type": "code",
   "execution_count": 311,
   "id": "f44f7ce5",
   "metadata": {},
   "outputs": [
    {
     "data": {
      "text/plain": [
       "array(['Low', 'Low', 'Low', 'Low', 'Low', 'High', 'High', 'Low', 'High',\n",
       "       'High', 'High', 'Low', 'Low', 'Low', 'Low', 'Low', 'Low', 'Low',\n",
       "       'High', 'Low', 'High', 'High', 'High', 'High', 'Low', 'High',\n",
       "       'Low', 'High', 'Low', 'Low', 'Low', 'Low', 'Low', 'Low', 'Low',\n",
       "       'Low', 'High', 'Low', 'Low', 'Low', 'High', 'High', 'Low', 'Low',\n",
       "       'Low', 'Low', 'Low', 'Low', 'High', 'Low', 'Low', 'High', 'Low',\n",
       "       'High', 'Low', 'Low', 'Low', 'Low', 'Low', 'High', 'Low', 'Low',\n",
       "       'High', 'Low', 'High', 'Low', 'Low', 'High', 'Low', 'High', 'Low',\n",
       "       'Low', 'Low', 'High', 'High', 'Low', 'Low', 'Low', 'Low', 'High',\n",
       "       'Low', 'High', 'Low', 'Low', 'High', 'Low', 'High', 'Low', 'High',\n",
       "       'Low', 'Low', 'High', 'High', 'Low', 'High', 'High', 'Low', 'Low',\n",
       "       'High', 'Low', 'Low', 'High', 'High', 'Low', 'High', 'Low', 'High',\n",
       "       'Low', 'Low', 'Low', 'High', 'Low', 'High', 'Low', 'Low', 'High',\n",
       "       'Low', 'Low', 'Low', 'Low', 'Low', 'Low', 'High', 'Low', 'Low',\n",
       "       'High', 'Low', 'Low', 'High', 'Low', 'Low', 'Low', 'Low', 'Low',\n",
       "       'Low', 'Low', 'Low', 'Low', 'Low', 'Low', 'Low', 'Low', 'High',\n",
       "       'Low', 'Low', 'Low', 'Low', 'Low', 'Low', 'Low', 'High', 'Low',\n",
       "       'Low', 'High', 'Low', 'Low', 'Low', 'High', 'Low', 'Low', 'Low',\n",
       "       'Low', 'High', 'Low', 'High', 'Low', 'Low', 'Low', 'Low', 'High',\n",
       "       'High', 'Low', 'Low', 'High', 'High', 'High', 'Low', 'High', 'Low',\n",
       "       'High', 'Low', 'Low', 'Low', 'Low', 'High', 'Low', 'Low', 'Low',\n",
       "       'Low', 'Low', 'High', 'Low', 'Low', 'Low', 'High', 'Low', 'Low',\n",
       "       'High', 'Low', 'Low', 'Low', 'High', 'Low', 'High', 'High', 'Low',\n",
       "       'Low', 'Low', 'High', 'Low', 'Low', 'Low', 'Low', 'Low', 'Low',\n",
       "       'Low', 'Low', 'Low', 'Low', 'Low', 'Low', 'Low', 'Low', 'High',\n",
       "       'Low', 'Low', 'High', 'Low', 'Low', 'Low', 'Low', 'Low', 'Low',\n",
       "       'Low', 'Low', 'Low', 'High', 'High', 'High', 'Low', 'Low', 'Low',\n",
       "       'Low', 'Low', 'Low', 'High', 'Low', 'Low', 'High', 'Low', 'Low',\n",
       "       'Low', 'High', 'Low', 'High', 'Low', 'Low', 'Low', 'High', 'High',\n",
       "       'Low', 'Low', 'Low', 'Low', 'High', 'High', 'Low'], dtype=object)"
      ]
     },
     "execution_count": 311,
     "metadata": {},
     "output_type": "execute_result"
    }
   ],
   "source": [
    "#clf_tree = DecisionTreeClassifier() #greedy algorithm\n",
    "#clf_tree.fit(X_train, y_train)\n",
    "\n",
    "pred = clf_tree.predict(X_test)\n",
    "pred"
   ]
  },
  {
   "cell_type": "code",
   "execution_count": 312,
   "id": "989ebb2e",
   "metadata": {},
   "outputs": [
    {
     "data": {
      "text/plain": [
       "(267, 267)"
      ]
     },
     "execution_count": 312,
     "metadata": {},
     "output_type": "execute_result"
    }
   ],
   "source": [
    "len(y_test), len(pred)"
   ]
  },
  {
   "cell_type": "code",
   "execution_count": 313,
   "id": "70e13aad",
   "metadata": {},
   "outputs": [],
   "source": [
    "feat = pd.DataFrame({'Feature_names' :X_train.columns, 'Importances': clf_tree.feature_importances_})"
   ]
  },
  {
   "cell_type": "code",
   "execution_count": 314,
   "id": "7b711528",
   "metadata": {},
   "outputs": [
    {
     "data": {
      "text/html": [
       "<div>\n",
       "<style scoped>\n",
       "    .dataframe tbody tr th:only-of-type {\n",
       "        vertical-align: middle;\n",
       "    }\n",
       "\n",
       "    .dataframe tbody tr th {\n",
       "        vertical-align: top;\n",
       "    }\n",
       "\n",
       "    .dataframe thead th {\n",
       "        text-align: right;\n",
       "    }\n",
       "</style>\n",
       "<table border=\"1\" class=\"dataframe\">\n",
       "  <thead>\n",
       "    <tr style=\"text-align: right;\">\n",
       "      <th></th>\n",
       "      <th>Feature_names</th>\n",
       "      <th>Importances</th>\n",
       "    </tr>\n",
       "  </thead>\n",
       "  <tbody>\n",
       "    <tr>\n",
       "      <th>0</th>\n",
       "      <td>age</td>\n",
       "      <td>0.089828</td>\n",
       "    </tr>\n",
       "    <tr>\n",
       "      <th>1</th>\n",
       "      <td>bmi</td>\n",
       "      <td>0.097735</td>\n",
       "    </tr>\n",
       "    <tr>\n",
       "      <th>2</th>\n",
       "      <td>bloodpressure</td>\n",
       "      <td>0.092879</td>\n",
       "    </tr>\n",
       "    <tr>\n",
       "      <th>3</th>\n",
       "      <td>children</td>\n",
       "      <td>0.016033</td>\n",
       "    </tr>\n",
       "    <tr>\n",
       "      <th>4</th>\n",
       "      <td>gender_male</td>\n",
       "      <td>0.004670</td>\n",
       "    </tr>\n",
       "    <tr>\n",
       "      <th>5</th>\n",
       "      <td>diabetic_Yes</td>\n",
       "      <td>0.000652</td>\n",
       "    </tr>\n",
       "    <tr>\n",
       "      <th>6</th>\n",
       "      <td>smoker_Yes</td>\n",
       "      <td>0.660448</td>\n",
       "    </tr>\n",
       "    <tr>\n",
       "      <th>7</th>\n",
       "      <td>region_northwest</td>\n",
       "      <td>0.025835</td>\n",
       "    </tr>\n",
       "    <tr>\n",
       "      <th>8</th>\n",
       "      <td>region_southeast</td>\n",
       "      <td>0.008686</td>\n",
       "    </tr>\n",
       "    <tr>\n",
       "      <th>9</th>\n",
       "      <td>region_southwest</td>\n",
       "      <td>0.003234</td>\n",
       "    </tr>\n",
       "  </tbody>\n",
       "</table>\n",
       "</div>"
      ],
      "text/plain": [
       "      Feature_names  Importances\n",
       "0               age     0.089828\n",
       "1               bmi     0.097735\n",
       "2     bloodpressure     0.092879\n",
       "3          children     0.016033\n",
       "4       gender_male     0.004670\n",
       "5      diabetic_Yes     0.000652\n",
       "6        smoker_Yes     0.660448\n",
       "7  region_northwest     0.025835\n",
       "8  region_southeast     0.008686\n",
       "9  region_southwest     0.003234"
      ]
     },
     "execution_count": 314,
     "metadata": {},
     "output_type": "execute_result"
    }
   ],
   "source": [
    "feat"
   ]
  },
  {
   "cell_type": "code",
   "execution_count": 315,
   "id": "58873757",
   "metadata": {},
   "outputs": [
    {
     "data": {
      "text/html": [
       "<div>\n",
       "<style scoped>\n",
       "    .dataframe tbody tr th:only-of-type {\n",
       "        vertical-align: middle;\n",
       "    }\n",
       "\n",
       "    .dataframe tbody tr th {\n",
       "        vertical-align: top;\n",
       "    }\n",
       "\n",
       "    .dataframe thead th {\n",
       "        text-align: right;\n",
       "    }\n",
       "</style>\n",
       "<table border=\"1\" class=\"dataframe\">\n",
       "  <thead>\n",
       "    <tr style=\"text-align: right;\">\n",
       "      <th></th>\n",
       "      <th>Feature_names</th>\n",
       "      <th>Importances</th>\n",
       "    </tr>\n",
       "  </thead>\n",
       "  <tbody>\n",
       "    <tr>\n",
       "      <th>5</th>\n",
       "      <td>diabetic_Yes</td>\n",
       "      <td>0.000652</td>\n",
       "    </tr>\n",
       "    <tr>\n",
       "      <th>9</th>\n",
       "      <td>region_southwest</td>\n",
       "      <td>0.003234</td>\n",
       "    </tr>\n",
       "    <tr>\n",
       "      <th>4</th>\n",
       "      <td>gender_male</td>\n",
       "      <td>0.004670</td>\n",
       "    </tr>\n",
       "    <tr>\n",
       "      <th>8</th>\n",
       "      <td>region_southeast</td>\n",
       "      <td>0.008686</td>\n",
       "    </tr>\n",
       "    <tr>\n",
       "      <th>3</th>\n",
       "      <td>children</td>\n",
       "      <td>0.016033</td>\n",
       "    </tr>\n",
       "    <tr>\n",
       "      <th>7</th>\n",
       "      <td>region_northwest</td>\n",
       "      <td>0.025835</td>\n",
       "    </tr>\n",
       "    <tr>\n",
       "      <th>0</th>\n",
       "      <td>age</td>\n",
       "      <td>0.089828</td>\n",
       "    </tr>\n",
       "    <tr>\n",
       "      <th>2</th>\n",
       "      <td>bloodpressure</td>\n",
       "      <td>0.092879</td>\n",
       "    </tr>\n",
       "    <tr>\n",
       "      <th>1</th>\n",
       "      <td>bmi</td>\n",
       "      <td>0.097735</td>\n",
       "    </tr>\n",
       "    <tr>\n",
       "      <th>6</th>\n",
       "      <td>smoker_Yes</td>\n",
       "      <td>0.660448</td>\n",
       "    </tr>\n",
       "  </tbody>\n",
       "</table>\n",
       "</div>"
      ],
      "text/plain": [
       "      Feature_names  Importances\n",
       "5      diabetic_Yes     0.000652\n",
       "9  region_southwest     0.003234\n",
       "4       gender_male     0.004670\n",
       "8  region_southeast     0.008686\n",
       "3          children     0.016033\n",
       "7  region_northwest     0.025835\n",
       "0               age     0.089828\n",
       "2     bloodpressure     0.092879\n",
       "1               bmi     0.097735\n",
       "6        smoker_Yes     0.660448"
      ]
     },
     "execution_count": 315,
     "metadata": {},
     "output_type": "execute_result"
    }
   ],
   "source": [
    "feat.sort_values(\"Importances\")"
   ]
  },
  {
   "cell_type": "code",
   "execution_count": null,
   "id": "d57db09b",
   "metadata": {},
   "outputs": [],
   "source": []
  },
  {
   "cell_type": "code",
   "execution_count": 316,
   "id": "22ca5497",
   "metadata": {},
   "outputs": [
    {
     "data": {
      "text/plain": [
       "array([[ 62,  17],\n",
       "       [ 17, 171]], dtype=int64)"
      ]
     },
     "execution_count": 316,
     "metadata": {},
     "output_type": "execute_result"
    }
   ],
   "source": [
    "from sklearn.metrics import confusion_matrix\n",
    "\n",
    "cm= confusion_matrix(y_test, pred )\n",
    "cm"
   ]
  },
  {
   "cell_type": "code",
   "execution_count": 329,
   "id": "9e7270b8",
   "metadata": {},
   "outputs": [],
   "source": [
    "#Accuracy\n",
    "a1= (cm[0,0]+cm[1,1])/ (cm[0,0]+cm[0,1]+ cm[1,0]+cm[1,1])"
   ]
  },
  {
   "cell_type": "code",
   "execution_count": 330,
   "id": "9b72b023",
   "metadata": {},
   "outputs": [],
   "source": [
    "# Recall/ Sensitivity\n",
    "r1= (cm[0,0])/ (cm[0,0]+cm[0,1])"
   ]
  },
  {
   "cell_type": "code",
   "execution_count": 331,
   "id": "07cef660",
   "metadata": {},
   "outputs": [],
   "source": [
    "# Precision\n",
    "p1= (cm[0,0])/ (cm[0,0]+cm[1,0])"
   ]
  },
  {
   "cell_type": "code",
   "execution_count": 332,
   "id": "fcb0003d",
   "metadata": {},
   "outputs": [],
   "source": [
    "#Specificity\n",
    "s1= (cm[1,1])/ (cm[1,0]+cm[1,1])"
   ]
  },
  {
   "cell_type": "code",
   "execution_count": 333,
   "id": "2d4af976",
   "metadata": {},
   "outputs": [],
   "source": [
    "#F1score:\n",
    "\n",
    "f1= (2* (r*p))/ (r+p)"
   ]
  },
  {
   "cell_type": "code",
   "execution_count": 334,
   "id": "69239cf0",
   "metadata": {},
   "outputs": [
    {
     "data": {
      "text/plain": [
       "(0.8726591760299626,\n",
       " 0.7848101265822784,\n",
       " 0.7848101265822784,\n",
       " 0.9095744680851063,\n",
       " 0.7848101265822784)"
      ]
     },
     "execution_count": 334,
     "metadata": {},
     "output_type": "execute_result"
    }
   ],
   "source": [
    "a1,r1,p1,s1,f1"
   ]
  },
  {
   "cell_type": "code",
   "execution_count": 339,
   "id": "ea3eb3eb",
   "metadata": {},
   "outputs": [],
   "source": [
    "metrics=['Accuracy','Recall', 'Precision', 'Specificity', 'F1 Score']\n",
    "values1=[a1,r1,p1,s1,f1]"
   ]
  },
  {
   "cell_type": "code",
   "execution_count": 340,
   "id": "d4b515ab",
   "metadata": {},
   "outputs": [],
   "source": [
    "metric = pd.DataFrame({'Metrics' :metrics, 'Values': values1})"
   ]
  },
  {
   "cell_type": "code",
   "execution_count": 341,
   "id": "9c8cfb26",
   "metadata": {},
   "outputs": [
    {
     "data": {
      "text/html": [
       "<div>\n",
       "<style scoped>\n",
       "    .dataframe tbody tr th:only-of-type {\n",
       "        vertical-align: middle;\n",
       "    }\n",
       "\n",
       "    .dataframe tbody tr th {\n",
       "        vertical-align: top;\n",
       "    }\n",
       "\n",
       "    .dataframe thead th {\n",
       "        text-align: right;\n",
       "    }\n",
       "</style>\n",
       "<table border=\"1\" class=\"dataframe\">\n",
       "  <thead>\n",
       "    <tr style=\"text-align: right;\">\n",
       "      <th></th>\n",
       "      <th>Metrics</th>\n",
       "      <th>Values</th>\n",
       "    </tr>\n",
       "  </thead>\n",
       "  <tbody>\n",
       "    <tr>\n",
       "      <th>0</th>\n",
       "      <td>Accuracy</td>\n",
       "      <td>0.872659</td>\n",
       "    </tr>\n",
       "    <tr>\n",
       "      <th>1</th>\n",
       "      <td>Recall</td>\n",
       "      <td>0.784810</td>\n",
       "    </tr>\n",
       "    <tr>\n",
       "      <th>2</th>\n",
       "      <td>Precision</td>\n",
       "      <td>0.784810</td>\n",
       "    </tr>\n",
       "    <tr>\n",
       "      <th>3</th>\n",
       "      <td>Specificity</td>\n",
       "      <td>0.909574</td>\n",
       "    </tr>\n",
       "    <tr>\n",
       "      <th>4</th>\n",
       "      <td>F1 Score</td>\n",
       "      <td>0.784810</td>\n",
       "    </tr>\n",
       "  </tbody>\n",
       "</table>\n",
       "</div>"
      ],
      "text/plain": [
       "       Metrics    Values\n",
       "0     Accuracy  0.872659\n",
       "1       Recall  0.784810\n",
       "2    Precision  0.784810\n",
       "3  Specificity  0.909574\n",
       "4     F1 Score  0.784810"
      ]
     },
     "execution_count": 341,
     "metadata": {},
     "output_type": "execute_result"
    }
   ],
   "source": [
    "metric"
   ]
  },
  {
   "cell_type": "code",
   "execution_count": null,
   "id": "be6fb303",
   "metadata": {},
   "outputs": [],
   "source": []
  },
  {
   "cell_type": "code",
   "execution_count": 326,
   "id": "269e104f",
   "metadata": {},
   "outputs": [],
   "source": [
    "### 10 - Cross Validation\n",
    "\n",
    "#Using Cross-Validation to choose optimal k\n",
    "depth = list(range(1,15))\n",
    "\n",
    "# empty list that will hold cv scores\n",
    "cv_scores = []\n",
    "\n",
    "# perform 10-fold cross validation\n",
    "for k in depth:\n",
    "    dtr = DecisionTreeClassifier(max_depth=k)\n",
    "    scores = cross_val_score(dtr, X_train, y_train, cv=10)\n",
    "    cv_scores.append(scores.mean())"
   ]
  },
  {
   "cell_type": "code",
   "execution_count": 327,
   "id": "87cd5e0c",
   "metadata": {},
   "outputs": [
    {
     "data": {
      "text/plain": [
       "[0.07112502204196791,\n",
       " 0.061770410862281744,\n",
       " 0.060835831423029396,\n",
       " 0.059874801622288865,\n",
       " 0.05894022218303652,\n",
       " 0.06926467995062602,\n",
       " 0.06643449127138079,\n",
       " 0.07858402398166109,\n",
       " 0.0767148651031564,\n",
       " 0.08702168929642029,\n",
       " 0.08981661082701464,\n",
       " 0.09823664256744835,\n",
       " 0.107644154470111,\n",
       " 0.10856110033503796]"
      ]
     },
     "execution_count": 327,
     "metadata": {},
     "output_type": "execute_result"
    }
   ],
   "source": [
    "error = [1- x for x in cv_scores]\n",
    "error"
   ]
  },
  {
   "cell_type": "code",
   "execution_count": 328,
   "id": "dfef5e5b",
   "metadata": {},
   "outputs": [
    {
     "data": {
      "image/png": "[encoded data removed]",
      "text/plain": [
       "<Figure size 864x288 with 1 Axes>"
      ]
     },
     "metadata": {
      "needs_background": "light"
     },
     "output_type": "display_data"
    }
   ],
   "source": [
    "plt.plot(depth, error)\n",
    "plt.show()   #depth 2"
   ]
  },
  {
   "cell_type": "code",
   "execution_count": null,
   "id": "6b36df90",
   "metadata": {},
   "outputs": [],
   "source": []
  },
  {
   "cell_type": "code",
   "execution_count": null,
   "id": "2b4ee885",
   "metadata": {},
   "outputs": [],
   "source": []
  },
  {
   "cell_type": "code",
   "execution_count": null,
   "id": "1bf18e0b",
   "metadata": {},
   "outputs": [],
   "source": []
  },
  {
   "cell_type": "code",
   "execution_count": 209,
   "id": "3fa0fd5b",
   "metadata": {},
   "outputs": [],
   "source": [
    "train = data\n",
    "target = 'claim'"
   ]
  },
  {
   "cell_type": "code",
   "execution_count": 210,
   "id": "dc8f64e7",
   "metadata": {},
   "outputs": [
    {
     "data": {
      "text/plain": [
       "(1335, 11)"
      ]
     },
     "execution_count": 210,
     "metadata": {},
     "output_type": "execute_result"
    }
   ],
   "source": [
    "train.shape"
   ]
  },
  {
   "cell_type": "code",
   "execution_count": 211,
   "id": "8059a781",
   "metadata": {},
   "outputs": [
    {
     "data": {
      "text/plain": [
       "Low     977\n",
       "High    358\n",
       "Name: claim, dtype: int64"
      ]
     },
     "execution_count": 211,
     "metadata": {},
     "output_type": "execute_result"
    }
   ],
   "source": [
    "train[target].value_counts() #Slightly imbalanced"
   ]
  },
  {
   "cell_type": "code",
   "execution_count": 212,
   "id": "e37f080d",
   "metadata": {},
   "outputs": [
    {
     "data": {
      "text/plain": [
       "0.3664278403275333"
      ]
     },
     "execution_count": 212,
     "metadata": {},
     "output_type": "execute_result"
    }
   ],
   "source": [
    "358/977"
   ]
  },
  {
   "cell_type": "code",
   "execution_count": 213,
   "id": "7aeab7c2",
   "metadata": {},
   "outputs": [
    {
     "data": {
      "text/html": [
       "<div>\n",
       "<style scoped>\n",
       "    .dataframe tbody tr th:only-of-type {\n",
       "        vertical-align: middle;\n",
       "    }\n",
       "\n",
       "    .dataframe tbody tr th {\n",
       "        vertical-align: top;\n",
       "    }\n",
       "\n",
       "    .dataframe thead th {\n",
       "        text-align: right;\n",
       "    }\n",
       "</style>\n",
       "<table border=\"1\" class=\"dataframe\">\n",
       "  <thead>\n",
       "    <tr style=\"text-align: right;\">\n",
       "      <th></th>\n",
       "      <th>age</th>\n",
       "      <th>bmi</th>\n",
       "      <th>bloodpressure</th>\n",
       "      <th>children</th>\n",
       "      <th>claim</th>\n",
       "      <th>gender_male</th>\n",
       "      <th>diabetic_Yes</th>\n",
       "      <th>smoker_Yes</th>\n",
       "      <th>region_northwest</th>\n",
       "      <th>region_southeast</th>\n",
       "      <th>region_southwest</th>\n",
       "    </tr>\n",
       "  </thead>\n",
       "  <tbody>\n",
       "    <tr>\n",
       "      <th>0</th>\n",
       "      <td>39.0</td>\n",
       "      <td>23.2</td>\n",
       "      <td>91</td>\n",
       "      <td>0</td>\n",
       "      <td>Low</td>\n",
       "      <td>1</td>\n",
       "      <td>1</td>\n",
       "      <td>0</td>\n",
       "      <td>0</td>\n",
       "      <td>1</td>\n",
       "      <td>0</td>\n",
       "    </tr>\n",
       "    <tr>\n",
       "      <th>1</th>\n",
       "      <td>24.0</td>\n",
       "      <td>30.1</td>\n",
       "      <td>87</td>\n",
       "      <td>0</td>\n",
       "      <td>Low</td>\n",
       "      <td>1</td>\n",
       "      <td>0</td>\n",
       "      <td>0</td>\n",
       "      <td>0</td>\n",
       "      <td>1</td>\n",
       "      <td>0</td>\n",
       "    </tr>\n",
       "    <tr>\n",
       "      <th>7</th>\n",
       "      <td>19.0</td>\n",
       "      <td>41.1</td>\n",
       "      <td>100</td>\n",
       "      <td>0</td>\n",
       "      <td>Low</td>\n",
       "      <td>1</td>\n",
       "      <td>0</td>\n",
       "      <td>0</td>\n",
       "      <td>1</td>\n",
       "      <td>0</td>\n",
       "      <td>0</td>\n",
       "    </tr>\n",
       "    <tr>\n",
       "      <th>8</th>\n",
       "      <td>20.0</td>\n",
       "      <td>43.0</td>\n",
       "      <td>86</td>\n",
       "      <td>0</td>\n",
       "      <td>Low</td>\n",
       "      <td>1</td>\n",
       "      <td>0</td>\n",
       "      <td>0</td>\n",
       "      <td>1</td>\n",
       "      <td>0</td>\n",
       "      <td>0</td>\n",
       "    </tr>\n",
       "    <tr>\n",
       "      <th>9</th>\n",
       "      <td>30.0</td>\n",
       "      <td>53.1</td>\n",
       "      <td>97</td>\n",
       "      <td>0</td>\n",
       "      <td>Low</td>\n",
       "      <td>1</td>\n",
       "      <td>0</td>\n",
       "      <td>0</td>\n",
       "      <td>1</td>\n",
       "      <td>0</td>\n",
       "      <td>0</td>\n",
       "    </tr>\n",
       "  </tbody>\n",
       "</table>\n",
       "</div>"
      ],
      "text/plain": [
       "    age   bmi  bloodpressure  children claim  gender_male  diabetic_Yes  \\\n",
       "0  39.0  23.2             91         0   Low            1             1   \n",
       "1  24.0  30.1             87         0   Low            1             0   \n",
       "7  19.0  41.1            100         0   Low            1             0   \n",
       "8  20.0  43.0             86         0   Low            1             0   \n",
       "9  30.0  53.1             97         0   Low            1             0   \n",
       "\n",
       "   smoker_Yes  region_northwest  region_southeast  region_southwest  \n",
       "0           0                 0                 1                 0  \n",
       "1           0                 0                 1                 0  \n",
       "7           0                 1                 0                 0  \n",
       "8           0                 1                 0                 0  \n",
       "9           0                 1                 0                 0  "
      ]
     },
     "execution_count": 213,
     "metadata": {},
     "output_type": "execute_result"
    }
   ],
   "source": [
    "train.head()"
   ]
  },
  {
   "cell_type": "code",
   "execution_count": 214,
   "id": "dce43cbc",
   "metadata": {},
   "outputs": [],
   "source": [
    "X = train.drop([target], axis=1)\n",
    "y = train.claim"
   ]
  },
  {
   "cell_type": "code",
   "execution_count": 223,
   "id": "c5c82555",
   "metadata": {},
   "outputs": [],
   "source": [
    "### A Function for Model Fitting and Evaluation"
   ]
  },
  {
   "cell_type": "code",
   "execution_count": 224,
   "id": "0fbb6468",
   "metadata": {},
   "outputs": [],
   "source": [
    "def modelfit(alg, dtrain, predictors, target, performCV=True, printFeatureImportance=True, cv_folds=5):\n",
    "    #Fit the algorithm on the data\n",
    "    alg.fit(dtrain[predictors], dtrain[target])\n",
    "        \n",
    "    #Predict training set:\n",
    "    dtrain_predictions = alg.predict(dtrain[predictors])\n",
    "    dtrain_predprob = alg.predict_proba(dtrain[predictors])[:,1]\n",
    "    \n",
    "    #Perform cross-validation:\n",
    "    if performCV:\n",
    "        cv_score = cross_val_score(alg, dtrain[predictors], dtrain[target], \n",
    "                                   cv=cv_folds, scoring='roc_auc')\n",
    "    \n",
    "    #Print model report:\n",
    "    print (\"\\nModel Report\")\n",
    "    print (\"Accuracy (Train) : %.4g\" % metrics.accuracy_score(dtrain[target], dtrain_predictions))\n",
    "    print (\"AUC Score (Train): %f\" % metrics.roc_auc_score(dtrain[target], dtrain_predprob))\n",
    "    \n",
    "    if performCV:\n",
    "        print (\"CV Score (AUROC) : Mean - %.7g | Std - %.7g | Min - %.7g | Max - %.7g\" \n",
    "               % (np.mean(cv_score),np.std(cv_score),np.min(cv_score),np.max(cv_score)))\n",
    "        \n",
    "    #Print Feature Importance:\n",
    "    if printFeatureImportance:\n",
    "        feat_imp = pd.Series(alg.feature_importances_, predictors).sort_values(ascending=False)\n",
    "        feat_imp.plot(kind='bar', title='Feature Importances')\n",
    "        plt.ylabel('Feature Importance Score')\n",
    "        "
   ]
  },
  {
   "cell_type": "code",
   "execution_count": 225,
   "id": "199600d7",
   "metadata": {},
   "outputs": [],
   "source": [
    "#The list of predictors\n",
    "predictors = [x for x in train.columns if x not in [target]]"
   ]
  },
  {
   "cell_type": "code",
   "execution_count": 226,
   "id": "a4df58c8",
   "metadata": {},
   "outputs": [],
   "source": [
    "### Decision Tree model (with Default Parameters)"
   ]
  },
  {
   "cell_type": "code",
   "execution_count": 227,
   "id": "6d552255",
   "metadata": {},
   "outputs": [
    {
     "name": "stdout",
     "output_type": "stream",
     "text": [
      "\n",
      "Model Report\n",
      "Accuracy (Train) : 1\n",
      "AUC Score (Train): 1.000000\n",
      "CV Score (AUROC) : Mean - 0.8190094 | Std - 0.07333405 | Min - 0.7440171 | Max - 0.9315171\n"
     ]
    }
   ],
   "source": [
    "#Decision tree model with default parameters (Letting the model learn without any restrictions)\n",
    "dtree0 = DecisionTreeClassifier()\n",
    "modelfit(dtree0, train, predictors, target, printFeatureImportance=False)"
   ]
  },
  {
   "cell_type": "code",
   "execution_count": 228,
   "id": "b2ab6926",
   "metadata": {},
   "outputs": [
    {
     "data": {
      "text/plain": [
       "21"
      ]
     },
     "execution_count": 228,
     "metadata": {},
     "output_type": "execute_result"
    }
   ],
   "source": [
    "#Let's look at the depth of the tree \"dtree0\"\n",
    "dtree0.get_depth()"
   ]
  },
  {
   "cell_type": "markdown",
   "id": "a282ef6e",
   "metadata": {},
   "source": [
    "**Observations**\n",
    "\n",
    "1. *Training AUROC nearly 1 (suggest that model has overfitted the data)*\n",
    "2. *Test AUROC nearly 0.81 (suggests a decent on the validation data)*\n",
    "\n",
    "**Conclusion**\n",
    "\n",
    "*The model has probably overfitted the training data due to high variance. The tree can be observed to be fitted deep with a depth of 21.*"
   ]
  },
  {
   "cell_type": "code",
   "execution_count": null,
   "id": "439af688",
   "metadata": {},
   "outputs": [],
   "source": [
    "### Decision Tree of Lesser Depth (Decrease depth to reduce variance)"
   ]
  },
  {
   "cell_type": "code",
   "execution_count": 229,
   "id": "56acfae5",
   "metadata": {},
   "outputs": [
    {
     "name": "stdout",
     "output_type": "stream",
     "text": [
      "\n",
      "Model Report\n",
      "Accuracy (Train) : 0.9933\n",
      "AUC Score (Train): 0.999788\n",
      "CV Score (AUROC) : Mean - 0.8227822 | Std - 0.07564449 | Min - 0.7594017 | Max - 0.9442664\n"
     ]
    }
   ],
   "source": [
    "#Depth 15 (train score (decrease) | Validation score (increase)) - Test AUROC = 82.27%\n",
    "dtree = DecisionTreeClassifier(max_depth=15)\n",
    "modelfit(dtree, train, predictors, target, printFeatureImportance=False)"
   ]
  },
  {
   "cell_type": "code",
   "execution_count": 232,
   "id": "170a05dd",
   "metadata": {},
   "outputs": [
    {
     "name": "stdout",
     "output_type": "stream",
     "text": [
      "\n",
      "Model Report\n",
      "Accuracy (Train) : 0.9603\n",
      "AUC Score (Train): 0.984298\n",
      "CV Score (AUROC) : Mean - 0.8326318 | Std - 0.08672328 | Min - 0.7508982 | Max - 0.9543091\n"
     ]
    }
   ],
   "source": [
    "#Depth 10 (train score (decrease) | Validation score (increase)) - Test AUROC = 83.27%\n",
    "dtree = DecisionTreeClassifier(max_depth=10)\n",
    "modelfit(dtree, train, predictors, target, printFeatureImportance=False)"
   ]
  },
  {
   "cell_type": "code",
   "execution_count": 233,
   "id": "8325a76e",
   "metadata": {},
   "outputs": [
    {
     "name": "stdout",
     "output_type": "stream",
     "text": [
      "\n",
      "Model Report\n",
      "Accuracy (Train) : 0.9551\n",
      "AUC Score (Train): 0.973578\n",
      "CV Score (AUROC) : Mean - 0.8368681 | Std - 0.09642642 | Min - 0.7399037 | Max - 0.9748575\n"
     ]
    }
   ],
   "source": [
    "#Depth 9 (train score (decrease) | Validation score (increase)) - Test AUROC = 83.68%\n",
    "dtree = DecisionTreeClassifier(max_depth=9)\n",
    "modelfit(dtree, train, predictors, target, printFeatureImportance=False)"
   ]
  },
  {
   "cell_type": "code",
   "execution_count": 230,
   "id": "cd30e50d",
   "metadata": {},
   "outputs": [
    {
     "name": "stdout",
     "output_type": "stream",
     "text": [
      "\n",
      "Model Report\n",
      "Accuracy (Train) : 0.9506\n",
      "AUC Score (Train): 0.960971\n",
      "CV Score (AUROC) : Mean - 0.8605202 | Std - 0.09397723 | Min - 0.7362748 | Max - 0.986859\n"
     ]
    }
   ],
   "source": [
    "#Depth 8 (train score (decrease) | Validation score (increase)) - Test AUROC = 86.05%\n",
    "dtree = DecisionTreeClassifier(max_depth=8)\n",
    "modelfit(dtree, train, predictors, target, printFeatureImportance=False)"
   ]
  },
  {
   "cell_type": "code",
   "execution_count": 231,
   "id": "09dc5606",
   "metadata": {},
   "outputs": [
    {
     "name": "stdout",
     "output_type": "stream",
     "text": [
      "\n",
      "Model Report\n",
      "Accuracy (Train) : 0.9453\n",
      "AUC Score (Train): 0.952510\n",
      "CV Score (AUROC) : Mean - 0.8495317 | Std - 0.1129871 | Min - 0.7114113 | Max - 0.9981481\n"
     ]
    }
   ],
   "source": [
    "#Depth 7 (train score (slight decrease) | Validation score (decrease)) - Test AUROC = 84.35%\n",
    "dtree = DecisionTreeClassifier(max_depth=7)\n",
    "modelfit(dtree, train, predictors, target, printFeatureImportance=False)"
   ]
  },
  {
   "cell_type": "markdown",
   "id": "9d55470e",
   "metadata": {},
   "source": [
    "**NOTE:**\n",
    "\n",
    "*It would be interesting to observe that below this depth the decision tree may suffer from the problem of increased bias. On reducing the depth further the variance of the model will drop further but the bias will keep on increasing and beyond a certain depth (reduction) the model will start UNDERFITTING the data. As a result its performance will reduce.*"
   ]
  },
  {
   "cell_type": "code",
   "execution_count": 234,
   "id": "23197af5",
   "metadata": {},
   "outputs": [
    {
     "name": "stdout",
     "output_type": "stream",
     "text": [
      "\n",
      "Model Report\n",
      "Accuracy (Train) : 0.9431\n",
      "AUC Score (Train): 0.939783\n",
      "CV Score (AUROC) : Mean - 0.8492255 | Std - 0.1098454 | Min - 0.7399756 | Max - 0.9938034\n"
     ]
    }
   ],
   "source": [
    "#Depth 6 (train score (slight decrease) | Validation score (decrease)) - Test AUROC = 84%\n",
    "dtree = DecisionTreeClassifier(max_depth=6)\n",
    "modelfit(dtree, train, predictors, target, printFeatureImportance=False)"
   ]
  },
  {
   "cell_type": "markdown",
   "id": "fc992aaf",
   "metadata": {},
   "source": [
    "**NOTE**\n",
    "\n",
    "*Note that in all the above cases both the training scores and test scores decreases - this is a consequence of model underfitting where the data underfits the training data to such an extent that it fails to give good accuracy on the training data and as well fails to generalize on the validation data*"
   ]
  },
  {
   "cell_type": "code",
   "execution_count": null,
   "id": "249b56f6",
   "metadata": {},
   "outputs": [],
   "source": []
  },
  {
   "cell_type": "markdown",
   "id": "9eaa78f1",
   "metadata": {},
   "source": [
    "### Decision Tree with different Min_Samples_Split"
   ]
  },
  {
   "cell_type": "markdown",
   "id": "b26ac85e",
   "metadata": {},
   "source": [
    "*Higher the value of this hyperparameter higher will be the bias and consequently lower will be the variance. Therefore, this hyperparameter can be used to controll the variance of the model as well - we need to experiment with some higher values (maybe)*"
   ]
  },
  {
   "cell_type": "code",
   "execution_count": null,
   "id": "74b5f1f0",
   "metadata": {},
   "outputs": [],
   "source": [
    "**Keeping the max depth fixed at 8**"
   ]
  },
  {
   "cell_type": "code",
   "execution_count": 284,
   "id": "2651225c",
   "metadata": {},
   "outputs": [
    {
     "name": "stdout",
     "output_type": "stream",
     "text": [
      "\n",
      "Model Report\n",
      "Accuracy (Train) : 0.9468\n",
      "AUC Score (Train): 0.959989\n",
      "CV Score (AUROC) : Mean - 0.8712471 | Std - 0.09495774 | Min - 0.7477364 | Max - 0.9968305\n"
     ]
    }
   ],
   "source": [
    "#min_samples_split=10 | Validation AUROC = 87.0% (slight increase compared to model with depth 8)\n",
    "dtree = DecisionTreeClassifier(max_depth=8, min_samples_split=10)\n",
    "modelfit(dtree, train, predictors, target, printFeatureImportance=False)"
   ]
  },
  {
   "cell_type": "code",
   "execution_count": 285,
   "id": "665d2a01",
   "metadata": {},
   "outputs": [
    {
     "name": "stdout",
     "output_type": "stream",
     "text": [
      "\n",
      "Model Report\n",
      "Accuracy (Train) : 0.9416\n",
      "AUC Score (Train): 0.955650\n",
      "CV Score (AUROC) : Mean - 0.8845124 | Std - 0.08118363 | Min - 0.8066952 | Max - 0.9978276\n"
     ]
    }
   ],
   "source": [
    "#min_samples_split=50 | Validation AUROC = 88.3% (slight increase compared to model with depth 8)\n",
    "dtree = DecisionTreeClassifier(max_depth=8, min_samples_split=50)\n",
    "modelfit(dtree, train, predictors, target, printFeatureImportance=False)"
   ]
  },
  {
   "cell_type": "code",
   "execution_count": 286,
   "id": "f1fc6a86",
   "metadata": {},
   "outputs": [
    {
     "name": "stdout",
     "output_type": "stream",
     "text": [
      "\n",
      "Model Report\n",
      "Accuracy (Train) : 0.9371\n",
      "AUC Score (Train): 0.948650\n",
      "CV Score (AUROC) : Mean - 0.8833986 | Std - 0.08587567 | Min - 0.7959046 | Max - 0.9957621\n"
     ]
    }
   ],
   "source": [
    "#min_samples_split=100 | Validation AUROC = 88.3% (slight increase compared to model with depth 8)\n",
    "dtree = DecisionTreeClassifier(max_depth=8, min_samples_split=100)\n",
    "modelfit(dtree, train, predictors, target, printFeatureImportance=False)"
   ]
  },
  {
   "cell_type": "code",
   "execution_count": 287,
   "id": "9be46f36",
   "metadata": {},
   "outputs": [
    {
     "name": "stdout",
     "output_type": "stream",
     "text": [
      "\n",
      "Model Report\n",
      "Accuracy (Train) : 0.9363\n",
      "AUC Score (Train): 0.938778\n",
      "CV Score (AUROC) : Mean - 0.8824664 | Std - 0.08496416 | Min - 0.8017094 | Max - 0.9903134\n"
     ]
    }
   ],
   "source": [
    "#min_samples_split=150 | Validation AUROC = 88.3% (slight increase compared to model with depth 8)\n",
    "dtree = DecisionTreeClassifier(max_depth=8, min_samples_split=150)\n",
    "modelfit(dtree, train, predictors, target, printFeatureImportance=False)"
   ]
  },
  {
   "cell_type": "markdown",
   "id": "06546658",
   "metadata": {},
   "source": [
    "**OBSERVATIONS**\n",
    "\n",
    "1. *The Highest value of AUROC observed is for min_samples_split=50 at depth 8.*\n",
    "2. *With the increase in the values of min_samples_split beyond 100 (at an interval of 50) the score decreases.*\n",
    "\n",
    "\n",
    "**CONCLUSION**\n",
    "\n",
    "*With the increase in the values of min_samples_split the bias of the model increases but variance decreases. As we increase the value of this hyperparameter the model variance decreases and overfitting decreases. This initially helps in increasing the model test score. However beyond a certain point the model bias increases subsequently and the model score start falling again due to underfitting*"
   ]
  },
  {
   "cell_type": "markdown",
   "id": "f6a07a41",
   "metadata": {},
   "source": [
    "**REMARK**\n",
    "\n",
    "*In a similar way one may play with the hyperparameter min_samples_leaf. This controls the number of observations which we may have in the leaf node. Note that a larger number will prevent the model from growing and hence increases bias.*"
   ]
  },
  {
   "cell_type": "markdown",
   "id": "70559f18",
   "metadata": {},
   "source": [
    "### Hyperparameter Tuning using Grid Search"
   ]
  },
  {
   "cell_type": "markdown",
   "id": "56a37e02",
   "metadata": {},
   "source": [
    "*Let us use a grid search method. Setting the depth ranging between 5 and 12. Depth below 5 will mean the model underfit and above 12 may not give increased score. Keeping the range of the min_samples_split between 10 and 500.*"
   ]
  },
  {
   "cell_type": "code",
   "execution_count": 279,
   "id": "8cce884b",
   "metadata": {},
   "outputs": [
    {
     "data": {
      "text/plain": [
       "GridSearchCV(cv=5, estimator=DecisionTreeClassifier(),\n",
       "             param_grid={'max_depth': range(5, 12),\n",
       "                         'min_samples_split': range(10, 500, 10)},\n",
       "             scoring='roc_auc')"
      ]
     },
     "execution_count": 279,
     "metadata": {},
     "output_type": "execute_result"
    }
   ],
   "source": [
    "param = {'max_depth':range(5,12), 'min_samples_split':range(10,500,10)}\n",
    "\n",
    "dtree_final = GridSearchCV(estimator = DecisionTreeClassifier(), param_grid = param, scoring='roc_auc', cv=5)\n",
    "\n",
    "dtree_final.fit(X,y)"
   ]
  },
  {
   "cell_type": "code",
   "execution_count": 280,
   "id": "5fb7a4cc",
   "metadata": {},
   "outputs": [
    {
     "data": {
      "text/plain": [
       "({'max_depth': 8, 'min_samples_split': 60}, 0.8855807719741321)"
      ]
     },
     "execution_count": 280,
     "metadata": {},
     "output_type": "execute_result"
    }
   ],
   "source": [
    "#The best depth with the best possible value of the AUROC score (from the given grid)\n",
    "dtree_final.best_params_, dtree_final.best_score_"
   ]
  },
  {
   "cell_type": "code",
   "execution_count": null,
   "id": "5c004de5",
   "metadata": {},
   "outputs": [],
   "source": []
  },
  {
   "cell_type": "code",
   "execution_count": 342,
   "id": "f58aba1f",
   "metadata": {},
   "outputs": [
    {
     "data": {
      "text/plain": [
       "DecisionTreeClassifier(max_depth=8, min_samples_split=60)"
      ]
     },
     "execution_count": 342,
     "metadata": {},
     "output_type": "execute_result"
    }
   ],
   "source": [
    "clf_htree = DecisionTreeClassifier(max_depth=8, min_samples_split=60 ) #greedy algorithm\n",
    "clf_htree.fit(X_train, y_train)\n",
    "\n"
   ]
  },
  {
   "cell_type": "code",
   "execution_count": 343,
   "id": "04eb0e4d",
   "metadata": {},
   "outputs": [
    {
     "data": {
      "text/plain": [
       "array(['Low', 'Low', 'Low', 'Low', 'Low', 'High', 'High', 'Low', 'High',\n",
       "       'High', 'High', 'Low', 'Low', 'Low', 'Low', 'Low', 'Low', 'Low',\n",
       "       'High', 'Low', 'High', 'High', 'High', 'High', 'Low', 'Low', 'Low',\n",
       "       'Low', 'Low', 'Low', 'Low', 'Low', 'Low', 'Low', 'Low', 'Low',\n",
       "       'High', 'Low', 'Low', 'Low', 'High', 'High', 'Low', 'Low', 'Low',\n",
       "       'Low', 'Low', 'Low', 'Low', 'Low', 'Low', 'High', 'Low', 'High',\n",
       "       'Low', 'Low', 'Low', 'Low', 'Low', 'Low', 'Low', 'Low', 'Low',\n",
       "       'Low', 'High', 'Low', 'Low', 'High', 'Low', 'High', 'Low', 'Low',\n",
       "       'Low', 'High', 'Low', 'Low', 'Low', 'Low', 'Low', 'High', 'Low',\n",
       "       'High', 'Low', 'Low', 'High', 'Low', 'Low', 'Low', 'High', 'Low',\n",
       "       'Low', 'High', 'High', 'Low', 'High', 'High', 'Low', 'Low', 'High',\n",
       "       'Low', 'Low', 'High', 'High', 'Low', 'High', 'Low', 'High', 'Low',\n",
       "       'Low', 'Low', 'High', 'Low', 'High', 'Low', 'Low', 'Low', 'Low',\n",
       "       'Low', 'Low', 'Low', 'Low', 'Low', 'Low', 'Low', 'Low', 'Low',\n",
       "       'Low', 'Low', 'High', 'Low', 'Low', 'Low', 'Low', 'Low', 'Low',\n",
       "       'Low', 'Low', 'Low', 'Low', 'Low', 'Low', 'Low', 'High', 'Low',\n",
       "       'Low', 'Low', 'Low', 'Low', 'Low', 'Low', 'High', 'Low', 'Low',\n",
       "       'High', 'Low', 'Low', 'Low', 'High', 'Low', 'Low', 'Low', 'Low',\n",
       "       'High', 'Low', 'Low', 'Low', 'Low', 'Low', 'Low', 'High', 'High',\n",
       "       'Low', 'Low', 'High', 'High', 'High', 'Low', 'High', 'Low', 'High',\n",
       "       'Low', 'Low', 'Low', 'Low', 'High', 'Low', 'Low', 'Low', 'Low',\n",
       "       'Low', 'Low', 'Low', 'Low', 'Low', 'High', 'Low', 'Low', 'High',\n",
       "       'Low', 'Low', 'Low', 'High', 'Low', 'High', 'High', 'Low', 'Low',\n",
       "       'Low', 'Low', 'Low', 'Low', 'Low', 'Low', 'Low', 'Low', 'Low',\n",
       "       'Low', 'Low', 'Low', 'Low', 'Low', 'Low', 'Low', 'High', 'Low',\n",
       "       'High', 'High', 'Low', 'Low', 'Low', 'Low', 'Low', 'Low', 'Low',\n",
       "       'Low', 'Low', 'High', 'Low', 'Low', 'Low', 'Low', 'Low', 'Low',\n",
       "       'Low', 'Low', 'High', 'Low', 'Low', 'Low', 'Low', 'Low', 'Low',\n",
       "       'High', 'Low', 'High', 'Low', 'Low', 'Low', 'High', 'High', 'Low',\n",
       "       'Low', 'Low', 'Low', 'Low', 'High', 'Low'], dtype=object)"
      ]
     },
     "execution_count": 343,
     "metadata": {},
     "output_type": "execute_result"
    }
   ],
   "source": [
    "pred1 = clf_htree.predict(X_test)\n",
    "pred1\n",
    "\n"
   ]
  },
  {
   "cell_type": "code",
   "execution_count": 344,
   "id": "0fc6c2f8",
   "metadata": {},
   "outputs": [
    {
     "data": {
      "text/html": [
       "<div>\n",
       "<style scoped>\n",
       "    .dataframe tbody tr th:only-of-type {\n",
       "        vertical-align: middle;\n",
       "    }\n",
       "\n",
       "    .dataframe tbody tr th {\n",
       "        vertical-align: top;\n",
       "    }\n",
       "\n",
       "    .dataframe thead th {\n",
       "        text-align: right;\n",
       "    }\n",
       "</style>\n",
       "<table border=\"1\" class=\"dataframe\">\n",
       "  <thead>\n",
       "    <tr style=\"text-align: right;\">\n",
       "      <th></th>\n",
       "      <th>Feature_names</th>\n",
       "      <th>Importances</th>\n",
       "    </tr>\n",
       "  </thead>\n",
       "  <tbody>\n",
       "    <tr>\n",
       "      <th>7</th>\n",
       "      <td>region_northwest</td>\n",
       "      <td>0.000000</td>\n",
       "    </tr>\n",
       "    <tr>\n",
       "      <th>8</th>\n",
       "      <td>region_southeast</td>\n",
       "      <td>0.000000</td>\n",
       "    </tr>\n",
       "    <tr>\n",
       "      <th>9</th>\n",
       "      <td>region_southwest</td>\n",
       "      <td>0.000000</td>\n",
       "    </tr>\n",
       "    <tr>\n",
       "      <th>5</th>\n",
       "      <td>diabetic_Yes</td>\n",
       "      <td>0.000863</td>\n",
       "    </tr>\n",
       "    <tr>\n",
       "      <th>3</th>\n",
       "      <td>children</td>\n",
       "      <td>0.002088</td>\n",
       "    </tr>\n",
       "    <tr>\n",
       "      <th>4</th>\n",
       "      <td>gender_male</td>\n",
       "      <td>0.003739</td>\n",
       "    </tr>\n",
       "    <tr>\n",
       "      <th>0</th>\n",
       "      <td>age</td>\n",
       "      <td>0.026963</td>\n",
       "    </tr>\n",
       "    <tr>\n",
       "      <th>1</th>\n",
       "      <td>bmi</td>\n",
       "      <td>0.027783</td>\n",
       "    </tr>\n",
       "    <tr>\n",
       "      <th>2</th>\n",
       "      <td>bloodpressure</td>\n",
       "      <td>0.063343</td>\n",
       "    </tr>\n",
       "    <tr>\n",
       "      <th>6</th>\n",
       "      <td>smoker_Yes</td>\n",
       "      <td>0.875220</td>\n",
       "    </tr>\n",
       "  </tbody>\n",
       "</table>\n",
       "</div>"
      ],
      "text/plain": [
       "      Feature_names  Importances\n",
       "7  region_northwest     0.000000\n",
       "8  region_southeast     0.000000\n",
       "9  region_southwest     0.000000\n",
       "5      diabetic_Yes     0.000863\n",
       "3          children     0.002088\n",
       "4       gender_male     0.003739\n",
       "0               age     0.026963\n",
       "1               bmi     0.027783\n",
       "2     bloodpressure     0.063343\n",
       "6        smoker_Yes     0.875220"
      ]
     },
     "execution_count": 344,
     "metadata": {},
     "output_type": "execute_result"
    }
   ],
   "source": [
    "feat = pd.DataFrame({'Feature_names' :X_train.columns, 'Importances': clf_htree.feature_importances_})\n",
    "\n",
    "feat.sort_values(\"Importances\")\n",
    "\n"
   ]
  },
  {
   "cell_type": "code",
   "execution_count": 345,
   "id": "249cc619",
   "metadata": {},
   "outputs": [
    {
     "data": {
      "text/plain": [
       "array([[ 61,  18],\n",
       "       [  2, 186]], dtype=int64)"
      ]
     },
     "execution_count": 345,
     "metadata": {},
     "output_type": "execute_result"
    }
   ],
   "source": [
    "from sklearn.metrics import confusion_matrix\n",
    "\n",
    "cm1= confusion_matrix(y_test, pred1 )\n",
    "cm1\n",
    "\n"
   ]
  },
  {
   "cell_type": "code",
   "execution_count": 346,
   "id": "2ef0cf71",
   "metadata": {},
   "outputs": [],
   "source": [
    "#Accuracy\n",
    "a2= (cm1[0,0]+cm1[1,1])/ (cm1[0,0]+cm1[0,1]+ cm1[1,0]+cm1[1,1])\n",
    "\n",
    "# Recall/ Sensitivity\n",
    "r2= (cm1[0,0])/ (cm1[0,0]+cm1[0,1])\n",
    "\n",
    "# Precision\n",
    "p2= (cm1[0,0])/ (cm1[0,0]+cm1[1,0])\n",
    "\n",
    "#Specificity\n",
    "s2= (cm1[1,1])/ (cm1[1,0]+cm1[1,1])\n",
    "\n",
    "#F1score:\n",
    "\n",
    "f2= (2* (r2*p2))/ (r2+p2)\n",
    "\n"
   ]
  },
  {
   "cell_type": "code",
   "execution_count": 347,
   "id": "dec5bb3d",
   "metadata": {},
   "outputs": [],
   "source": [
    "a2,r2,p2,s2,f2\n",
    "\n",
    "metrics=['Accuracy','Recall', 'Precision', 'Specificity', 'F1 Score']\n",
    "values2=[a2,r2,p2,s2,f2]\n",
    "\n",
    "\n",
    "\n"
   ]
  },
  {
   "cell_type": "code",
   "execution_count": 348,
   "id": "b5005548",
   "metadata": {},
   "outputs": [
    {
     "data": {
      "text/html": [
       "<div>\n",
       "<style scoped>\n",
       "    .dataframe tbody tr th:only-of-type {\n",
       "        vertical-align: middle;\n",
       "    }\n",
       "\n",
       "    .dataframe tbody tr th {\n",
       "        vertical-align: top;\n",
       "    }\n",
       "\n",
       "    .dataframe thead th {\n",
       "        text-align: right;\n",
       "    }\n",
       "</style>\n",
       "<table border=\"1\" class=\"dataframe\">\n",
       "  <thead>\n",
       "    <tr style=\"text-align: right;\">\n",
       "      <th></th>\n",
       "      <th>Metrics</th>\n",
       "      <th>DT_Values</th>\n",
       "      <th>Hyper_DT_Values</th>\n",
       "    </tr>\n",
       "  </thead>\n",
       "  <tbody>\n",
       "    <tr>\n",
       "      <th>0</th>\n",
       "      <td>Accuracy</td>\n",
       "      <td>0.872659</td>\n",
       "      <td>0.925094</td>\n",
       "    </tr>\n",
       "    <tr>\n",
       "      <th>1</th>\n",
       "      <td>Recall</td>\n",
       "      <td>0.784810</td>\n",
       "      <td>0.772152</td>\n",
       "    </tr>\n",
       "    <tr>\n",
       "      <th>2</th>\n",
       "      <td>Precision</td>\n",
       "      <td>0.784810</td>\n",
       "      <td>0.968254</td>\n",
       "    </tr>\n",
       "    <tr>\n",
       "      <th>3</th>\n",
       "      <td>Specificity</td>\n",
       "      <td>0.909574</td>\n",
       "      <td>0.989362</td>\n",
       "    </tr>\n",
       "    <tr>\n",
       "      <th>4</th>\n",
       "      <td>F1 Score</td>\n",
       "      <td>0.784810</td>\n",
       "      <td>0.859155</td>\n",
       "    </tr>\n",
       "  </tbody>\n",
       "</table>\n",
       "</div>"
      ],
      "text/plain": [
       "       Metrics  DT_Values  Hyper_DT_Values\n",
       "0     Accuracy   0.872659         0.925094\n",
       "1       Recall   0.784810         0.772152\n",
       "2    Precision   0.784810         0.968254\n",
       "3  Specificity   0.909574         0.989362\n",
       "4     F1 Score   0.784810         0.859155"
      ]
     },
     "execution_count": 348,
     "metadata": {},
     "output_type": "execute_result"
    }
   ],
   "source": [
    "metric = pd.DataFrame({'Metrics' :metrics, 'DT_Values': values1, 'Hyper_DT_Values': values2})\n",
    "\n",
    "metric"
   ]
  },
  {
   "cell_type": "code",
   "execution_count": null,
   "id": "fe13d4d8",
   "metadata": {},
   "outputs": [],
   "source": []
  },
  {
   "cell_type": "code",
   "execution_count": null,
   "id": "052c999d",
   "metadata": {},
   "outputs": [],
   "source": [
    "### BAGGING"
   ]
  },
  {
   "cell_type": "code",
   "execution_count": 288,
   "id": "169b5074",
   "metadata": {},
   "outputs": [
    {
     "name": "stdout",
     "output_type": "stream",
     "text": [
      "\n",
      "Model Report\n",
      "Accuracy (Train) : 1\n",
      "AUC Score (Train): 1.000000\n",
      "CV Score (AUROC) : Mean - 0.8974792 | Std - 0.07201981 | Min - 0.8344373 | Max - 0.9891382\n"
     ]
    }
   ],
   "source": [
    "# Experiment 1 - Bagged Model with the default decision tree model (Note: the base estimator is Decision Tree)\n",
    "# Keep in mind - the default decision tree grew at a depth of 21 in our very first experiment. (Test AUROC: ~ 81%)\n",
    "# Let's see if the reduction in variance using a bagging framework can increase this score...\n",
    "\n",
    "# n_estimator = 50  ---------------------------------- Validation AUROC = 89.74%\n",
    "baggedModel = BaggingClassifier(base_estimator=None, n_estimators=50, oob_score=True)\n",
    "modelfit(baggedModel, train, predictors, target, printFeatureImportance=False)"
   ]
  },
  {
   "cell_type": "markdown",
   "id": "e7b0bea2",
   "metadata": {},
   "source": [
    "**OBSERVATION & CONCLUSION**\n",
    "\n",
    "*A huge jump (from 0.81 to 0.89) is observed in the test AUROC. This shown how well the bagging works as an efficient variance reduction framework. The model could group 50 high variance individual decision tree models together to return output based on majority voting which inturn helped in reducing the overall variance of the framework* \n"
   ]
  },
  {
   "cell_type": "code",
   "execution_count": 357,
   "id": "13406bf2",
   "metadata": {},
   "outputs": [
    {
     "data": {
      "text/plain": [
       "BaggingClassifier(n_estimators=100, oob_score=True)"
      ]
     },
     "execution_count": 357,
     "metadata": {},
     "output_type": "execute_result"
    }
   ],
   "source": [
    "baggedModel = BaggingClassifier(base_estimator=None, n_estimators=100, oob_score=True)\n",
    "baggedModel.fit(X_train, y_train)\n",
    "\n",
    "\n"
   ]
  },
  {
   "cell_type": "code",
   "execution_count": 358,
   "id": "2c76d22a",
   "metadata": {},
   "outputs": [
    {
     "data": {
      "text/plain": [
       "array(['Low', 'Low', 'Low', 'Low', 'Low', 'High', 'High', 'Low', 'High',\n",
       "       'High', 'High', 'Low', 'Low', 'Low', 'Low', 'Low', 'Low', 'Low',\n",
       "       'High', 'Low', 'High', 'High', 'High', 'High', 'Low', 'Low', 'Low',\n",
       "       'Low', 'Low', 'Low', 'Low', 'Low', 'Low', 'Low', 'Low', 'Low',\n",
       "       'High', 'Low', 'Low', 'Low', 'High', 'High', 'Low', 'Low', 'Low',\n",
       "       'Low', 'Low', 'Low', 'Low', 'Low', 'Low', 'High', 'Low', 'High',\n",
       "       'Low', 'Low', 'Low', 'Low', 'Low', 'Low', 'Low', 'Low', 'Low',\n",
       "       'Low', 'High', 'Low', 'Low', 'High', 'Low', 'High', 'Low', 'Low',\n",
       "       'Low', 'High', 'Low', 'Low', 'Low', 'Low', 'Low', 'High', 'Low',\n",
       "       'High', 'Low', 'Low', 'High', 'Low', 'Low', 'Low', 'High', 'Low',\n",
       "       'Low', 'High', 'High', 'Low', 'High', 'High', 'Low', 'Low', 'High',\n",
       "       'Low', 'Low', 'High', 'High', 'Low', 'High', 'Low', 'High', 'Low',\n",
       "       'Low', 'Low', 'High', 'Low', 'High', 'Low', 'Low', 'Low', 'Low',\n",
       "       'Low', 'Low', 'Low', 'Low', 'Low', 'Low', 'Low', 'Low', 'Low',\n",
       "       'Low', 'Low', 'High', 'Low', 'Low', 'Low', 'Low', 'Low', 'Low',\n",
       "       'Low', 'Low', 'Low', 'Low', 'Low', 'Low', 'Low', 'High', 'Low',\n",
       "       'Low', 'Low', 'Low', 'Low', 'Low', 'Low', 'High', 'Low', 'Low',\n",
       "       'High', 'Low', 'Low', 'Low', 'High', 'Low', 'Low', 'Low', 'Low',\n",
       "       'High', 'Low', 'Low', 'Low', 'Low', 'Low', 'Low', 'High', 'High',\n",
       "       'Low', 'Low', 'High', 'High', 'High', 'Low', 'High', 'Low', 'High',\n",
       "       'Low', 'Low', 'Low', 'Low', 'High', 'Low', 'Low', 'Low', 'Low',\n",
       "       'Low', 'Low', 'Low', 'Low', 'Low', 'High', 'Low', 'Low', 'High',\n",
       "       'Low', 'Low', 'Low', 'High', 'Low', 'High', 'High', 'Low', 'Low',\n",
       "       'Low', 'Low', 'Low', 'Low', 'Low', 'Low', 'Low', 'Low', 'Low',\n",
       "       'Low', 'Low', 'Low', 'Low', 'Low', 'Low', 'Low', 'High', 'Low',\n",
       "       'Low', 'High', 'Low', 'Low', 'Low', 'Low', 'Low', 'Low', 'Low',\n",
       "       'Low', 'Low', 'High', 'Low', 'Low', 'Low', 'Low', 'Low', 'Low',\n",
       "       'Low', 'Low', 'High', 'Low', 'Low', 'Low', 'Low', 'Low', 'Low',\n",
       "       'High', 'Low', 'High', 'Low', 'Low', 'Low', 'High', 'High', 'Low',\n",
       "       'Low', 'Low', 'Low', 'Low', 'High', 'Low'], dtype=object)"
      ]
     },
     "execution_count": 358,
     "metadata": {},
     "output_type": "execute_result"
    }
   ],
   "source": [
    "pred2 = baggedModel.predict(X_test)\n",
    "pred2\n",
    "\n"
   ]
  },
  {
   "cell_type": "code",
   "execution_count": 359,
   "id": "f98b7dc1",
   "metadata": {},
   "outputs": [
    {
     "data": {
      "text/plain": [
       "array([[ 61,  18],\n",
       "       [  1, 187]], dtype=int64)"
      ]
     },
     "execution_count": 359,
     "metadata": {},
     "output_type": "execute_result"
    }
   ],
   "source": [
    "from sklearn.metrics import confusion_matrix\n",
    "\n",
    "cm2= confusion_matrix(y_test, pred2)\n",
    "cm2\n",
    "\n"
   ]
  },
  {
   "cell_type": "code",
   "execution_count": 360,
   "id": "35119e8f",
   "metadata": {},
   "outputs": [
    {
     "data": {
      "text/plain": [
       "array([[ 61,  18],\n",
       "       [  2, 186]], dtype=int64)"
      ]
     },
     "execution_count": 360,
     "metadata": {},
     "output_type": "execute_result"
    }
   ],
   "source": [
    "cm1"
   ]
  },
  {
   "cell_type": "code",
   "execution_count": 361,
   "id": "f5e9eaee",
   "metadata": {},
   "outputs": [],
   "source": [
    "\n",
    "\n",
    "#Accuracy\n",
    "a3= (cm2[0,0]+cm2[1,1])/ (cm2[0,0]+cm2[0,1]+ cm2[1,0]+cm2[1,1])\n",
    "\n",
    "# Recall/ Sensitivity\n",
    "r3= (cm2[0,0])/ (cm2[0,0]+cm2[0,1])\n",
    "\n",
    "# Precision\n",
    "p3= (cm2[0,0])/ (cm2[0,0]+cm2[1,0])\n",
    "\n",
    "#Specificity\n",
    "s3= (cm2[1,1])/ (cm2[1,0]+cm2[1,1])\n",
    "\n",
    "#F1score:\n",
    "\n",
    "f3= (2* (r3*p3))/ (r3+p3)\n",
    "\n"
   ]
  },
  {
   "cell_type": "code",
   "execution_count": 362,
   "id": "b9ec1c50",
   "metadata": {},
   "outputs": [],
   "source": [
    "values3=[a3,r3,p3,s3,f3]\n",
    "\n",
    "\n",
    "\n",
    "\n"
   ]
  },
  {
   "cell_type": "code",
   "execution_count": 363,
   "id": "bd742f85",
   "metadata": {},
   "outputs": [
    {
     "data": {
      "text/html": [
       "<div>\n",
       "<style scoped>\n",
       "    .dataframe tbody tr th:only-of-type {\n",
       "        vertical-align: middle;\n",
       "    }\n",
       "\n",
       "    .dataframe tbody tr th {\n",
       "        vertical-align: top;\n",
       "    }\n",
       "\n",
       "    .dataframe thead th {\n",
       "        text-align: right;\n",
       "    }\n",
       "</style>\n",
       "<table border=\"1\" class=\"dataframe\">\n",
       "  <thead>\n",
       "    <tr style=\"text-align: right;\">\n",
       "      <th></th>\n",
       "      <th>Metrics</th>\n",
       "      <th>DT_Values</th>\n",
       "      <th>Hyper_DT_Values</th>\n",
       "      <th>Bagged_DT_Values</th>\n",
       "    </tr>\n",
       "  </thead>\n",
       "  <tbody>\n",
       "    <tr>\n",
       "      <th>0</th>\n",
       "      <td>Accuracy</td>\n",
       "      <td>0.872659</td>\n",
       "      <td>0.925094</td>\n",
       "      <td>0.928839</td>\n",
       "    </tr>\n",
       "    <tr>\n",
       "      <th>1</th>\n",
       "      <td>Recall</td>\n",
       "      <td>0.784810</td>\n",
       "      <td>0.772152</td>\n",
       "      <td>0.772152</td>\n",
       "    </tr>\n",
       "    <tr>\n",
       "      <th>2</th>\n",
       "      <td>Precision</td>\n",
       "      <td>0.784810</td>\n",
       "      <td>0.968254</td>\n",
       "      <td>0.983871</td>\n",
       "    </tr>\n",
       "    <tr>\n",
       "      <th>3</th>\n",
       "      <td>Specificity</td>\n",
       "      <td>0.909574</td>\n",
       "      <td>0.989362</td>\n",
       "      <td>0.994681</td>\n",
       "    </tr>\n",
       "    <tr>\n",
       "      <th>4</th>\n",
       "      <td>F1 Score</td>\n",
       "      <td>0.784810</td>\n",
       "      <td>0.859155</td>\n",
       "      <td>0.865248</td>\n",
       "    </tr>\n",
       "  </tbody>\n",
       "</table>\n",
       "</div>"
      ],
      "text/plain": [
       "       Metrics  DT_Values  Hyper_DT_Values  Bagged_DT_Values\n",
       "0     Accuracy   0.872659         0.925094          0.928839\n",
       "1       Recall   0.784810         0.772152          0.772152\n",
       "2    Precision   0.784810         0.968254          0.983871\n",
       "3  Specificity   0.909574         0.989362          0.994681\n",
       "4     F1 Score   0.784810         0.859155          0.865248"
      ]
     },
     "execution_count": 363,
     "metadata": {},
     "output_type": "execute_result"
    }
   ],
   "source": [
    "metric = pd.DataFrame({'Metrics' :metrics, 'DT_Values': values1, 'Hyper_DT_Values': values2, 'Bagged_DT_Values': values3})\n",
    "\n",
    "metric\n",
    "\n"
   ]
  },
  {
   "cell_type": "code",
   "execution_count": null,
   "id": "78422b6c",
   "metadata": {},
   "outputs": [],
   "source": []
  },
  {
   "cell_type": "code",
   "execution_count": null,
   "id": "81a05d79",
   "metadata": {},
   "outputs": [],
   "source": []
  },
  {
   "cell_type": "markdown",
   "id": "f0540126",
   "metadata": {},
   "source": [
    "*Let us fit a bagging model with the optimal decision tree (found using the grid search method) as the base classifier. We will use different values of n_estimators to check for any differences.*"
   ]
  },
  {
   "cell_type": "code",
   "execution_count": 289,
   "id": "c1585400",
   "metadata": {},
   "outputs": [
    {
     "name": "stdout",
     "output_type": "stream",
     "text": [
      "\n",
      "Model Report\n",
      "Accuracy (Train) : 0.9363\n",
      "AUC Score (Train): 0.971725\n",
      "CV Score (AUROC) : Mean - 0.88488 | Std - 0.0841172 | Min - 0.7939063 | Max - 0.9912749\n"
     ]
    }
   ],
   "source": [
    "# Experiment 2 - \n",
    "# Decision Tree Depth = 8\n",
    "# Decision Tree Min_samples_Split = 60\n",
    "# n_estimator = 50  ---------------------------------- Validation AUROC = 81.93%\n",
    "\n",
    "dtree = DecisionTreeClassifier(max_depth=8, min_samples_split=60)\n",
    "baggedModel = BaggingClassifier(base_estimator=dtree, n_estimators=50, oob_score=True)\n",
    "modelfit(baggedModel, train, predictors, target, printFeatureImportance=False)"
   ]
  },
  {
   "cell_type": "code",
   "execution_count": 290,
   "id": "e0f8d99e",
   "metadata": {},
   "outputs": [
    {
     "name": "stdout",
     "output_type": "stream",
     "text": [
      "\n",
      "Model Report\n",
      "Accuracy (Train) : 0.9363\n",
      "AUC Score (Train): 0.970552\n",
      "CV Score (AUROC) : Mean - 0.8928018 | Std - 0.07714351 | Min - 0.8253809 | Max - 0.9922009\n"
     ]
    }
   ],
   "source": [
    "# Experiment 3 - \n",
    "# Decision Tree Depth = 8\n",
    "# Decision Tree Min_samples_Split = 60\n",
    "# n_estimator = 75 ---------------------------------- Validation AUROC = 89.28%\n",
    "\n",
    "dtree = DecisionTreeClassifier(max_depth=8, min_samples_split=60)\n",
    "baggedModel = BaggingClassifier(base_estimator=dtree, n_estimators=75, oob_score=True)\n",
    "modelfit(baggedModel, train, predictors, target, printFeatureImportance=False)"
   ]
  },
  {
   "cell_type": "code",
   "execution_count": 291,
   "id": "c47a561a",
   "metadata": {},
   "outputs": [
    {
     "name": "stdout",
     "output_type": "stream",
     "text": [
      "\n",
      "Model Report\n",
      "Accuracy (Train) : 0.9363\n",
      "AUC Score (Train): 0.970655\n",
      "CV Score (AUROC) : Mean - 0.8916777 | Std - 0.07895303 | Min - 0.8214286 | Max - 0.994302\n"
     ]
    }
   ],
   "source": [
    "# Experiment 4 - \n",
    "# Decision Tree Depth = 8\n",
    "# Decision Tree Min_samples_Split = 60\n",
    "# n_estimator = 100 ---------------------------------- Validation AUROC = 89.16%\n",
    "\n",
    "dtree = DecisionTreeClassifier(max_depth=8, min_samples_split=60)\n",
    "baggedModel = BaggingClassifier(base_estimator=dtree, n_estimators=100, oob_score=True)\n",
    "modelfit(baggedModel, train, predictors, target, printFeatureImportance=False)"
   ]
  },
  {
   "cell_type": "markdown",
   "id": "00fa88e9",
   "metadata": {},
   "source": [
    "**OBSERVATION & CONCLUSION**\n",
    "\n",
    "*The validation AUROC of the optimal decision tree is 88.55%. In contrast, the bagged model with this decision tree as a base classifier didn't make much difference in terms of AUROC. It is also observed that the change in n_estimators didn't make much of a difference (as mentiones in the Book ISLR)*\n",
    "\n",
    "**NOTE** - *The number of trees (B) is not a critical parameter with bagging; using a very high value of B will not lead to overfitting. In practice, we use a value of B sufficiently large that the error has settled. (From ISLR)*"
   ]
  },
  {
   "cell_type": "code",
   "execution_count": null,
   "id": "46f4f94c",
   "metadata": {},
   "outputs": [],
   "source": []
  },
  {
   "cell_type": "markdown",
   "id": "d2383275",
   "metadata": {},
   "source": []
  },
  {
   "cell_type": "code",
   "execution_count": null,
   "id": "30d461b2",
   "metadata": {},
   "outputs": [],
   "source": []
  },
  {
   "cell_type": "code",
   "execution_count": null,
   "id": "f66fbe9c",
   "metadata": {},
   "outputs": [],
   "source": []
  },
  {
   "cell_type": "code",
   "execution_count": 372,
   "id": "d7e6aa7a",
   "metadata": {},
   "outputs": [
    {
     "data": {
      "text/plain": [
       "array(['Low', 'Low', 'Low', 'Low', 'Low', 'High', 'High', 'Low', 'High',\n",
       "       'High', 'High', 'Low', 'Low', 'Low', 'Low', 'Low', 'Low', 'Low',\n",
       "       'High', 'Low', 'High', 'High', 'High', 'High', 'Low', 'Low', 'Low',\n",
       "       'Low', 'Low', 'Low', 'Low', 'Low', 'Low', 'Low', 'Low', 'Low',\n",
       "       'High', 'Low', 'Low', 'Low', 'High', 'High', 'Low', 'Low', 'Low',\n",
       "       'Low', 'Low', 'Low', 'Low', 'Low', 'Low', 'High', 'Low', 'High',\n",
       "       'Low', 'Low', 'Low', 'Low', 'Low', 'Low', 'Low', 'Low', 'Low',\n",
       "       'Low', 'High', 'Low', 'Low', 'High', 'Low', 'High', 'Low', 'Low',\n",
       "       'Low', 'High', 'Low', 'Low', 'Low', 'Low', 'Low', 'High', 'Low',\n",
       "       'High', 'Low', 'Low', 'High', 'Low', 'Low', 'Low', 'High', 'Low',\n",
       "       'Low', 'High', 'High', 'Low', 'High', 'High', 'Low', 'Low', 'High',\n",
       "       'Low', 'Low', 'High', 'High', 'Low', 'High', 'Low', 'High', 'Low',\n",
       "       'Low', 'Low', 'High', 'Low', 'High', 'Low', 'Low', 'Low', 'Low',\n",
       "       'Low', 'Low', 'Low', 'Low', 'Low', 'Low', 'Low', 'Low', 'Low',\n",
       "       'Low', 'Low', 'High', 'Low', 'Low', 'Low', 'Low', 'Low', 'Low',\n",
       "       'Low', 'Low', 'Low', 'Low', 'Low', 'Low', 'Low', 'High', 'Low',\n",
       "       'Low', 'Low', 'Low', 'Low', 'Low', 'Low', 'High', 'Low', 'Low',\n",
       "       'High', 'Low', 'Low', 'Low', 'High', 'Low', 'Low', 'Low', 'Low',\n",
       "       'Low', 'Low', 'Low', 'Low', 'Low', 'Low', 'Low', 'High', 'High',\n",
       "       'Low', 'Low', 'High', 'High', 'High', 'Low', 'High', 'Low', 'High',\n",
       "       'Low', 'Low', 'Low', 'Low', 'High', 'Low', 'Low', 'Low', 'Low',\n",
       "       'Low', 'Low', 'Low', 'Low', 'Low', 'High', 'Low', 'Low', 'High',\n",
       "       'Low', 'Low', 'Low', 'High', 'Low', 'High', 'High', 'Low', 'Low',\n",
       "       'Low', 'Low', 'Low', 'Low', 'Low', 'Low', 'Low', 'Low', 'Low',\n",
       "       'Low', 'Low', 'Low', 'Low', 'Low', 'Low', 'Low', 'High', 'Low',\n",
       "       'High', 'High', 'Low', 'Low', 'Low', 'Low', 'Low', 'Low', 'Low',\n",
       "       'Low', 'Low', 'High', 'Low', 'Low', 'Low', 'Low', 'Low', 'Low',\n",
       "       'Low', 'Low', 'High', 'Low', 'Low', 'Low', 'Low', 'Low', 'Low',\n",
       "       'High', 'Low', 'High', 'Low', 'Low', 'Low', 'High', 'High', 'Low',\n",
       "       'Low', 'Low', 'Low', 'Low', 'High', 'Low'], dtype=object)"
      ]
     },
     "execution_count": 372,
     "metadata": {},
     "output_type": "execute_result"
    }
   ],
   "source": [
    "### FITTING A RANDOM FOREST REGRESSOR \n",
    "# import the regressor\n",
    "from sklearn.ensemble import RandomForestClassifier\n",
    " \n",
    " # create regressor object\n",
    "rf_tree = RandomForestClassifier(n_estimators = 50, random_state = 0)\n",
    " \n",
    "# fit the regressor with x and y data\n",
    "rf_tree.fit(X_train, y_train)\n",
    "pred3 = rf_tree.predict(X_test)\n",
    "pred3\n",
    "\n"
   ]
  },
  {
   "cell_type": "code",
   "execution_count": 373,
   "id": "9f61cce0",
   "metadata": {},
   "outputs": [
    {
     "data": {
      "text/plain": [
       "array([[ 60,  19],\n",
       "       [  2, 186]], dtype=int64)"
      ]
     },
     "execution_count": 373,
     "metadata": {},
     "output_type": "execute_result"
    }
   ],
   "source": [
    "from sklearn.metrics import confusion_matrix\n",
    "\n",
    "cm3= confusion_matrix(y_test, pred3)\n",
    "cm3\n",
    "\n",
    "\n"
   ]
  },
  {
   "cell_type": "code",
   "execution_count": 374,
   "id": "f85c0ebc",
   "metadata": {},
   "outputs": [],
   "source": [
    "#Accuracy\n",
    "a4= (cm3[0,0]+cm3[1,1])/ (cm3[0,0]+cm3[0,1]+ cm3[1,0]+cm3[1,1])\n",
    "\n",
    "# Recall/ Sensitivity\n",
    "r4= (cm3[0,0])/ (cm3[0,0]+cm3[0,1])\n",
    "\n",
    "# Precision\n",
    "p4= (cm3[0,0])/ (cm3[0,0]+cm3[1,0])\n",
    "\n",
    "#Specificity\n",
    "s4= (cm3[1,1])/ (cm3[1,0]+cm3[1,1])\n",
    "\n",
    "#F1score:\n",
    "\n",
    "f4= (2* (r4*p4))/ (r4+p4)\n",
    "\n",
    "\n",
    "\n",
    "values4=[a4,r4,p4,s4,f4]\n",
    "\n",
    "\n",
    "\n"
   ]
  },
  {
   "cell_type": "code",
   "execution_count": 375,
   "id": "7b07d6ab",
   "metadata": {},
   "outputs": [
    {
     "data": {
      "text/html": [
       "<div>\n",
       "<style scoped>\n",
       "    .dataframe tbody tr th:only-of-type {\n",
       "        vertical-align: middle;\n",
       "    }\n",
       "\n",
       "    .dataframe tbody tr th {\n",
       "        vertical-align: top;\n",
       "    }\n",
       "\n",
       "    .dataframe thead th {\n",
       "        text-align: right;\n",
       "    }\n",
       "</style>\n",
       "<table border=\"1\" class=\"dataframe\">\n",
       "  <thead>\n",
       "    <tr style=\"text-align: right;\">\n",
       "      <th></th>\n",
       "      <th>Metrics</th>\n",
       "      <th>DT_Values</th>\n",
       "      <th>Hyper_DT_Values</th>\n",
       "      <th>Bagged_DT_Values</th>\n",
       "      <th>Random_Forest_Values</th>\n",
       "    </tr>\n",
       "  </thead>\n",
       "  <tbody>\n",
       "    <tr>\n",
       "      <th>0</th>\n",
       "      <td>Accuracy</td>\n",
       "      <td>0.872659</td>\n",
       "      <td>0.925094</td>\n",
       "      <td>0.928839</td>\n",
       "      <td>0.921348</td>\n",
       "    </tr>\n",
       "    <tr>\n",
       "      <th>1</th>\n",
       "      <td>Recall</td>\n",
       "      <td>0.784810</td>\n",
       "      <td>0.772152</td>\n",
       "      <td>0.772152</td>\n",
       "      <td>0.759494</td>\n",
       "    </tr>\n",
       "    <tr>\n",
       "      <th>2</th>\n",
       "      <td>Precision</td>\n",
       "      <td>0.784810</td>\n",
       "      <td>0.968254</td>\n",
       "      <td>0.983871</td>\n",
       "      <td>0.967742</td>\n",
       "    </tr>\n",
       "    <tr>\n",
       "      <th>3</th>\n",
       "      <td>Specificity</td>\n",
       "      <td>0.909574</td>\n",
       "      <td>0.989362</td>\n",
       "      <td>0.994681</td>\n",
       "      <td>0.989362</td>\n",
       "    </tr>\n",
       "    <tr>\n",
       "      <th>4</th>\n",
       "      <td>F1 Score</td>\n",
       "      <td>0.784810</td>\n",
       "      <td>0.859155</td>\n",
       "      <td>0.865248</td>\n",
       "      <td>0.851064</td>\n",
       "    </tr>\n",
       "  </tbody>\n",
       "</table>\n",
       "</div>"
      ],
      "text/plain": [
       "       Metrics  DT_Values  Hyper_DT_Values  Bagged_DT_Values  \\\n",
       "0     Accuracy   0.872659         0.925094          0.928839   \n",
       "1       Recall   0.784810         0.772152          0.772152   \n",
       "2    Precision   0.784810         0.968254          0.983871   \n",
       "3  Specificity   0.909574         0.989362          0.994681   \n",
       "4     F1 Score   0.784810         0.859155          0.865248   \n",
       "\n",
       "   Random_Forest_Values  \n",
       "0              0.921348  \n",
       "1              0.759494  \n",
       "2              0.967742  \n",
       "3              0.989362  \n",
       "4              0.851064  "
      ]
     },
     "execution_count": 375,
     "metadata": {},
     "output_type": "execute_result"
    }
   ],
   "source": [
    "\n",
    "\n",
    "\n",
    "metric = pd.DataFrame({'Metrics' :metrics, 'DT_Values': values1, 'Hyper_DT_Values': values2, 'Bagged_DT_Values': values3, 'Random_Forest_Values': values4})\n",
    "\n",
    "metric\n",
    "\n"
   ]
  },
  {
   "cell_type": "code",
   "execution_count": null,
   "id": "2a6ac5a9",
   "metadata": {},
   "outputs": [],
   "source": []
  },
  {
   "cell_type": "code",
   "execution_count": null,
   "id": "f5a390b5",
   "metadata": {},
   "outputs": [],
   "source": []
  },
  {
   "cell_type": "code",
   "execution_count": 368,
   "id": "7123f194",
   "metadata": {},
   "outputs": [
    {
     "data": {
      "text/plain": [
       "array(['Low', 'Low', 'Low', 'Low', 'Low', 'High', 'High', 'Low', 'High',\n",
       "       'High', 'High', 'Low', 'Low', 'Low', 'Low', 'Low', 'Low', 'Low',\n",
       "       'High', 'Low', 'High', 'High', 'High', 'High', 'Low', 'Low', 'Low',\n",
       "       'Low', 'Low', 'Low', 'Low', 'Low', 'Low', 'Low', 'Low', 'Low',\n",
       "       'High', 'Low', 'Low', 'Low', 'High', 'High', 'Low', 'Low', 'Low',\n",
       "       'Low', 'Low', 'Low', 'Low', 'Low', 'Low', 'High', 'Low', 'High',\n",
       "       'Low', 'Low', 'Low', 'Low', 'Low', 'Low', 'Low', 'Low', 'Low',\n",
       "       'Low', 'High', 'Low', 'Low', 'High', 'Low', 'High', 'Low', 'Low',\n",
       "       'Low', 'High', 'Low', 'Low', 'Low', 'Low', 'Low', 'High', 'Low',\n",
       "       'High', 'Low', 'Low', 'High', 'Low', 'Low', 'Low', 'High', 'Low',\n",
       "       'Low', 'High', 'High', 'Low', 'High', 'High', 'Low', 'Low', 'High',\n",
       "       'Low', 'Low', 'High', 'High', 'Low', 'High', 'Low', 'High', 'Low',\n",
       "       'Low', 'Low', 'High', 'Low', 'High', 'Low', 'Low', 'Low', 'Low',\n",
       "       'Low', 'Low', 'Low', 'Low', 'Low', 'Low', 'Low', 'Low', 'Low',\n",
       "       'Low', 'Low', 'High', 'Low', 'Low', 'Low', 'Low', 'Low', 'Low',\n",
       "       'Low', 'Low', 'Low', 'Low', 'Low', 'Low', 'Low', 'High', 'Low',\n",
       "       'Low', 'Low', 'Low', 'Low', 'Low', 'Low', 'High', 'Low', 'Low',\n",
       "       'High', 'Low', 'Low', 'Low', 'High', 'Low', 'Low', 'Low', 'Low',\n",
       "       'Low', 'Low', 'Low', 'Low', 'Low', 'Low', 'Low', 'High', 'High',\n",
       "       'Low', 'Low', 'High', 'High', 'High', 'Low', 'High', 'Low', 'High',\n",
       "       'Low', 'Low', 'Low', 'Low', 'High', 'Low', 'Low', 'Low', 'Low',\n",
       "       'Low', 'Low', 'Low', 'Low', 'Low', 'High', 'Low', 'Low', 'High',\n",
       "       'Low', 'Low', 'Low', 'High', 'Low', 'High', 'High', 'Low', 'Low',\n",
       "       'Low', 'Low', 'Low', 'Low', 'Low', 'Low', 'Low', 'Low', 'Low',\n",
       "       'Low', 'Low', 'Low', 'Low', 'Low', 'Low', 'Low', 'High', 'Low',\n",
       "       'High', 'High', 'Low', 'Low', 'Low', 'Low', 'Low', 'Low', 'Low',\n",
       "       'Low', 'Low', 'High', 'Low', 'Low', 'Low', 'Low', 'Low', 'Low',\n",
       "       'Low', 'Low', 'High', 'Low', 'Low', 'Low', 'Low', 'Low', 'Low',\n",
       "       'High', 'Low', 'High', 'Low', 'Low', 'Low', 'High', 'High', 'Low',\n",
       "       'Low', 'Low', 'Low', 'Low', 'High', 'Low'], dtype=object)"
      ]
     },
     "execution_count": 368,
     "metadata": {},
     "output_type": "execute_result"
    }
   ],
   "source": [
    "import sklearn.ensemble as ensemble\n",
    "\n",
    "adaBoost = ensemble.AdaBoostClassifier()\n",
    "\n",
    "boost_tree= adaBoost.fit(X_train,y_train)\n",
    "\n",
    "pred4 = boost_tree.predict(X_test)\n",
    "pred4"
   ]
  },
  {
   "cell_type": "code",
   "execution_count": 369,
   "id": "096679cd",
   "metadata": {},
   "outputs": [
    {
     "data": {
      "text/plain": [
       "array([[ 60,  19],\n",
       "       [  2, 186]], dtype=int64)"
      ]
     },
     "execution_count": 369,
     "metadata": {},
     "output_type": "execute_result"
    }
   ],
   "source": [
    "from sklearn.metrics import confusion_matrix\n",
    "\n",
    "cm4= confusion_matrix(y_test, pred4)\n",
    "cm4\n"
   ]
  },
  {
   "cell_type": "code",
   "execution_count": 370,
   "id": "2dbdcccb",
   "metadata": {},
   "outputs": [],
   "source": [
    "#Accuracy\n",
    "a5= (cm4[0,0]+cm4[1,1])/ (cm4[0,0]+cm4[0,1]+ cm4[1,0]+cm4[1,1])\n",
    "\n",
    "# Recall/ Sensitivity\n",
    "r5= (cm4[0,0])/ (cm4[0,0]+cm4[0,1])\n",
    "\n",
    "# Precision\n",
    "p5= (cm4[0,0])/ (cm4[0,0]+cm4[1,0])\n",
    "\n",
    "#Specificity\n",
    "s5= (cm4[1,1])/ (cm4[1,0]+cm4[1,1])\n",
    "\n",
    "#F1score:\n",
    "\n",
    "f5= (2* (r5*p5))/ (r5+p5)\n",
    "\n",
    "\n",
    "\n",
    "values5=[a5,r5,p5,s5,f5]\n",
    "\n",
    "\n",
    "\n"
   ]
  },
  {
   "cell_type": "code",
   "execution_count": 371,
   "id": "a24dfcc7",
   "metadata": {},
   "outputs": [
    {
     "data": {
      "text/html": [
       "<div>\n",
       "<style scoped>\n",
       "    .dataframe tbody tr th:only-of-type {\n",
       "        vertical-align: middle;\n",
       "    }\n",
       "\n",
       "    .dataframe tbody tr th {\n",
       "        vertical-align: top;\n",
       "    }\n",
       "\n",
       "    .dataframe thead th {\n",
       "        text-align: right;\n",
       "    }\n",
       "</style>\n",
       "<table border=\"1\" class=\"dataframe\">\n",
       "  <thead>\n",
       "    <tr style=\"text-align: right;\">\n",
       "      <th></th>\n",
       "      <th>Metrics</th>\n",
       "      <th>DT_Values</th>\n",
       "      <th>Hyper_DT_Values</th>\n",
       "      <th>Bagged_DT_Values</th>\n",
       "      <th>Random_Forest_Values</th>\n",
       "      <th>AdaBoost</th>\n",
       "    </tr>\n",
       "  </thead>\n",
       "  <tbody>\n",
       "    <tr>\n",
       "      <th>0</th>\n",
       "      <td>Accuracy</td>\n",
       "      <td>0.872659</td>\n",
       "      <td>0.925094</td>\n",
       "      <td>0.928839</td>\n",
       "      <td>0.921348</td>\n",
       "      <td>0.921348</td>\n",
       "    </tr>\n",
       "    <tr>\n",
       "      <th>1</th>\n",
       "      <td>Recall</td>\n",
       "      <td>0.784810</td>\n",
       "      <td>0.772152</td>\n",
       "      <td>0.772152</td>\n",
       "      <td>0.759494</td>\n",
       "      <td>0.759494</td>\n",
       "    </tr>\n",
       "    <tr>\n",
       "      <th>2</th>\n",
       "      <td>Precision</td>\n",
       "      <td>0.784810</td>\n",
       "      <td>0.968254</td>\n",
       "      <td>0.983871</td>\n",
       "      <td>0.967742</td>\n",
       "      <td>0.967742</td>\n",
       "    </tr>\n",
       "    <tr>\n",
       "      <th>3</th>\n",
       "      <td>Specificity</td>\n",
       "      <td>0.909574</td>\n",
       "      <td>0.989362</td>\n",
       "      <td>0.994681</td>\n",
       "      <td>0.989362</td>\n",
       "      <td>0.989362</td>\n",
       "    </tr>\n",
       "    <tr>\n",
       "      <th>4</th>\n",
       "      <td>F1 Score</td>\n",
       "      <td>0.784810</td>\n",
       "      <td>0.859155</td>\n",
       "      <td>0.865248</td>\n",
       "      <td>0.851064</td>\n",
       "      <td>0.851064</td>\n",
       "    </tr>\n",
       "  </tbody>\n",
       "</table>\n",
       "</div>"
      ],
      "text/plain": [
       "       Metrics  DT_Values  Hyper_DT_Values  Bagged_DT_Values  \\\n",
       "0     Accuracy   0.872659         0.925094          0.928839   \n",
       "1       Recall   0.784810         0.772152          0.772152   \n",
       "2    Precision   0.784810         0.968254          0.983871   \n",
       "3  Specificity   0.909574         0.989362          0.994681   \n",
       "4     F1 Score   0.784810         0.859155          0.865248   \n",
       "\n",
       "   Random_Forest_Values  AdaBoost  \n",
       "0              0.921348  0.921348  \n",
       "1              0.759494  0.759494  \n",
       "2              0.967742  0.967742  \n",
       "3              0.989362  0.989362  \n",
       "4              0.851064  0.851064  "
      ]
     },
     "execution_count": 371,
     "metadata": {},
     "output_type": "execute_result"
    }
   ],
   "source": [
    "metric = pd.DataFrame({'Metrics' :metrics, 'DT_Values': values1, 'Hyper_DT_Values': values2, 'Bagged_DT_Values': values3, 'Random_Forest_Values': values4, 'AdaBoost': values5})\n",
    "\n",
    "metric\n"
   ]
  },
  {
   "cell_type": "code",
   "execution_count": null,
   "id": "ef07484e",
   "metadata": {},
   "outputs": [],
   "source": []
  },
  {
   "cell_type": "markdown",
   "id": "ce859257",
   "metadata": {},
   "source": [
    "## Observations: \n",
    "\n",
    "1. *A well tuned decision tree can compete well with a bagged decision tree model in this example. However, it must be noted that Bagging was not designed to ensemble a bunch of tuned (or prunned decision tree). These trees have their variance adjusted and hence a Bagging algorithm may not make any significant difference.*\n",
    "\n",
    "\n",
    "\n",
    "\n",
    "2. *Principle of Parsimony says that among all competing models choose the simplest one. Following this principle, for this example we should choose the optimal (hyperparameter tuned) decision tree model instead of a any bagged model.*\n",
    "\n",
    "\n",
    "\n",
    "\n",
    "3. *Bagging for decision tree is intended to ensemble rather wild decision trees that are not pruned. In such cases, if the individual decision trees have lower accuracy (<< 50%), a bagged decision tree algorithm may significantly improve the performance of the models. We have observed the same in Experiment 1 (bagging).*\n",
    "\n"
   ]
  },
  {
   "cell_type": "markdown",
   "id": "2ba99b86",
   "metadata": {},
   "source": [
    "Final Conclusion: The Confusion Matrix metrics and AUC_ROC scores are comparatively better for tuned Decision Tree and Bagged Models; so we will consider these models in this case according to business requirement. Random Forest is also giving comparable results. In the current situation, Precision and Recall are important measures since both FP and FN are unacceptable in financial insurance claims. Hence we can either choose the DT or Bagged Model."
   ]
  },
  {
   "cell_type": "code",
   "execution_count": null,
   "id": "e8784fe7",
   "metadata": {},
   "outputs": [],
   "source": []
  }
 ],
 "metadata": {
  "kernelspec": {
   "display_name": "Python 3 (ipykernel)",
   "language": "python",
   "name": "python3"
  },
  "language_info": {
   "codemirror_mode": {
    "name": "ipython",
    "version": 3
   },
   "file_extension": ".py",
   "mimetype": "text/x-python",
   "name": "python",
   "nbconvert_exporter": "python",
   "pygments_lexer": "ipython3",
   "version": "3.9.7"
  }
 },
 "nbformat": 4,
 "nbformat_minor": 5
}
